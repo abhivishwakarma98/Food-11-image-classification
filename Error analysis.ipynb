{
 "cells": [
  {
   "cell_type": "markdown",
   "metadata": {},
   "source": [
    "### Error analysis\n",
    "\n",
    "Error analysis is particularly useful in finding where is model does mistakes and inturn provides some\n",
    "strategies to improve model performance"
   ]
  },
  {
   "cell_type": "code",
   "execution_count": 1,
   "metadata": {},
   "outputs": [],
   "source": [
    "import numpy as np\n",
    "import pandas as pd\n",
    "import matplotlib.pyplot as plt\n",
    "import seaborn as sns\n",
    "import tensorflow as tf\n",
    "import os\n",
    "import utils"
   ]
  },
  {
   "cell_type": "code",
   "execution_count": 2,
   "metadata": {},
   "outputs": [],
   "source": [
    "with open('class_list.txt', 'r') as fp:\n",
    "    classes_list = fp.read().split(',')"
   ]
  },
  {
   "cell_type": "code",
   "execution_count": 3,
   "metadata": {},
   "outputs": [],
   "source": [
    "for i in range(1, len(classes_list)):\n",
    "    classes_list[i] = classes_list[i][2:]"
   ]
  },
  {
   "cell_type": "code",
   "execution_count": 4,
   "metadata": {},
   "outputs": [
    {
     "data": {
      "text/plain": [
       "['Bread',\n",
       " 'Dairy product',\n",
       " 'Dessert',\n",
       " 'Egg',\n",
       " 'Fried food',\n",
       " 'Meat',\n",
       " 'Noodles/Pasta',\n",
       " 'Rice',\n",
       " 'Seafood',\n",
       " 'Soup',\n",
       " 'Vegetable/Fruit. ']"
      ]
     },
     "execution_count": 4,
     "metadata": {},
     "output_type": "execute_result"
    }
   ],
   "source": [
    "classes_list"
   ]
  },
  {
   "cell_type": "code",
   "execution_count": 5,
   "metadata": {},
   "outputs": [],
   "source": [
    "training_samples_class = {}\n",
    "validation_samples_class = {}"
   ]
  },
  {
   "cell_type": "code",
   "execution_count": 6,
   "metadata": {},
   "outputs": [],
   "source": [
    "for i in range(11):\n",
    "    training_samples_class[classes_list[i]] = len(os.listdir('./training/' + str(i)))\n",
    "    validation_samples_class[classes_list[i]] = len(os.listdir('./validation/' + str(i)))"
   ]
  },
  {
   "cell_type": "code",
   "execution_count": 7,
   "metadata": {},
   "outputs": [
    {
     "data": {
      "text/plain": [
       "{'Bread': 994,\n",
       " 'Dairy product': 429,\n",
       " 'Dessert': 1500,\n",
       " 'Egg': 986,\n",
       " 'Fried food': 848,\n",
       " 'Meat': 1325,\n",
       " 'Noodles/Pasta': 440,\n",
       " 'Rice': 280,\n",
       " 'Seafood': 855,\n",
       " 'Soup': 1500,\n",
       " 'Vegetable/Fruit. ': 709}"
      ]
     },
     "execution_count": 7,
     "metadata": {},
     "output_type": "execute_result"
    }
   ],
   "source": [
    "training_samples_class"
   ]
  },
  {
   "cell_type": "code",
   "execution_count": 8,
   "metadata": {},
   "outputs": [
    {
     "data": {
      "text/plain": [
       "{'Bread': 362,\n",
       " 'Dairy product': 144,\n",
       " 'Dessert': 500,\n",
       " 'Egg': 327,\n",
       " 'Fried food': 326,\n",
       " 'Meat': 449,\n",
       " 'Noodles/Pasta': 147,\n",
       " 'Rice': 96,\n",
       " 'Seafood': 347,\n",
       " 'Soup': 500,\n",
       " 'Vegetable/Fruit. ': 232}"
      ]
     },
     "execution_count": 8,
     "metadata": {},
     "output_type": "execute_result"
    }
   ],
   "source": [
    "validation_samples_class"
   ]
  },
  {
   "cell_type": "markdown",
   "metadata": {},
   "source": [
    "### Load Xception model\n",
    "\n",
    "The xception model shown to perform best on this dataset as compared with the resnet50 and mobilenet \n",
    "architechture. The model has shown results :<br>\n",
    "\n",
    "Training accuracy:- 0.8435<br>\n",
    "Validation accuracy:- 0.80053<br>\n",
    "Test accuracy:- 0.8173<br>\n",
    "\n",
    "Error in training data:- 0.1665 => 16.65%<br>\n",
    "Error in validation data:- 0.19947 => 19.947%<br>\n",
    "Error in test data:- 0.1827 => 18.27%<br>"
   ]
  },
  {
   "cell_type": "markdown",
   "metadata": {},
   "source": [
    "### Lets create a dataframe\n",
    "\n",
    "Create a dataframe which stores the results in format:<br>\n",
    "\n",
    "Rows => No of classes<br>\n",
    "Columns => [Total training samples, Proportion of training  data, Correctly classified, Wrongly classified, Training accuracy, % Error, % contrib to total error, Total validation samples, Proportion of validation data, Correctly classified, Wrongly classified, Validation accuracy, % Error , % contrib to total error]<br><br>\n",
    "Total rows => NUM_CLASSES => 11<br>\n",
    "Total columns => 14<br>"
   ]
  },
  {
   "cell_type": "code",
   "execution_count": 17,
   "metadata": {},
   "outputs": [],
   "source": [
    "model = tf.keras.models.load_model('./models/xception-72-0.80.hdf5')"
   ]
  },
  {
   "cell_type": "code",
   "execution_count": 18,
   "metadata": {},
   "outputs": [],
   "source": [
    "model_analysis = np.zeros((len(classes_list), 14))"
   ]
  },
  {
   "cell_type": "code",
   "execution_count": 19,
   "metadata": {},
   "outputs": [],
   "source": [
    "# Adding total training and validation samples per class to df\n",
    "model_analysis[:, 0] = list(training_samples_class.values())\n",
    "model_analysis[:, 7] = list(validation_samples_class.values())"
   ]
  },
  {
   "cell_type": "code",
   "execution_count": 20,
   "metadata": {},
   "outputs": [],
   "source": [
    "total_training_samples = sum(list(training_samples_class.values()))\n",
    "total_validation_samples = sum(list(validation_samples_class.values()))"
   ]
  },
  {
   "cell_type": "code",
   "execution_count": 21,
   "metadata": {},
   "outputs": [],
   "source": [
    "# Find % contribution of data per class in the total data\n",
    "model_analysis[:, 1] = model_analysis[:, 0]\n",
    "model_analysis[:, 1] = model_analysis[:, 1]*100 / total_training_samples\n",
    "model_analysis[:, 8] = model_analysis[:, 7]\n",
    "model_analysis[:, 8] = model_analysis[:, 8]*100 / total_validation_samples"
   ]
  },
  {
   "cell_type": "code",
   "execution_count": 111,
   "metadata": {},
   "outputs": [],
   "source": [
    "datagen = tf.keras.preprocessing.image.ImageDataGenerator(\n",
    "    preprocessing_function=tf.keras.applications.xception.preprocess_input,\n",
    "    rescale=1.0/255.0\n",
    ")"
   ]
  },
  {
   "cell_type": "code",
   "execution_count": 46,
   "metadata": {},
   "outputs": [],
   "source": [
    "def correctly_classified(directory):\n",
    "    \n",
    "    correctly_classified = {}\n",
    "    for i in range(11):\n",
    "        correctly_classified[i] = 0\n",
    "    \n",
    "    generator = datagen.flow_from_directory(directory, target_size=(224, 224), batch_size=1, shuffle=False)\n",
    "    predictions = model.predict_generator(generator, steps=len(generator.filenames))\n",
    "    preds = np.argmax(predictions, axis=-1)\n",
    "    \n",
    "    for i in range(len(generator.filenames)):\n",
    "        current_class = int(generator.filenames[i].split(\"\\\\\")[0])\n",
    "        if current_class == preds[i]:\n",
    "            correctly_classified[current_class] = correctly_classified[current_class] + 1\n",
    "        \n",
    "    return correctly_classified"
   ]
  },
  {
   "cell_type": "code",
   "execution_count": null,
   "metadata": {},
   "outputs": [],
   "source": []
  }
 ],
 "metadata": {
  "kernelspec": {
   "display_name": "Python 3",
   "language": "python",
   "name": "python3"
  },
  "language_info": {
   "codemirror_mode": {
    "name": "ipython",
    "version": 3
   },
   "file_extension": ".py",
   "mimetype": "text/x-python",
   "name": "python",
   "nbconvert_exporter": "python",
   "pygments_lexer": "ipython3",
   "version": "3.7.6"
  }
 },
 "nbformat": 4,
 "nbformat_minor": 4
}

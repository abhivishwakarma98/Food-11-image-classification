{
 "cells": [
  {
   "cell_type": "code",
   "execution_count": 1,
   "metadata": {},
   "outputs": [],
   "source": [
    "import tensorflow as tf"
   ]
  },
  {
   "cell_type": "code",
   "execution_count": 2,
   "metadata": {},
   "outputs": [],
   "source": [
    "class ModelTrain:\n",
    "\n",
    "    def __init__(self, model, target_dim, batch_size):\n",
    "        self.model = model\n",
    "        self.target_dim = target_dim\n",
    "        self.batch_size = batch_size\n",
    "        \n",
    "    def freeze_layers(self, no_layers):\n",
    "        \n",
    "        for layers in self.model.layers[:-no_layers]:\n",
    "            layers.trainable = False\n",
    "\n",
    "        for layers in self.model.layers[-no_layers:]:\n",
    "            layers.trainable = True \n",
    "        \n",
    "    def train(self, train_generator, val_generator, callbacks = [], epochs = 50):\n",
    "        \n",
    "        self.model.fit_generator(\n",
    "            train_generator,\n",
    "            steps_per_epoch=train_generator.samples // self.batch_size,\n",
    "            validation_data=validation_generator,\n",
    "            validation_steps=validation_generator.samples // self.batch_size,\n",
    "            callbacks=[callbacks],\n",
    "            epochs=epochs\n",
    "        )\n",
    "        \n",
    "        return model\n",
    "        "
   ]
  },
  {
   "cell_type": "code",
   "execution_count": 3,
   "metadata": {},
   "outputs": [],
   "source": [
    "class TrainingCheckpoint(tf.keras.callbacks.Callback):\n",
    "    def on_epoch_end(self, logs, epoch):\n",
    "        if logs['acc'] > 0.90:\n",
    "            print(\"Reached target training accuracy\")\n",
    "            self.model.stop_training = True"
   ]
  },
  {
   "cell_type": "code",
   "execution_count": null,
   "metadata": {},
   "outputs": [],
   "source": []
  }
 ],
 "metadata": {
  "kernelspec": {
   "display_name": "Python 3",
   "language": "python",
   "name": "python3"
  },
  "language_info": {
   "codemirror_mode": {
    "name": "ipython",
    "version": 3
   },
   "file_extension": ".py",
   "mimetype": "text/x-python",
   "name": "python",
   "nbconvert_exporter": "python",
   "pygments_lexer": "ipython3",
   "version": "3.7.7"
  }
 },
 "nbformat": 4,
 "nbformat_minor": 4
}

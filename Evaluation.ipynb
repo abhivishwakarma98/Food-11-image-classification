{
 "cells": [
  {
   "cell_type": "code",
   "execution_count": 1,
   "metadata": {},
   "outputs": [],
   "source": [
    "import os\n",
    "import tensorflow as tf\n",
    "import numpy as np"
   ]
  },
  {
   "cell_type": "code",
   "execution_count": 4,
   "metadata": {},
   "outputs": [],
   "source": [
    "NUM_CLASSES = 11"
   ]
  },
  {
   "cell_type": "code",
   "execution_count": 5,
   "metadata": {},
   "outputs": [],
   "source": [
    "def prepare_data(folder):\n",
    "    \n",
    "    # Creating subdirectories for 11 classes.\n",
    "    for i in range(NUM_CLASSES):\n",
    "        os.mkdir(path=folder + str(i))\n",
    "        \n",
    "    # Move the images to specific directories\n",
    "    for path in os.listdir(folder):\n",
    "        if os.path.isdir(folder + path) == False:\n",
    "            file_array = path.split('_')\n",
    "            os.rename(folder + path, folder + file_array[0] + '/' + file_array[1])"
   ]
  },
  {
   "cell_type": "code",
   "execution_count": 7,
   "metadata": {},
   "outputs": [],
   "source": [
    "prepare_data('./evaluation/')"
   ]
  },
  {
   "cell_type": "code",
   "execution_count": 17,
   "metadata": {},
   "outputs": [],
   "source": [
    "TARGET_DIM = 224\n",
    "BATCH_SIZE = 32"
   ]
  },
  {
   "cell_type": "code",
   "execution_count": 18,
   "metadata": {},
   "outputs": [],
   "source": [
    "def get_datagen(preprocessing_fun):\n",
    "    return tf.keras.preprocessing.image.ImageDataGenerator(\n",
    "        preprocessing_function=preprocessing_fun,\n",
    "        rescale=1.0/255.0\n",
    "    )"
   ]
  },
  {
   "cell_type": "code",
   "execution_count": 19,
   "metadata": {},
   "outputs": [],
   "source": [
    "def evaluate():\n",
    "    \n",
    "    preprocessing_funs = [\n",
    "        tf.keras.applications.mobilenet.preprocess_input,\n",
    "        tf.keras.applications.resnet50.preprocess_input,\n",
    "        tf.keras.applications.xception.preprocess_input\n",
    "    ]\n",
    "    \n",
    "    predictions = []\n",
    "    models_list = os.listdir('./models/')\n",
    "    \n",
    "    for i in range(len(models_list)):\n",
    "        \n",
    "        print(\"Evaluating \" + str(models_list[i]))\n",
    "        model = tf.keras.models.load_model('./models/' + models_list[i])\n",
    "        datagen = get_datagen(preprocessing_funs[i])\n",
    "        \n",
    "        test_generator = datagen.flow_from_directory(\n",
    "            directory='./evaluation/', \n",
    "            target_size=(TARGET_DIM, TARGET_DIM),\n",
    "            batch_size=BATCH_SIZE,\n",
    "            shuffle=False\n",
    "        )\n",
    "        \n",
    "        predictions.append(model.evaluate_generator(test_generator, steps=test_generator.samples // BATCH_SIZE))\n",
    "    \n",
    "    return predictions"
   ]
  },
  {
   "cell_type": "code",
   "execution_count": 20,
   "metadata": {},
   "outputs": [
    {
     "name": "stdout",
     "output_type": "stream",
     "text": [
      "Evaluating mobilenet-41-0.74.hdf5\n",
      "Found 3347 images belonging to 11 classes.\n",
      "WARNING:tensorflow:From <ipython-input-19-12b29498f3e4>:25: Model.evaluate_generator (from tensorflow.python.keras.engine.training) is deprecated and will be removed in a future version.\n",
      "Instructions for updating:\n",
      "Please use Model.evaluate, which supports generators.\n",
      "Evaluating resnet50-47-0.77.hdf5\n",
      "Found 3347 images belonging to 11 classes.\n",
      "Evaluating xception-72-0.80.hdf5\n",
      "Found 3347 images belonging to 11 classes.\n"
     ]
    }
   ],
   "source": [
    "predictions = evaluate()"
   ]
  },
  {
   "cell_type": "code",
   "execution_count": 22,
   "metadata": {},
   "outputs": [],
   "source": [
    "predictions = np.array(predictions)"
   ]
  },
  {
   "cell_type": "code",
   "execution_count": 27,
   "metadata": {},
   "outputs": [
    {
     "name": "stdout",
     "output_type": "stream",
     "text": [
      "Maximum accuracy: 0.817307710647583\n"
     ]
    }
   ],
   "source": [
    "print(\"Maximum accuracy: \" + str(max(predictions[:, 1])))"
   ]
  },
  {
   "cell_type": "code",
   "execution_count": 28,
   "metadata": {},
   "outputs": [
    {
     "name": "stdout",
     "output_type": "stream",
     "text": [
      "Model with max accuracy: 2\n"
     ]
    }
   ],
   "source": [
    "print(\"Model with max accuracy: \" + str(np.argmax(predictions[:, 1])))"
   ]
  },
  {
   "cell_type": "markdown",
   "metadata": {},
   "source": [
    "### Results:\n",
    "\n",
    "Xception model yields maximum accuracy on test data with 0.8173"
   ]
  },
  {
   "cell_type": "code",
   "execution_count": null,
   "metadata": {},
   "outputs": [],
   "source": []
  }
 ],
 "metadata": {
  "kernelspec": {
   "display_name": "Python 3",
   "language": "python",
   "name": "python3"
  },
  "language_info": {
   "codemirror_mode": {
    "name": "ipython",
    "version": 3
   },
   "file_extension": ".py",
   "mimetype": "text/x-python",
   "name": "python",
   "nbconvert_exporter": "python",
   "pygments_lexer": "ipython3",
   "version": "3.7.6"
  }
 },
 "nbformat": 4,
 "nbformat_minor": 4
}

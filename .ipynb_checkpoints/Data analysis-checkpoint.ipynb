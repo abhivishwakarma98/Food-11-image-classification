{
 "cells": [
  {
   "cell_type": "code",
   "execution_count": 15,
   "metadata": {},
   "outputs": [],
   "source": [
    "import numpy as np\n",
    "import matplotlib.pyplot as plt\n",
    "import tensorflow as tf\n",
    "import os\n",
    "import pandas as pd\n",
    "import seaborn as sns"
   ]
  },
  {
   "cell_type": "code",
   "execution_count": 3,
   "metadata": {},
   "outputs": [
    {
     "data": {
      "text/plain": [
       "['.git',\n",
       " '.ipynb_checkpoints',\n",
       " 'evaluation',\n",
       " 'Food analysis.ipynb',\n",
       " 'README.md',\n",
       " 'training',\n",
       " 'validation']"
      ]
     },
     "execution_count": 3,
     "metadata": {},
     "output_type": "execute_result"
    }
   ],
   "source": [
    "os.listdir('.')"
   ]
  },
  {
   "cell_type": "markdown",
   "metadata": {},
   "source": [
    "### Data preparation\n",
    "\n",
    "The dataset is seperated into 3 folders: training, validation and evaluation.\n",
    "The images are named by convention as: {class_id}-{image_id}.jpg. Create subfolders inside training and validation for ImageDataGenerator to recognize classes."
   ]
  },
  {
   "cell_type": "code",
   "execution_count": 14,
   "metadata": {},
   "outputs": [],
   "source": [
    "NUM_CLASSES = 11"
   ]
  },
  {
   "cell_type": "code",
   "execution_count": 8,
   "metadata": {},
   "outputs": [
    {
     "data": {
      "text/plain": [
       "'0.jpg'"
      ]
     },
     "execution_count": 8,
     "metadata": {},
     "output_type": "execute_result"
    }
   ],
   "source": [
    "os.listdir('./training/')[0].split('_')[1]"
   ]
  },
  {
   "cell_type": "code",
   "execution_count": 11,
   "metadata": {},
   "outputs": [],
   "source": [
    "def prepare_data(folder):\n",
    "    \n",
    "    # Creating subdirectories for 11 classes.\n",
    "    for i in range(NUM_CLASSES):\n",
    "        os.mkdir(path=folder + str(i))\n",
    "        \n",
    "    # Move the images to specific directories\n",
    "    for path in os.listdir(folder):\n",
    "        if os.path.isdir(folder + path) == False:\n",
    "            file_array = path.split('_')\n",
    "            os.rename(folder + path, folder + file_array[0] + '/' + file_array[1])"
   ]
  },
  {
   "cell_type": "code",
   "execution_count": 12,
   "metadata": {},
   "outputs": [],
   "source": [
    "prepare_data('./training/')"
   ]
  },
  {
   "cell_type": "code",
   "execution_count": 13,
   "metadata": {},
   "outputs": [],
   "source": [
    "prepare_data('./validation/')"
   ]
  },
  {
   "cell_type": "markdown",
   "metadata": {},
   "source": [
    "### Finding data distribution"
   ]
  },
  {
   "cell_type": "code",
   "execution_count": 18,
   "metadata": {},
   "outputs": [],
   "source": [
    "def get_data_distribution():\n",
    "    \n",
    "    training_per_class = {}\n",
    "    validation_per_class = {}\n",
    "    test_data = 0\n",
    "    training_data = 0\n",
    "    validation_data = 0\n",
    "    \n",
    "    for i in range(NUM_CLASSES):\n",
    "        training_per_class[i] = len(os.listdir('./training/' + str(i)))\n",
    "        validation_per_class[i] = len(os.listdir('./validation/' + str(i)))\n",
    "        \n",
    "    training_data = sum(list(training_per_class.values()))\n",
    "    validation_data = sum(list(validation_per_class.values()))\n",
    "    test_data = len(os.listdir('./evaluation/'))\n",
    "    \n",
    "    print('Training data size: ' + str(training_data))\n",
    "    print('Validation data size: ' + str(validation_data))\n",
    "    print('Test data size: ' + str(test_data))\n",
    "    total = training_data + validation_data + test_data\n",
    "    print('Training set proportion: ' + str(training_data / total))\n",
    "    print('Validation set proportion: ' + str(validation_data / total))\n",
    "    print('Testing set proportion: ' + str(test_data / total))\n",
    "\n",
    "    return training_per_class, validation_per_class"
   ]
  },
  {
   "cell_type": "code",
   "execution_count": 19,
   "metadata": {},
   "outputs": [
    {
     "name": "stdout",
     "output_type": "stream",
     "text": [
      "Training data size: 9866\n",
      "Validation data size: 3430\n",
      "Test data size: 3347\n",
      "Training set proportion: 0.5928017785255062\n",
      "Validation set proportion: 0.2060926515652226\n",
      "Testing set proportion: 0.20110556990927117\n"
     ]
    }
   ],
   "source": [
    "training_per_class, validation_per_class = get_data_distribution()"
   ]
  },
  {
   "cell_type": "code",
   "execution_count": 22,
   "metadata": {},
   "outputs": [],
   "source": [
    "training_per_class = pd.DataFrame.from_dict(training_per_class, orient='index', columns=['freq'])\n",
    "validation_per_class = pd.DataFrame.from_dict(validation_per_class, orient='index', columns=['freq'])"
   ]
  },
  {
   "cell_type": "code",
   "execution_count": 23,
   "metadata": {},
   "outputs": [],
   "source": [
    "training_per_class['class'] = training_per_class.index\n",
    "validation_per_class['class'] = validation_per_class.index"
   ]
  },
  {
   "cell_type": "code",
   "execution_count": null,
   "metadata": {},
   "outputs": [],
   "source": [
    "training_per_class['freq'] = training_per_class['freq'] / sum(training_per_class['freq'])\n",
    "validation_per_class['freq'] = training_per_class['freq'] / sum(validation_per_class['freq'])"
   ]
  },
  {
   "cell_type": "code",
   "execution_count": 29,
   "metadata": {},
   "outputs": [
    {
     "data": {
      "text/plain": [
       "<matplotlib.axes._subplots.AxesSubplot at 0x26aec81c748>"
      ]
     },
     "execution_count": 29,
     "metadata": {},
     "output_type": "execute_result"
    },
    {
     "data": {
      "image/png": "[encoded data removed]",
      "text/plain": [
       "<Figure size 432x288 with 1 Axes>"
      ]
     },
     "metadata": {
      "needs_background": "light"
     },
     "output_type": "display_data"
    }
   ],
   "source": [
    "sns.barplot(x='class', y='freq', data=training_per_class)"
   ]
  },
  {
   "cell_type": "code",
   "execution_count": 30,
   "metadata": {},
   "outputs": [
    {
     "data": {
      "text/plain": [
       "<matplotlib.axes._subplots.AxesSubplot at 0x26aec4a0390>"
      ]
     },
     "execution_count": 30,
     "metadata": {},
     "output_type": "execute_result"
    },
    {
     "data": {
      "image/png": "[encoded data removed]",
      "text/plain": [
       "<Figure size 432x288 with 1 Axes>"
      ]
     },
     "metadata": {
      "needs_background": "light"
     },
     "output_type": "display_data"
    }
   ],
   "source": [
    "sns.barplot(x='class', y='freq', data=validation_per_class)"
   ]
  },
  {
   "cell_type": "markdown",
   "metadata": {},
   "source": [
    "### Observations:\n",
    "\n",
    "It appears that data in both training and validation set for each class is proportionally same. This will not cause any data mismatch problem while training model."
   ]
  },
  {
   "cell_type": "code",
   "execution_count": null,
   "metadata": {},
   "outputs": [],
   "source": []
  }
 ],
 "metadata": {
  "kernelspec": {
   "display_name": "Python 3",
   "language": "python",
   "name": "python3"
  },
  "language_info": {
   "codemirror_mode": {
    "name": "ipython",
    "version": 3
   },
   "file_extension": ".py",
   "mimetype": "text/x-python",
   "name": "python",
   "nbconvert_exporter": "python",
   "pygments_lexer": "ipython3",
   "version": "3.7.3"
  }
 },
 "nbformat": 4,
 "nbformat_minor": 2
}

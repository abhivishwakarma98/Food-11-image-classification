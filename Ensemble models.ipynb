{
 "cells": [
  {
   "cell_type": "code",
   "execution_count": 1,
   "metadata": {
    "colab": {},
    "colab_type": "code",
    "id": "KwYrCjiJYjBM"
   },
   "outputs": [],
   "source": [
    "import tensorflow as tf\n",
    "import os\n",
    "import numpy as np\n",
    "import pandas as pd"
   ]
  },
  {
   "cell_type": "code",
   "execution_count": 2,
   "metadata": {
    "colab": {},
    "colab_type": "code",
    "id": "tB6tKU1IYm0m"
   },
   "outputs": [],
   "source": [
    "def get_predictions(model, directory, target_dim):\n",
    "    \n",
    "    classes_list = os.listdir(directory)\n",
    "    X = []\n",
    "    y = []\n",
    "    for target in classes_list:\n",
    "        print(\"Predicting for class: \" + str(target))\n",
    "        images_list = os.listdir(directory + target)\n",
    "        for img in images_list:\n",
    "            \n",
    "            image = tf.keras.preprocessing.image.load_img(directory + target + '/' + img, target_size=(target_dim, target_dim))\n",
    "            image = tf.keras.preprocessing.image.img_to_array(image)\n",
    "            \n",
    "            image = image.reshape(1, target_dim, target_dim, 3)\n",
    "            image = tf.keras.applications.vgg19.preprocess_input(image)\n",
    "            image = image / 255\n",
    "            \n",
    "            pred = model.predict(image)[0]\n",
    "            X.append(pred)\n",
    "            y.append(target)\n",
    "        \n",
    "        print(\"Done predicting for class: \" + str(target))\n",
    "        \n",
    "    return np.array(X), np.array(y).reshape(-1, 1)"
   ]
  },
  {
   "cell_type": "code",
   "execution_count": 3,
   "metadata": {
    "colab": {},
    "colab_type": "code",
    "id": "Fuf83ra8Yp6F"
   },
   "outputs": [],
   "source": [
    "def generate_dataset(model, target_dim):\n",
    "\n",
    "    print(\"Training data\")\n",
    "    X_train, y_train = get_predictions(model, './training/', target_dim)\n",
    "    print(\"Val data\")\n",
    "    X_val, y_val = get_predictions(model, './validation/', target_dim)\n",
    "    \n",
    "    return X_train, y_train, X_val, y_val"
   ]
  },
  {
   "cell_type": "code",
   "execution_count": 4,
   "metadata": {},
   "outputs": [],
   "source": [
    "inception = tf.keras.models.load_model('./models/inceptionV3-regularized-04-0.83.hdf5')\n",
    "vgg = tf.keras.models.load_model('./models/vgg19-regularized-08-0.78.hdf5')\n",
    "mobilenet = tf.keras.models.load_model('./models/mobilenet-regularized-05-0.80.hdf5')\n",
    "\n",
    "models = [inception, vgg, mobilenet]\n",
    "target_dims = [300, 300, 224]\n",
    "X_train = pd.DataFrame()\n",
    "Y_train = pd.DataFrame()\n",
    "X_val = pd.DataFrame()\n",
    "Y_val = pd.DataFrame()"
   ]
  },
  {
   "cell_type": "code",
   "execution_count": 6,
   "metadata": {
    "scrolled": true
   },
   "outputs": [
    {
     "name": "stdout",
     "output_type": "stream",
     "text": [
      "Predicting using model 0\n",
      "Training data\n",
      "Predicting for class: Bread\n",
      "Done predicting for class: Bread\n",
      "Predicting for class: Dairyproduct\n",
      "Done predicting for class: Dairyproduct\n",
      "Predicting for class: Dessert\n",
      "Done predicting for class: Dessert\n",
      "Predicting for class: Egg\n",
      "Done predicting for class: Egg\n",
      "Predicting for class: Friedfood\n",
      "Done predicting for class: Friedfood\n",
      "Predicting for class: Meat\n",
      "Done predicting for class: Meat\n",
      "Predicting for class: NoodlesPasta\n",
      "Done predicting for class: NoodlesPasta\n",
      "Predicting for class: Rice\n",
      "Done predicting for class: Rice\n",
      "Predicting for class: Seafood\n",
      "Done predicting for class: Seafood\n",
      "Predicting for class: Soup\n",
      "Done predicting for class: Soup\n",
      "Predicting for class: VegetableFruit\n",
      "Done predicting for class: VegetableFruit\n",
      "Val data\n",
      "Predicting for class: Bread\n",
      "Done predicting for class: Bread\n",
      "Predicting for class: Dairyproduct\n",
      "Done predicting for class: Dairyproduct\n",
      "Predicting for class: Dessert\n",
      "Done predicting for class: Dessert\n",
      "Predicting for class: Egg\n",
      "Done predicting for class: Egg\n",
      "Predicting for class: Friedfood\n",
      "Done predicting for class: Friedfood\n",
      "Predicting for class: Meat\n",
      "Done predicting for class: Meat\n",
      "Predicting for class: NoodlesPasta\n",
      "Done predicting for class: NoodlesPasta\n",
      "Predicting for class: Rice\n",
      "Done predicting for class: Rice\n",
      "Predicting for class: Seafood\n",
      "Done predicting for class: Seafood\n",
      "Predicting for class: Soup\n",
      "Done predicting for class: Soup\n",
      "Predicting for class: VegetableFruit\n",
      "Done predicting for class: VegetableFruit\n",
      "Predicting using model 1\n",
      "Training data\n",
      "Predicting for class: Bread\n",
      "Done predicting for class: Bread\n",
      "Predicting for class: Dairyproduct\n",
      "Done predicting for class: Dairyproduct\n",
      "Predicting for class: Dessert\n",
      "Done predicting for class: Dessert\n",
      "Predicting for class: Egg\n",
      "Done predicting for class: Egg\n",
      "Predicting for class: Friedfood\n",
      "Done predicting for class: Friedfood\n",
      "Predicting for class: Meat\n",
      "Done predicting for class: Meat\n",
      "Predicting for class: NoodlesPasta\n",
      "Done predicting for class: NoodlesPasta\n",
      "Predicting for class: Rice\n",
      "Done predicting for class: Rice\n",
      "Predicting for class: Seafood\n",
      "Done predicting for class: Seafood\n",
      "Predicting for class: Soup\n",
      "Done predicting for class: Soup\n",
      "Predicting for class: VegetableFruit\n",
      "Done predicting for class: VegetableFruit\n",
      "Val data\n",
      "Predicting for class: Bread\n",
      "Done predicting for class: Bread\n",
      "Predicting for class: Dairyproduct\n",
      "Done predicting for class: Dairyproduct\n",
      "Predicting for class: Dessert\n",
      "Done predicting for class: Dessert\n",
      "Predicting for class: Egg\n",
      "Done predicting for class: Egg\n",
      "Predicting for class: Friedfood\n",
      "Done predicting for class: Friedfood\n",
      "Predicting for class: Meat\n",
      "Done predicting for class: Meat\n",
      "Predicting for class: NoodlesPasta\n",
      "Done predicting for class: NoodlesPasta\n",
      "Predicting for class: Rice\n",
      "Done predicting for class: Rice\n",
      "Predicting for class: Seafood\n",
      "Done predicting for class: Seafood\n",
      "Predicting for class: Soup\n",
      "Done predicting for class: Soup\n",
      "Predicting for class: VegetableFruit\n",
      "Done predicting for class: VegetableFruit\n",
      "Predicting using model 2\n",
      "Training data\n",
      "Predicting for class: Bread\n",
      "Done predicting for class: Bread\n",
      "Predicting for class: Dairyproduct\n",
      "Done predicting for class: Dairyproduct\n",
      "Predicting for class: Dessert\n",
      "Done predicting for class: Dessert\n",
      "Predicting for class: Egg\n",
      "Done predicting for class: Egg\n",
      "Predicting for class: Friedfood\n",
      "Done predicting for class: Friedfood\n",
      "Predicting for class: Meat\n",
      "Done predicting for class: Meat\n",
      "Predicting for class: NoodlesPasta\n",
      "Done predicting for class: NoodlesPasta\n",
      "Predicting for class: Rice\n",
      "Done predicting for class: Rice\n",
      "Predicting for class: Seafood\n",
      "Done predicting for class: Seafood\n",
      "Predicting for class: Soup\n",
      "Done predicting for class: Soup\n",
      "Predicting for class: VegetableFruit\n",
      "Done predicting for class: VegetableFruit\n",
      "Val data\n",
      "Predicting for class: Bread\n",
      "Done predicting for class: Bread\n",
      "Predicting for class: Dairyproduct\n",
      "Done predicting for class: Dairyproduct\n",
      "Predicting for class: Dessert\n",
      "Done predicting for class: Dessert\n",
      "Predicting for class: Egg\n",
      "Done predicting for class: Egg\n",
      "Predicting for class: Friedfood\n",
      "Done predicting for class: Friedfood\n",
      "Predicting for class: Meat\n",
      "Done predicting for class: Meat\n",
      "Predicting for class: NoodlesPasta\n",
      "Done predicting for class: NoodlesPasta\n",
      "Predicting for class: Rice\n",
      "Done predicting for class: Rice\n",
      "Predicting for class: Seafood\n",
      "Done predicting for class: Seafood\n",
      "Predicting for class: Soup\n",
      "Done predicting for class: Soup\n",
      "Predicting for class: VegetableFruit\n",
      "Done predicting for class: VegetableFruit\n"
     ]
    }
   ],
   "source": [
    "for i in range(3):\n",
    "    \n",
    "    print(\"Predicting using model \" + str(i))\n",
    "    x_train, y_train, x_val, y_val = generate_dataset(models[i], target_dims[i])\n",
    "    X_train = pd.concat([X_train, pd.DataFrame(x_train)])\n",
    "    X_val = pd.concat([X_val, pd.DataFrame(x_val)])\n",
    "    Y_train = pd.concat([Y_train, pd.DataFrame(y_train)])\n",
    "    Y_val = pd.concat([Y_val, pd.DataFrame(y_val)])\n",
    "    "
   ]
  },
  {
   "cell_type": "code",
   "execution_count": 7,
   "metadata": {},
   "outputs": [
    {
     "name": "stdout",
     "output_type": "stream",
     "text": [
      "(29598, 11)\n",
      "(10290, 11)\n",
      "(29598, 1)\n",
      "(10290, 1)\n"
     ]
    }
   ],
   "source": [
    "print(X_train.shape)\n",
    "print(X_val.shape)\n",
    "print(Y_train.shape)\n",
    "print(Y_val.shape)"
   ]
  },
  {
   "cell_type": "code",
   "execution_count": 8,
   "metadata": {},
   "outputs": [],
   "source": [
    "from sklearn.preprocessing import LabelEncoder"
   ]
  },
  {
   "cell_type": "code",
   "execution_count": 9,
   "metadata": {},
   "outputs": [
    {
     "name": "stderr",
     "output_type": "stream",
     "text": [
      "C:\\Users\\sutar\\anaconda3\\lib\\site-packages\\sklearn\\preprocessing\\_label.py:251: DataConversionWarning: A column-vector y was passed when a 1d array was expected. Please change the shape of y to (n_samples, ), for example using ravel().\n",
      "  y = column_or_1d(y, warn=True)\n"
     ]
    }
   ],
   "source": [
    "encoder = LabelEncoder()\n",
    "Y_train = encoder.fit_transform(Y_train).reshape(-1, 1)\n",
    "Y_val = encoder.fit_transform(Y_val).reshape(-1, 1)"
   ]
  },
  {
   "cell_type": "code",
   "execution_count": 11,
   "metadata": {
    "colab": {},
    "colab_type": "code",
    "id": "u9hVQD6J0TLu"
   },
   "outputs": [],
   "source": [
    "model = tf.keras.models.Sequential([\n",
    "    tf.keras.layers.Dense(32, activation=tf.nn.relu),\n",
    "    tf.keras.layers.Dense(11, activation=tf.nn.softmax)\n",
    "])"
   ]
  },
  {
   "cell_type": "code",
   "execution_count": 12,
   "metadata": {
    "colab": {},
    "colab_type": "code",
    "id": "vMvD-ELY2rNB"
   },
   "outputs": [],
   "source": [
    "model.compile(\n",
    "    optimizer=tf.keras.optimizers.Adam(),\n",
    "    loss='sparse_categorical_crossentropy',\n",
    "    metrics=['acc']\n",
    ")"
   ]
  },
  {
   "cell_type": "code",
   "execution_count": 13,
   "metadata": {
    "colab": {
     "base_uri": "https://localhost:8080/",
     "height": 230
    },
    "colab_type": "code",
    "executionInfo": {
     "elapsed": 20795,
     "status": "ok",
     "timestamp": 1591618859970,
     "user": {
      "displayName": "Dhiraj Sutar",
      "photoUrl": "https://lh3.googleusercontent.com/a-/AOh14GhMThghE5XCiapRZH4QI3QzoJle9O6rkWhj-vecWw=s64",
      "userId": "06190022902016796041"
     },
     "user_tz": -60
    },
    "id": "eY66Irj83UcN",
    "outputId": "9d296dd5-5d12-4402-f5f7-dbbe6c3b69aa",
    "scrolled": true
   },
   "outputs": [
    {
     "name": "stdout",
     "output_type": "stream",
     "text": [
      "Epoch 1/5\n",
      "925/925 [==============================] - 1s 1ms/step - loss: 0.7852 - acc: 0.8414 - val_loss: 0.6533 - val_acc: 0.8247\n",
      "Epoch 2/5\n",
      "925/925 [==============================] - 1s 1ms/step - loss: 0.3164 - acc: 0.9122 - val_loss: 0.6571 - val_acc: 0.8261\n",
      "Epoch 3/5\n",
      "925/925 [==============================] - 1s 1ms/step - loss: 0.3112 - acc: 0.9126 - val_loss: 0.6515 - val_acc: 0.8251\n",
      "Epoch 4/5\n",
      "925/925 [==============================] - 1s 1ms/step - loss: 0.3096 - acc: 0.9128 - val_loss: 0.6567 - val_acc: 0.8270\n",
      "Epoch 5/5\n",
      "925/925 [==============================] - 1s 1ms/step - loss: 0.3091 - acc: 0.9129 - val_loss: 0.6532 - val_acc: 0.8255\n"
     ]
    },
    {
     "data": {
      "text/plain": [
       "<tensorflow.python.keras.callbacks.History at 0x21389bffc08>"
      ]
     },
     "execution_count": 13,
     "metadata": {},
     "output_type": "execute_result"
    }
   ],
   "source": [
    "model.fit(X_train, Y_train, validation_data=(X_val, Y_val), epochs=5, batch_size=32)"
   ]
  },
  {
   "cell_type": "code",
   "execution_count": 14,
   "metadata": {},
   "outputs": [],
   "source": [
    "X_test = pd.DataFrame()\n",
    "Y_test = pd.DataFrame()"
   ]
  },
  {
   "cell_type": "code",
   "execution_count": 15,
   "metadata": {
    "scrolled": true
   },
   "outputs": [
    {
     "name": "stdout",
     "output_type": "stream",
     "text": [
      "Predicting with model: 0\n",
      "Predicting for class: Bread\n",
      "Done predicting for class: Bread\n",
      "Predicting for class: Dairyproduct\n",
      "Done predicting for class: Dairyproduct\n",
      "Predicting for class: Dessert\n",
      "Done predicting for class: Dessert\n",
      "Predicting for class: Egg\n",
      "Done predicting for class: Egg\n",
      "Predicting for class: Friedfood\n",
      "Done predicting for class: Friedfood\n",
      "Predicting for class: Meat\n",
      "Done predicting for class: Meat\n",
      "Predicting for class: NoodlesPasta\n",
      "Done predicting for class: NoodlesPasta\n",
      "Predicting for class: Rice\n",
      "Done predicting for class: Rice\n",
      "Predicting for class: Seafood\n",
      "Done predicting for class: Seafood\n",
      "Predicting for class: Soup\n",
      "Done predicting for class: Soup\n",
      "Predicting for class: VegetableFruit\n",
      "Done predicting for class: VegetableFruit\n",
      "Predicting with model: 1\n",
      "Predicting for class: Bread\n",
      "Done predicting for class: Bread\n",
      "Predicting for class: Dairyproduct\n",
      "Done predicting for class: Dairyproduct\n",
      "Predicting for class: Dessert\n",
      "Done predicting for class: Dessert\n",
      "Predicting for class: Egg\n",
      "Done predicting for class: Egg\n",
      "Predicting for class: Friedfood\n",
      "Done predicting for class: Friedfood\n",
      "Predicting for class: Meat\n",
      "Done predicting for class: Meat\n",
      "Predicting for class: NoodlesPasta\n",
      "Done predicting for class: NoodlesPasta\n",
      "Predicting for class: Rice\n",
      "Done predicting for class: Rice\n",
      "Predicting for class: Seafood\n",
      "Done predicting for class: Seafood\n",
      "Predicting for class: Soup\n",
      "Done predicting for class: Soup\n",
      "Predicting for class: VegetableFruit\n",
      "Done predicting for class: VegetableFruit\n",
      "Predicting with model: 2\n",
      "Predicting for class: Bread\n",
      "Done predicting for class: Bread\n",
      "Predicting for class: Dairyproduct\n",
      "Done predicting for class: Dairyproduct\n",
      "Predicting for class: Dessert\n",
      "Done predicting for class: Dessert\n",
      "Predicting for class: Egg\n",
      "Done predicting for class: Egg\n",
      "Predicting for class: Friedfood\n",
      "Done predicting for class: Friedfood\n",
      "Predicting for class: Meat\n",
      "Done predicting for class: Meat\n",
      "Predicting for class: NoodlesPasta\n",
      "Done predicting for class: NoodlesPasta\n",
      "Predicting for class: Rice\n",
      "Done predicting for class: Rice\n",
      "Predicting for class: Seafood\n",
      "Done predicting for class: Seafood\n",
      "Predicting for class: Soup\n",
      "Done predicting for class: Soup\n",
      "Predicting for class: VegetableFruit\n",
      "Done predicting for class: VegetableFruit\n"
     ]
    }
   ],
   "source": [
    "for i in range(3):\n",
    "    \n",
    "    print(\"Predicting with model: \" + str(i))    \n",
    "    x_test, y_test = get_predictions(models[i], './evaluation/', target_dims[i])\n",
    "    X_test = pd.concat([X_test, pd.DataFrame(x_test)])\n",
    "    Y_test = pd.concat([Y_test, pd.DataFrame(y_test)])\n",
    "    "
   ]
  },
  {
   "cell_type": "code",
   "execution_count": 17,
   "metadata": {
    "colab": {},
    "colab_type": "code",
    "id": "bcqCd_5n8BEc"
   },
   "outputs": [
    {
     "name": "stderr",
     "output_type": "stream",
     "text": [
      "C:\\Users\\sutar\\anaconda3\\lib\\site-packages\\sklearn\\preprocessing\\_label.py:268: DataConversionWarning: A column-vector y was passed when a 1d array was expected. Please change the shape of y to (n_samples, ), for example using ravel().\n",
      "  y = column_or_1d(y, warn=True)\n"
     ]
    }
   ],
   "source": [
    "Y_test = encoder.transform(Y_test).reshape(-1, 1)"
   ]
  },
  {
   "cell_type": "code",
   "execution_count": 18,
   "metadata": {},
   "outputs": [
    {
     "name": "stdout",
     "output_type": "stream",
     "text": [
      "314/314 [==============================] - 0s 769us/step - loss: 0.5750 - acc: 0.8461\n"
     ]
    },
    {
     "data": {
      "text/plain": [
       "[0.5750025510787964, 0.8461308479309082]"
      ]
     },
     "execution_count": 18,
     "metadata": {},
     "output_type": "execute_result"
    }
   ],
   "source": [
    "model.evaluate(X_test, Y_test)"
   ]
  },
  {
   "cell_type": "code",
   "execution_count": 31,
   "metadata": {},
   "outputs": [],
   "source": [
    "from sklearn.ensemble import RandomForestClassifier\n",
    "from sklearn.metrics import accuracy_score"
   ]
  },
  {
   "cell_type": "code",
   "execution_count": 38,
   "metadata": {},
   "outputs": [],
   "source": [
    "rfc = RandomForestClassifier(n_estimators=100)"
   ]
  },
  {
   "cell_type": "code",
   "execution_count": 39,
   "metadata": {},
   "outputs": [],
   "source": [
    "def fit_predict(model):\n",
    "    model.fit(X_train, Y_train)\n",
    "    predictions = model.predict(X_test)\n",
    "    print(accuracy_score(Y_test, predictions.reshape(-1, 1)))"
   ]
  },
  {
   "cell_type": "code",
   "execution_count": 40,
   "metadata": {},
   "outputs": [
    {
     "name": "stderr",
     "output_type": "stream",
     "text": [
      "C:\\Users\\sutar\\AppData\\Roaming\\Python\\Python37\\site-packages\\ipykernel_launcher.py:2: DataConversionWarning: A column-vector y was passed when a 1d array was expected. Please change the shape of y to (n_samples,), for example using ravel().\n",
      "  \n"
     ]
    },
    {
     "name": "stdout",
     "output_type": "stream",
     "text": [
      "0.8549945224579225\n"
     ]
    }
   ],
   "source": [
    "fit_predict(rfc)"
   ]
  },
  {
   "cell_type": "code",
   "execution_count": null,
   "metadata": {},
   "outputs": [],
   "source": []
  }
 ],
 "metadata": {
  "accelerator": "GPU",
  "colab": {
   "authorship_tag": "ABX9TyOfl8w39YM1DONEeC781GTP",
   "collapsed_sections": [],
   "mount_file_id": "1NlqDx1LVltZoBEivdIaU1EYclNVneusM",
   "name": "Ensemble models.ipynb",
   "provenance": []
  },
  "kernelspec": {
   "display_name": "Python 3",
   "language": "python",
   "name": "python3"
  },
  "language_info": {
   "codemirror_mode": {
    "name": "ipython",
    "version": 3
   },
   "file_extension": ".py",
   "mimetype": "text/x-python",
   "name": "python",
   "nbconvert_exporter": "python",
   "pygments_lexer": "ipython3",
   "version": "3.7.6"
  }
 },
 "nbformat": 4,
 "nbformat_minor": 1
}

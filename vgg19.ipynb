{
 "cells": [
  {
   "cell_type": "markdown",
   "metadata": {},
   "source": [
    "# Vgg19 model\n",
    "\n",
    "### Table of contents\n",
    "\n",
    "1. Training model.<br>\n",
    "2. Regularizing model with data augmentation.<br>\n",
    "3. Regularizing model with kernel regularization.<br>\n",
    "4. Unfreeze more layers to improve training accuracy.<br>\n",
    "5. Regularizing model with dropout regularization.<br>"
   ]
  },
  {
   "cell_type": "code",
   "execution_count": 0,
   "metadata": {
    "colab": {},
    "colab_type": "code",
    "id": "HD-jaO82-htG"
   },
   "outputs": [],
   "source": [
    "# Importing neccessary packages\n",
    "import numpy as np\n",
    "import matplotlib.pyplot as plt\n",
    "import tensorflow as tf\n",
    "import os\n",
    "import json\n",
    "from utils import add_regularization, get_data_generators, plot_model_results\n",
    "from Models import TrainingCheckpoint, ModelTrain"
   ]
  },
  {
   "cell_type": "code",
   "execution_count": 0,
   "metadata": {
    "colab": {},
    "colab_type": "code",
    "id": "y8BzythP-qxQ"
   },
   "outputs": [],
   "source": [
    "NUM_CLASSES = 11\n",
    "with open('classes_list.json', 'r') as fp:\n",
    "    classes_list = json.load(fp)"
   ]
  },
  {
   "cell_type": "code",
   "execution_count": 0,
   "metadata": {
    "colab": {},
    "colab_type": "code",
    "id": "BXphf7RzAC5l"
   },
   "outputs": [],
   "source": [
    "# Data augmentation for regularization and adding some extra training samples\n",
    "\n",
    "datagen = tf.keras.preprocessing.image.ImageDataGenerator(\n",
    "    preprocessing_function=tf.keras.applications.vgg19.preprocess_input,\n",
    "    rescale=1.0/255.0,\n",
    "    horizontal_flip=True, \n",
    "    zoom_range=0.2,\n",
    "    shear_range=0.2\n",
    ")"
   ]
  },
  {
   "cell_type": "code",
   "execution_count": 0,
   "metadata": {
    "colab": {},
    "colab_type": "code",
    "id": "J-QWGC16AQ_-"
   },
   "outputs": [],
   "source": [
    "TARGET_DIM = 300\n",
    "BATCH_SIZE = 32"
   ]
  },
  {
   "cell_type": "code",
   "execution_count": 0,
   "metadata": {
    "colab": {
     "base_uri": "https://localhost:8080/",
     "height": 52
    },
    "colab_type": "code",
    "id": "Nhp1Xa4GAUmV",
    "outputId": "a9bff768-bdbc-48bc-be4b-c0398c13faac"
   },
   "outputs": [
    {
     "name": "stdout",
     "output_type": "stream",
     "text": [
      "Found 9866 images belonging to 11 classes.\n",
      "Found 3430 images belonging to 11 classes.\n"
     ]
    }
   ],
   "source": [
    "train_generator, validation_generator = get_data_generators(datagen, TARGET_DIM, BATCH_SIZE)"
   ]
  },
  {
   "cell_type": "code",
   "execution_count": 0,
   "metadata": {
    "colab": {
     "base_uri": "https://localhost:8080/",
     "height": 210
    },
    "colab_type": "code",
    "id": "j59nu_WX_VzD",
    "outputId": "6441b6c4-1353-43b9-8a04-c897a3f2e341",
    "scrolled": true
   },
   "outputs": [
    {
     "data": {
      "text/plain": [
       "{'Bread': 0,\n",
       " 'Dairyproduct': 1,\n",
       " 'Dessert': 2,\n",
       " 'Egg': 3,\n",
       " 'Friedfood': 4,\n",
       " 'Meat': 5,\n",
       " 'NoodlesPasta': 6,\n",
       " 'Rice': 7,\n",
       " 'Seafood': 8,\n",
       " 'Soup': 9,\n",
       " 'VegetableFruit': 10}"
      ]
     },
     "execution_count": 16,
     "metadata": {
      "tags": []
     },
     "output_type": "execute_result"
    }
   ],
   "source": [
    "train_generator.class_indices"
   ]
  },
  {
   "cell_type": "code",
   "execution_count": 0,
   "metadata": {
    "colab": {
     "base_uri": "https://localhost:8080/",
     "height": 210
    },
    "colab_type": "code",
    "id": "YcoMf3EJ_ZVa",
    "outputId": "304c1663-43f5-4965-b077-459937b6cb80"
   },
   "outputs": [
    {
     "data": {
      "text/plain": [
       "{'Bread': 0,\n",
       " 'Dairyproduct': 1,\n",
       " 'Dessert': 2,\n",
       " 'Egg': 3,\n",
       " 'Friedfood': 4,\n",
       " 'Meat': 5,\n",
       " 'NoodlesPasta': 6,\n",
       " 'Rice': 7,\n",
       " 'Seafood': 8,\n",
       " 'Soup': 9,\n",
       " 'VegetableFruit': 10}"
      ]
     },
     "execution_count": 17,
     "metadata": {
      "tags": []
     },
     "output_type": "execute_result"
    }
   ],
   "source": [
    "validation_generator.class_indices"
   ]
  },
  {
   "cell_type": "code",
   "execution_count": 0,
   "metadata": {
    "colab": {
     "base_uri": "https://localhost:8080/",
     "height": 72
    },
    "colab_type": "code",
    "id": "Nyajl22tAXC-",
    "outputId": "2d92ebeb-3719-40a9-a56d-2572482703ee"
   },
   "outputs": [
    {
     "name": "stdout",
     "output_type": "stream",
     "text": [
      "Downloading data from https://storage.googleapis.com/tensorflow/keras-applications/vgg19/vgg19_weights_tf_dim_ordering_tf_kernels_notop.h5\n",
      "80142336/80134624 [==============================] - 1s 0us/step\n"
     ]
    }
   ],
   "source": [
    "# Lets try the Vgg19 architecture\n",
    "\n",
    "base_model = tf.keras.applications.vgg19.VGG19(\n",
    "    include_top=False, \n",
    "    weights='imagenet', \n",
    "    input_shape=(TARGET_DIM, TARGET_DIM, 3)\n",
    ")"
   ]
  },
  {
   "cell_type": "code",
   "execution_count": 0,
   "metadata": {
    "colab": {
     "base_uri": "https://localhost:8080/",
     "height": 34
    },
    "colab_type": "code",
    "id": "QISfc7r2AdC8",
    "outputId": "6d21fe41-0e42-41ef-b820-7cd37a8e4894"
   },
   "outputs": [
    {
     "name": "stdout",
     "output_type": "stream",
     "text": [
      "Layers in Vgg19: 22\n"
     ]
    }
   ],
   "source": [
    "print('Layers in Vgg19: ' + str(len(base_model.layers)))"
   ]
  },
  {
   "cell_type": "code",
   "execution_count": 0,
   "metadata": {
    "colab": {},
    "colab_type": "code",
    "id": "-txynW7AAglt"
   },
   "outputs": [],
   "source": [
    "preds = base_model.output\n",
    "preds = tf.keras.layers.GlobalAveragePooling2D()(preds)\n",
    "preds = tf.keras.layers.Dense(1024, activation=tf.nn.relu)(preds)\n",
    "preds = tf.keras.layers.BatchNormalization()(preds)\n",
    "preds = tf.keras.layers.Dense(512, activation=tf.nn.relu)(preds)\n",
    "preds = tf.keras.layers.BatchNormalization()(preds)\n",
    "preds = tf.keras.layers.Dense(256, activation=tf.nn.relu)(preds)\n",
    "preds = tf.keras.layers.BatchNormalization()(preds)\n",
    "preds = tf.keras.layers.Dense(128, activation=tf.nn.relu)(preds)\n",
    "preds = tf.keras.layers.Dense(11, activation=tf.nn.softmax)(preds)"
   ]
  },
  {
   "cell_type": "code",
   "execution_count": 0,
   "metadata": {
    "colab": {},
    "colab_type": "code",
    "id": "Z93r3vXPAl6-"
   },
   "outputs": [],
   "source": [
    "model = tf.keras.models.Model(base_model.input, preds)"
   ]
  },
  {
   "cell_type": "code",
   "execution_count": 0,
   "metadata": {
    "colab": {
     "base_uri": "https://localhost:8080/",
     "height": 1000
    },
    "colab_type": "code",
    "id": "2xP0h_l4AnmY",
    "outputId": "04da262c-3551-41ea-efa7-fffbd8893d17",
    "scrolled": true
   },
   "outputs": [
    {
     "name": "stdout",
     "output_type": "stream",
     "text": [
      "Model: \"model\"\n",
      "_________________________________________________________________\n",
      "Layer (type)                 Output Shape              Param #   \n",
      "=================================================================\n",
      "input_2 (InputLayer)         [(None, 300, 300, 3)]     0         \n",
      "_________________________________________________________________\n",
      "block1_conv1 (Conv2D)        (None, 300, 300, 64)      1792      \n",
      "_________________________________________________________________\n",
      "block1_conv2 (Conv2D)        (None, 300, 300, 64)      36928     \n",
      "_________________________________________________________________\n",
      "block1_pool (MaxPooling2D)   (None, 150, 150, 64)      0         \n",
      "_________________________________________________________________\n",
      "block2_conv1 (Conv2D)        (None, 150, 150, 128)     73856     \n",
      "_________________________________________________________________\n",
      "block2_conv2 (Conv2D)        (None, 150, 150, 128)     147584    \n",
      "_________________________________________________________________\n",
      "block2_pool (MaxPooling2D)   (None, 75, 75, 128)       0         \n",
      "_________________________________________________________________\n",
      "block3_conv1 (Conv2D)        (None, 75, 75, 256)       295168    \n",
      "_________________________________________________________________\n",
      "block3_conv2 (Conv2D)        (None, 75, 75, 256)       590080    \n",
      "_________________________________________________________________\n",
      "block3_conv3 (Conv2D)        (None, 75, 75, 256)       590080    \n",
      "_________________________________________________________________\n",
      "block3_conv4 (Conv2D)        (None, 75, 75, 256)       590080    \n",
      "_________________________________________________________________\n",
      "block3_pool (MaxPooling2D)   (None, 37, 37, 256)       0         \n",
      "_________________________________________________________________\n",
      "block4_conv1 (Conv2D)        (None, 37, 37, 512)       1180160   \n",
      "_________________________________________________________________\n",
      "block4_conv2 (Conv2D)        (None, 37, 37, 512)       2359808   \n",
      "_________________________________________________________________\n",
      "block4_conv3 (Conv2D)        (None, 37, 37, 512)       2359808   \n",
      "_________________________________________________________________\n",
      "block4_conv4 (Conv2D)        (None, 37, 37, 512)       2359808   \n",
      "_________________________________________________________________\n",
      "block4_pool (MaxPooling2D)   (None, 18, 18, 512)       0         \n",
      "_________________________________________________________________\n",
      "block5_conv1 (Conv2D)        (None, 18, 18, 512)       2359808   \n",
      "_________________________________________________________________\n",
      "block5_conv2 (Conv2D)        (None, 18, 18, 512)       2359808   \n",
      "_________________________________________________________________\n",
      "block5_conv3 (Conv2D)        (None, 18, 18, 512)       2359808   \n",
      "_________________________________________________________________\n",
      "block5_conv4 (Conv2D)        (None, 18, 18, 512)       2359808   \n",
      "_________________________________________________________________\n",
      "block5_pool (MaxPooling2D)   (None, 9, 9, 512)         0         \n",
      "_________________________________________________________________\n",
      "global_average_pooling2d (Gl (None, 512)               0         \n",
      "_________________________________________________________________\n",
      "dense (Dense)                (None, 1024)              525312    \n",
      "_________________________________________________________________\n",
      "batch_normalization (BatchNo (None, 1024)              4096      \n",
      "_________________________________________________________________\n",
      "dense_1 (Dense)              (None, 512)               524800    \n",
      "_________________________________________________________________\n",
      "batch_normalization_1 (Batch (None, 512)               2048      \n",
      "_________________________________________________________________\n",
      "dense_2 (Dense)              (None, 256)               131328    \n",
      "_________________________________________________________________\n",
      "batch_normalization_2 (Batch (None, 256)               1024      \n",
      "_________________________________________________________________\n",
      "dense_3 (Dense)              (None, 128)               32896     \n",
      "_________________________________________________________________\n",
      "dense_4 (Dense)              (None, 11)                1419      \n",
      "=================================================================\n",
      "Total params: 21,247,307\n",
      "Trainable params: 21,243,723\n",
      "Non-trainable params: 3,584\n",
      "_________________________________________________________________\n"
     ]
    }
   ],
   "source": [
    "model.summary()"
   ]
  },
  {
   "cell_type": "code",
   "execution_count": 0,
   "metadata": {
    "colab": {},
    "colab_type": "code",
    "id": "plibI0OlPF3I"
   },
   "outputs": [],
   "source": [
    "vgg19 = ModelTrain(model, TARGET_DIM, BATCH_SIZE)\n",
    "vgg19.freeze_layers(9)"
   ]
  },
  {
   "cell_type": "code",
   "execution_count": 0,
   "metadata": {
    "colab": {
     "base_uri": "https://localhost:8080/",
     "height": 1000
    },
    "colab_type": "code",
    "id": "8NonELiak9fJ",
    "outputId": "0ac1c1b0-efce-49c3-8b51-63a10795100c",
    "scrolled": true
   },
   "outputs": [
    {
     "name": "stdout",
     "output_type": "stream",
     "text": [
      "Model: \"model\"\n",
      "_________________________________________________________________\n",
      "Layer (type)                 Output Shape              Param #   \n",
      "=================================================================\n",
      "input_2 (InputLayer)         [(None, 300, 300, 3)]     0         \n",
      "_________________________________________________________________\n",
      "block1_conv1 (Conv2D)        (None, 300, 300, 64)      1792      \n",
      "_________________________________________________________________\n",
      "block1_conv2 (Conv2D)        (None, 300, 300, 64)      36928     \n",
      "_________________________________________________________________\n",
      "block1_pool (MaxPooling2D)   (None, 150, 150, 64)      0         \n",
      "_________________________________________________________________\n",
      "block2_conv1 (Conv2D)        (None, 150, 150, 128)     73856     \n",
      "_________________________________________________________________\n",
      "block2_conv2 (Conv2D)        (None, 150, 150, 128)     147584    \n",
      "_________________________________________________________________\n",
      "block2_pool (MaxPooling2D)   (None, 75, 75, 128)       0         \n",
      "_________________________________________________________________\n",
      "block3_conv1 (Conv2D)        (None, 75, 75, 256)       295168    \n",
      "_________________________________________________________________\n",
      "block3_conv2 (Conv2D)        (None, 75, 75, 256)       590080    \n",
      "_________________________________________________________________\n",
      "block3_conv3 (Conv2D)        (None, 75, 75, 256)       590080    \n",
      "_________________________________________________________________\n",
      "block3_conv4 (Conv2D)        (None, 75, 75, 256)       590080    \n",
      "_________________________________________________________________\n",
      "block3_pool (MaxPooling2D)   (None, 37, 37, 256)       0         \n",
      "_________________________________________________________________\n",
      "block4_conv1 (Conv2D)        (None, 37, 37, 512)       1180160   \n",
      "_________________________________________________________________\n",
      "block4_conv2 (Conv2D)        (None, 37, 37, 512)       2359808   \n",
      "_________________________________________________________________\n",
      "block4_conv3 (Conv2D)        (None, 37, 37, 512)       2359808   \n",
      "_________________________________________________________________\n",
      "block4_conv4 (Conv2D)        (None, 37, 37, 512)       2359808   \n",
      "_________________________________________________________________\n",
      "block4_pool (MaxPooling2D)   (None, 18, 18, 512)       0         \n",
      "_________________________________________________________________\n",
      "block5_conv1 (Conv2D)        (None, 18, 18, 512)       2359808   \n",
      "_________________________________________________________________\n",
      "block5_conv2 (Conv2D)        (None, 18, 18, 512)       2359808   \n",
      "_________________________________________________________________\n",
      "block5_conv3 (Conv2D)        (None, 18, 18, 512)       2359808   \n",
      "_________________________________________________________________\n",
      "block5_conv4 (Conv2D)        (None, 18, 18, 512)       2359808   \n",
      "_________________________________________________________________\n",
      "block5_pool (MaxPooling2D)   (None, 9, 9, 512)         0         \n",
      "_________________________________________________________________\n",
      "global_average_pooling2d (Gl (None, 512)               0         \n",
      "_________________________________________________________________\n",
      "dense (Dense)                (None, 1024)              525312    \n",
      "_________________________________________________________________\n",
      "batch_normalization (BatchNo (None, 1024)              4096      \n",
      "_________________________________________________________________\n",
      "dense_1 (Dense)              (None, 512)               524800    \n",
      "_________________________________________________________________\n",
      "batch_normalization_1 (Batch (None, 512)               2048      \n",
      "_________________________________________________________________\n",
      "dense_2 (Dense)              (None, 256)               131328    \n",
      "_________________________________________________________________\n",
      "batch_normalization_2 (Batch (None, 256)               1024      \n",
      "_________________________________________________________________\n",
      "dense_3 (Dense)              (None, 128)               32896     \n",
      "_________________________________________________________________\n",
      "dense_4 (Dense)              (None, 11)                1419      \n",
      "=================================================================\n",
      "Total params: 21,247,307\n",
      "Trainable params: 1,219,339\n",
      "Non-trainable params: 20,027,968\n",
      "_________________________________________________________________\n"
     ]
    }
   ],
   "source": [
    "vgg19.model.summary()"
   ]
  },
  {
   "cell_type": "code",
   "execution_count": 0,
   "metadata": {
    "colab": {},
    "colab_type": "code",
    "id": "JeG3d0KCApSN"
   },
   "outputs": [],
   "source": [
    "vgg19.model.compile(\n",
    "    optimizer=tf.keras.optimizers.Adam(learning_rate=0.001),\n",
    "    loss='categorical_crossentropy',\n",
    "    metrics=['acc']\n",
    ")"
   ]
  },
  {
   "cell_type": "code",
   "execution_count": 0,
   "metadata": {
    "colab": {},
    "colab_type": "code",
    "id": "l5qVM0phAsK0"
   },
   "outputs": [],
   "source": [
    "# Lets define checkpoint for model saving\n",
    "filepath=\"./models/vgg19-{epoch:02d}-{acc:.2f}.hdf5\"\n",
    "checkpoint = tf.keras.callbacks.ModelCheckpoint(filepath, monitor='acc', verbose=1, save_best_only=True, mode='max')\n",
    "\n",
    "training_checkpoint = TrainingCheckpoint()\n",
    "\n",
    "csv_logger = tf.keras.callbacks.CSVLogger(filename='./logs/vgg19_training.csv', append=True)"
   ]
  },
  {
   "cell_type": "code",
   "execution_count": 0,
   "metadata": {
    "colab": {
     "base_uri": "https://localhost:8080/",
     "height": 1000
    },
    "colab_type": "code",
    "id": "tvlhQTlaBNsX",
    "outputId": "bc70fe57-dbd1-43cd-8846-7f7a84bc5f7c"
   },
   "outputs": [
    {
     "name": "stdout",
     "output_type": "stream",
     "text": [
      "WARNING:tensorflow:From <ipython-input-32-19703bb84a52>:9: Model.fit_generator (from tensorflow.python.keras.engine.training) is deprecated and will be removed in a future version.\n",
      "Instructions for updating:\n",
      "Please use Model.fit, which supports generators.\n",
      "Epoch 1/60\n",
      "308/308 [==============================] - ETA: 0s - loss: 1.1854 - acc: 0.6048\n",
      "Epoch 00001: acc improved from -inf to 0.60484, saving model to ./drive/My Drive/food_11_weights/vgg19-01-0.60.hdf5\n",
      "308/308 [==============================] - 306s 993ms/step - loss: 1.1854 - acc: 0.6048 - val_loss: 1.3001 - val_acc: 0.5584\n",
      "Epoch 2/60\n",
      "308/308 [==============================] - ETA: 0s - loss: 0.9147 - acc: 0.6920\n",
      "Epoch 00002: acc improved from 0.60484 to 0.69199, saving model to ./drive/My Drive/food_11_weights/vgg19-02-0.69.hdf5\n",
      "308/308 [==============================] - 310s 1s/step - loss: 0.9147 - acc: 0.6920 - val_loss: 1.1871 - val_acc: 0.6116\n",
      "Epoch 3/60\n",
      "308/308 [==============================] - ETA: 0s - loss: 0.8209 - acc: 0.7181\n",
      "Epoch 00003: acc improved from 0.69199 to 0.71812, saving model to ./drive/My Drive/food_11_weights/vgg19-03-0.72.hdf5\n",
      "308/308 [==============================] - 310s 1s/step - loss: 0.8209 - acc: 0.7181 - val_loss: 1.2156 - val_acc: 0.6089\n",
      "Epoch 4/60\n",
      "308/308 [==============================] - ETA: 0s - loss: 0.7629 - acc: 0.7408\n",
      "Epoch 00004: acc improved from 0.71812 to 0.74080, saving model to ./drive/My Drive/food_11_weights/vgg19-04-0.74.hdf5\n",
      "308/308 [==============================] - 312s 1s/step - loss: 0.7629 - acc: 0.7408 - val_loss: 1.2663 - val_acc: 0.6113\n",
      "Epoch 5/60\n",
      "308/308 [==============================] - ETA: 0s - loss: 0.7238 - acc: 0.7551\n",
      "Epoch 00005: acc improved from 0.74080 to 0.75514, saving model to ./drive/My Drive/food_11_weights/vgg19-05-0.76.hdf5\n",
      "308/308 [==============================] - 311s 1s/step - loss: 0.7238 - acc: 0.7551 - val_loss: 1.5891 - val_acc: 0.5327\n",
      "Epoch 6/60\n",
      "308/308 [==============================] - ETA: 0s - loss: 0.6955 - acc: 0.7629\n",
      "Epoch 00006: acc improved from 0.75514 to 0.76286, saving model to ./drive/My Drive/food_11_weights/vgg19-06-0.76.hdf5\n",
      "308/308 [==============================] - 312s 1s/step - loss: 0.6955 - acc: 0.7629 - val_loss: 1.1424 - val_acc: 0.6355\n",
      "Epoch 7/60\n",
      "308/308 [==============================] - ETA: 0s - loss: 0.6528 - acc: 0.7797\n",
      "Epoch 00007: acc improved from 0.76286 to 0.77974, saving model to ./drive/My Drive/food_11_weights/vgg19-07-0.78.hdf5\n",
      "308/308 [==============================] - 312s 1s/step - loss: 0.6528 - acc: 0.7797 - val_loss: 1.1881 - val_acc: 0.6507\n",
      "Epoch 8/60\n",
      "308/308 [==============================] - ETA: 0s - loss: 0.6235 - acc: 0.7901\n",
      "Epoch 00008: acc improved from 0.77974 to 0.79012, saving model to ./drive/My Drive/food_11_weights/vgg19-08-0.79.hdf5\n",
      "308/308 [==============================] - 311s 1s/step - loss: 0.6235 - acc: 0.7901 - val_loss: 0.9292 - val_acc: 0.7039\n",
      "Epoch 9/60\n",
      "308/308 [==============================] - ETA: 0s - loss: 0.6106 - acc: 0.7863\n",
      "Epoch 00009: acc did not improve from 0.79012\n",
      "308/308 [==============================] - 313s 1s/step - loss: 0.6106 - acc: 0.7863 - val_loss: 0.9537 - val_acc: 0.6866\n",
      "Epoch 10/60\n",
      "308/308 [==============================] - ETA: 0s - loss: 0.5842 - acc: 0.7983\n",
      "Epoch 00010: acc improved from 0.79012 to 0.79825, saving model to ./drive/My Drive/food_11_weights/vgg19-10-0.80.hdf5\n",
      "308/308 [==============================] - 312s 1s/step - loss: 0.5842 - acc: 0.7983 - val_loss: 1.1246 - val_acc: 0.6612\n",
      "Epoch 11/60\n",
      "308/308 [==============================] - ETA: 0s - loss: 0.5613 - acc: 0.8082\n",
      "Epoch 00011: acc improved from 0.79825 to 0.80822, saving model to ./drive/My Drive/food_11_weights/vgg19-11-0.81.hdf5\n",
      "308/308 [==============================] - 313s 1s/step - loss: 0.5613 - acc: 0.8082 - val_loss: 1.0622 - val_acc: 0.6866\n",
      "Epoch 12/60\n",
      "308/308 [==============================] - ETA: 0s - loss: 0.5478 - acc: 0.8129\n",
      "Epoch 00012: acc improved from 0.80822 to 0.81289, saving model to ./drive/My Drive/food_11_weights/vgg19-12-0.81.hdf5\n",
      "308/308 [==============================] - 313s 1s/step - loss: 0.5478 - acc: 0.8129 - val_loss: 1.4496 - val_acc: 0.6025\n",
      "Epoch 13/60\n",
      "308/308 [==============================] - ETA: 0s - loss: 0.5222 - acc: 0.8206\n",
      "Epoch 00013: acc improved from 0.81289 to 0.82062, saving model to ./drive/My Drive/food_11_weights/vgg19-13-0.82.hdf5\n",
      "308/308 [==============================] - 304s 986ms/step - loss: 0.5222 - acc: 0.8206 - val_loss: 0.8967 - val_acc: 0.7117\n",
      "Epoch 14/60\n",
      "308/308 [==============================] - ETA: 0s - loss: 0.5034 - acc: 0.8254\n",
      "Epoch 00014: acc improved from 0.82062 to 0.82540, saving model to ./drive/My Drive/food_11_weights/vgg19-14-0.83.hdf5\n",
      "308/308 [==============================] - 293s 953ms/step - loss: 0.5034 - acc: 0.8254 - val_loss: 1.1742 - val_acc: 0.6636\n",
      "Epoch 15/60\n",
      "308/308 [==============================] - ETA: 0s - loss: 0.4853 - acc: 0.8305\n",
      "Epoch 00015: acc improved from 0.82540 to 0.83049, saving model to ./drive/My Drive/food_11_weights/vgg19-15-0.83.hdf5\n",
      "308/308 [==============================] - 301s 977ms/step - loss: 0.4853 - acc: 0.8305 - val_loss: 0.9277 - val_acc: 0.7202\n",
      "Epoch 16/60\n",
      "308/308 [==============================] - ETA: 0s - loss: 0.4621 - acc: 0.8398\n",
      "Epoch 00016: acc improved from 0.83049 to 0.83984, saving model to ./drive/My Drive/food_11_weights/vgg19-16-0.84.hdf5\n",
      "308/308 [==============================] - 307s 998ms/step - loss: 0.4621 - acc: 0.8398 - val_loss: 1.2510 - val_acc: 0.6682\n",
      "Epoch 17/60\n",
      "308/308 [==============================] - ETA: 0s - loss: 0.4619 - acc: 0.8406\n",
      "Epoch 00017: acc improved from 0.83984 to 0.84055, saving model to ./drive/My Drive/food_11_weights/vgg19-17-0.84.hdf5\n",
      "308/308 [==============================] - 310s 1s/step - loss: 0.4619 - acc: 0.8406 - val_loss: 1.1150 - val_acc: 0.6694\n",
      "Epoch 18/60\n",
      "308/308 [==============================] - ETA: 0s - loss: 0.4540 - acc: 0.8419\n",
      "Epoch 00018: acc improved from 0.84055 to 0.84188, saving model to ./drive/My Drive/food_11_weights/vgg19-18-0.84.hdf5\n",
      "308/308 [==============================] - 310s 1s/step - loss: 0.4540 - acc: 0.8419 - val_loss: 1.1818 - val_acc: 0.6662\n",
      "Epoch 19/60\n",
      "308/308 [==============================] - ETA: 0s - loss: 0.4193 - acc: 0.8499\n",
      "Epoch 00019: acc improved from 0.84188 to 0.84991, saving model to ./drive/My Drive/food_11_weights/vgg19-19-0.85.hdf5\n",
      "308/308 [==============================] - 312s 1s/step - loss: 0.4193 - acc: 0.8499 - val_loss: 1.1554 - val_acc: 0.6799\n",
      "Epoch 20/60\n",
      "308/308 [==============================] - ETA: 0s - loss: 0.4279 - acc: 0.8473\n",
      "Epoch 00020: acc did not improve from 0.84991\n",
      "308/308 [==============================] - 312s 1s/step - loss: 0.4279 - acc: 0.8473 - val_loss: 0.9318 - val_acc: 0.7272\n",
      "Epoch 21/60\n",
      "308/308 [==============================] - ETA: 0s - loss: 0.3996 - acc: 0.8592\n",
      "Epoch 00021: acc improved from 0.84991 to 0.85916, saving model to ./drive/My Drive/food_11_weights/vgg19-21-0.86.hdf5\n",
      "308/308 [==============================] - 313s 1s/step - loss: 0.3996 - acc: 0.8592 - val_loss: 1.1160 - val_acc: 0.6843\n",
      "Epoch 22/60\n",
      "308/308 [==============================] - ETA: 0s - loss: 0.3845 - acc: 0.8630\n",
      "Epoch 00022: acc improved from 0.85916 to 0.86303, saving model to ./drive/My Drive/food_11_weights/vgg19-22-0.86.hdf5\n",
      "308/308 [==============================] - 312s 1s/step - loss: 0.3845 - acc: 0.8630 - val_loss: 1.3548 - val_acc: 0.6603\n",
      "Epoch 23/60\n",
      "308/308 [==============================] - ETA: 0s - loss: 0.3697 - acc: 0.8687\n",
      "Epoch 00023: acc improved from 0.86303 to 0.86872, saving model to ./drive/My Drive/food_11_weights/vgg19-23-0.87.hdf5\n",
      "308/308 [==============================] - 314s 1s/step - loss: 0.3697 - acc: 0.8687 - val_loss: 1.1451 - val_acc: 0.6808\n",
      "Epoch 24/60\n",
      "308/308 [==============================] - ETA: 0s - loss: 0.3796 - acc: 0.8687\n",
      "Epoch 00024: acc did not improve from 0.86872\n",
      "308/308 [==============================] - 314s 1s/step - loss: 0.3796 - acc: 0.8687 - val_loss: 1.1564 - val_acc: 0.6907\n",
      "Epoch 25/60\n",
      "308/308 [==============================] - ETA: 0s - loss: 0.3530 - acc: 0.8766\n",
      "Epoch 00025: acc improved from 0.86872 to 0.87655, saving model to ./drive/My Drive/food_11_weights/vgg19-25-0.88.hdf5\n",
      "308/308 [==============================] - 316s 1s/step - loss: 0.3530 - acc: 0.8766 - val_loss: 1.5608 - val_acc: 0.6507\n",
      "Epoch 26/60\n",
      "308/308 [==============================] - ETA: 0s - loss: 0.3537 - acc: 0.8745\n",
      "Epoch 00026: acc did not improve from 0.87655\n",
      "308/308 [==============================] - 316s 1s/step - loss: 0.3537 - acc: 0.8745 - val_loss: 1.0823 - val_acc: 0.7059\n",
      "Epoch 27/60\n",
      "308/308 [==============================] - ETA: 0s - loss: 0.3387 - acc: 0.8832\n",
      "Epoch 00027: acc improved from 0.87655 to 0.88316, saving model to ./drive/My Drive/food_11_weights/vgg19-27-0.88.hdf5\n",
      "308/308 [==============================] - 312s 1s/step - loss: 0.3387 - acc: 0.8832 - val_loss: 1.3074 - val_acc: 0.6717\n",
      "Epoch 28/60\n",
      "308/308 [==============================] - ETA: 0s - loss: 0.3334 - acc: 0.8842\n",
      "Epoch 00028: acc improved from 0.88316 to 0.88418, saving model to ./drive/My Drive/food_11_weights/vgg19-28-0.88.hdf5\n",
      "308/308 [==============================] - 314s 1s/step - loss: 0.3334 - acc: 0.8842 - val_loss: 1.2735 - val_acc: 0.6968\n",
      "Epoch 29/60\n",
      "308/308 [==============================] - ETA: 0s - loss: 0.3214 - acc: 0.8875\n",
      "Epoch 00029: acc improved from 0.88418 to 0.88753, saving model to ./drive/My Drive/food_11_weights/vgg19-29-0.89.hdf5\n",
      "308/308 [==============================] - 313s 1s/step - loss: 0.3214 - acc: 0.8875 - val_loss: 1.2621 - val_acc: 0.6630\n",
      "Epoch 30/60\n",
      "308/308 [==============================] - ETA: 0s - loss: 0.3203 - acc: 0.8889\n",
      "Epoch 00030: acc improved from 0.88753 to 0.88885, saving model to ./drive/My Drive/food_11_weights/vgg19-30-0.89.hdf5\n",
      "308/308 [==============================] - 313s 1s/step - loss: 0.3203 - acc: 0.8889 - val_loss: 1.4073 - val_acc: 0.6697\n",
      "Epoch 31/60\n",
      "308/308 [==============================] - ETA: 0s - loss: 0.3043 - acc: 0.8908\n",
      "Epoch 00031: acc improved from 0.88885 to 0.89079, saving model to ./drive/My Drive/food_11_weights/vgg19-31-0.89.hdf5\n",
      "308/308 [==============================] - 312s 1s/step - loss: 0.3043 - acc: 0.8908 - val_loss: 1.2586 - val_acc: 0.6857\n",
      "Epoch 32/60\n",
      "308/308 [==============================] - ETA: 0s - loss: 0.3050 - acc: 0.8924\n",
      "Epoch 00032: acc improved from 0.89079 to 0.89241, saving model to ./drive/My Drive/food_11_weights/vgg19-32-0.89.hdf5\n",
      "308/308 [==============================] - 313s 1s/step - loss: 0.3050 - acc: 0.8924 - val_loss: 1.2906 - val_acc: 0.6659\n",
      "Epoch 33/60\n",
      "308/308 [==============================] - ETA: 0s - loss: 0.2840 - acc: 0.8970\n",
      "Epoch 00033: acc improved from 0.89241 to 0.89699, saving model to ./drive/My Drive/food_11_weights/vgg19-33-0.90.hdf5\n",
      "308/308 [==============================] - 313s 1s/step - loss: 0.2840 - acc: 0.8970 - val_loss: 1.1432 - val_acc: 0.7205\n",
      "Epoch 34/60\n",
      "308/308 [==============================] - ETA: 0s - loss: 0.2805 - acc: 0.9027\n",
      "Epoch 00034: acc improved from 0.89699 to 0.90268, saving model to ./drive/My Drive/food_11_weights/vgg19-34-0.90.hdf5\n",
      "Reached target training accuracy\n",
      "308/308 [==============================] - 312s 1s/step - loss: 0.2805 - acc: 0.9027 - val_loss: 1.0398 - val_acc: 0.7328\n"
     ]
    },
    {
     "data": {
      "text/plain": [
       "<tensorflow.python.keras.callbacks.History at 0x7f2dfd0fceb8>"
      ]
     },
     "execution_count": 32,
     "metadata": {
      "tags": []
     },
     "output_type": "execute_result"
    }
   ],
   "source": [
    "#Let's train the model 20 epochs as it will take a lot of time\n",
    "\n",
    "vgg19.model.fit_generator(\n",
    "    train_generator,\n",
    "    steps_per_epoch=train_generator.samples // BATCH_SIZE,\n",
    "    validation_data=validation_generator,\n",
    "    validation_steps=validation_generator.samples // BATCH_SIZE,\n",
    "    callbacks=[checkpoint, csv_logger, training_checkpoint],\n",
    "    epochs=60\n",
    ")"
   ]
  },
  {
   "cell_type": "markdown",
   "metadata": {
    "colab_type": "text",
    "id": "z_XqLbRSDqGP"
   },
   "source": [
    "### Results\n",
    "\n",
    "Training accuracy: 0.9027<br>\n",
    "Training loss: 0.2805 <br>\n",
    "\n",
    "Validation accuracy: 0.7328<br>\n",
    "Validation loss: 1.0398<br>\n",
    "\n",
    "Avoidable bias error: 0.0973 => 9.73%<br>\n",
    "Variance error: 0.1699 => 16.99%<br>\n",
    "\n",
    "### Conclusion:\n",
    "\n",
    "Here variance error is higher than avoidable bias, so we need to regularize the model."
   ]
  },
  {
   "cell_type": "code",
   "execution_count": 0,
   "metadata": {
    "colab": {
     "base_uri": "https://localhost:8080/",
     "height": 541
    },
    "colab_type": "code",
    "id": "e7vI_ZlWqcWf",
    "outputId": "db84c73b-2a8c-45f3-8435-bec893d29071",
    "scrolled": true
   },
   "outputs": [
    {
     "data": {
      "image/png": "[encoded data removed]",
      "text/plain": [
       "<Figure size 432x288 with 1 Axes>"
      ]
     },
     "metadata": {
      "needs_background": "light",
      "tags": []
     },
     "output_type": "display_data"
    },
    {
     "data": {
      "image/png": "[encoded data removed]",
      "text/plain": [
       "<Figure size 432x288 with 1 Axes>"
      ]
     },
     "metadata": {
      "needs_background": "light",
      "tags": []
     },
     "output_type": "display_data"
    }
   ],
   "source": [
    "model_history = vgg19.model.history.history\n",
    "\n",
    "plot_model_results(34, model_history, 'acc')\n",
    "plot_model_results(34, model_history, 'loss')"
   ]
  },
  {
   "cell_type": "markdown",
   "metadata": {
    "colab_type": "text",
    "id": "rxM_6dXPqx7j"
   },
   "source": [
    "### Regularizing model\n",
    "\n",
    "Let's use following techniques to regularize the model step by step:\n",
    "1. Data augmentation. <br>\n",
    "2. Adding weight regularization.<br>\n",
    "3. Adding dropout. <br>\n"
   ]
  },
  {
   "cell_type": "code",
   "execution_count": 0,
   "metadata": {
    "colab": {},
    "colab_type": "code",
    "id": "_4x20Cvo_ZfR"
   },
   "outputs": [],
   "source": [
    "model = tf.keras.models.load_model('./models/vgg19-34-0.90.hdf5')"
   ]
  },
  {
   "cell_type": "markdown",
   "metadata": {},
   "source": [
    "### Data augmentation"
   ]
  },
  {
   "cell_type": "code",
   "execution_count": 0,
   "metadata": {
    "colab": {},
    "colab_type": "code",
    "id": "JfU65Gmbqq9c"
   },
   "outputs": [],
   "source": [
    "datagen = tf.keras.preprocessing.image.ImageDataGenerator(\n",
    "    preprocessing_function=tf.keras.applications.vgg19.preprocess_input,\n",
    "    rescale=1.0/255.0,\n",
    "    horizontal_flip=True, \n",
    "    zoom_range=0.2,\n",
    "    shear_range=0.2,\n",
    "    width_shift_range=0.2,\n",
    "    height_shift_range=0.2,\n",
    "    rotation_range=30\n",
    ")"
   ]
  },
  {
   "cell_type": "code",
   "execution_count": 16,
   "metadata": {
    "colab": {
     "base_uri": "https://localhost:8080/",
     "height": 52
    },
    "colab_type": "code",
    "id": "o3m48cGYrT6J",
    "outputId": "009821c1-4470-4211-dd99-5065946a4238"
   },
   "outputs": [
    {
     "name": "stdout",
     "output_type": "stream",
     "text": [
      "Found 9866 images belonging to 11 classes.\n",
      "Found 3430 images belonging to 11 classes.\n"
     ]
    }
   ],
   "source": [
    "train_generator, validation_generator = get_data_generators(datagen, TARGET_DIM, BATCH_SIZE)"
   ]
  },
  {
   "cell_type": "code",
   "execution_count": 0,
   "metadata": {
    "colab": {},
    "colab_type": "code",
    "id": "eo0-Mi89AjtH"
   },
   "outputs": [],
   "source": [
    "# Lets define checkpoint for model saving\n",
    "filepath=\"./models/vgg19-regularized-{epoch:02d}-{val_acc:.2f}.hdf5\"\n",
    "checkpoint = tf.keras.callbacks.ModelCheckpoint(filepath, monitor='val_acc', verbose=1, save_best_only=True, mode='max')\n",
    "\n",
    "training_checkpoint = TrainingCheckpoint()\n",
    "\n",
    "csv_logger = tf.keras.callbacks.CSVLogger(filename='./logs/vgg19_regularized.csv', append=True)\n",
    "\n",
    "early_stopping = tf.keras.callbacks.EarlyStopping(monitor='val_acc', patience=3, mode='max')"
   ]
  },
  {
   "cell_type": "code",
   "execution_count": 0,
   "metadata": {
    "colab": {
     "base_uri": "https://localhost:8080/",
     "height": 688
    },
    "colab_type": "code",
    "id": "JRhQAzmnrr1a",
    "outputId": "54b567b1-bfea-4326-c1fb-258b597e5d22",
    "scrolled": true
   },
   "outputs": [
    {
     "name": "stdout",
     "output_type": "stream",
     "text": [
      "Epoch 1/20\n",
      "308/308 [==============================] - ETA: 0s - loss: 0.4686 - acc: 0.8350\n",
      "Epoch 00001: val_acc improved from -inf to 0.67553, saving model to ./drive/My Drive/food_11_weights/vgg19-regularized-01-0.68.hdf5\n",
      "308/308 [==============================] - 305s 992ms/step - loss: 0.4686 - acc: 0.8350 - val_loss: 1.0762 - val_acc: 0.6755\n",
      "Epoch 2/20\n",
      "308/308 [==============================] - ETA: 0s - loss: 0.4549 - acc: 0.8433\n",
      "Epoch 00002: val_acc improved from 0.67553 to 0.68166, saving model to ./drive/My Drive/food_11_weights/vgg19-regularized-02-0.68.hdf5\n",
      "308/308 [==============================] - 313s 1s/step - loss: 0.4549 - acc: 0.8433 - val_loss: 1.1858 - val_acc: 0.6817\n",
      "Epoch 3/20\n",
      "308/308 [==============================] - ETA: 0s - loss: 0.4691 - acc: 0.8336\n",
      "Epoch 00003: val_acc did not improve from 0.68166\n",
      "308/308 [==============================] - 313s 1s/step - loss: 0.4691 - acc: 0.8336 - val_loss: 1.2313 - val_acc: 0.6653\n",
      "Epoch 4/20\n",
      "308/308 [==============================] - ETA: 0s - loss: 0.4520 - acc: 0.8449\n",
      "Epoch 00004: val_acc did not improve from 0.68166\n",
      "308/308 [==============================] - 305s 991ms/step - loss: 0.4520 - acc: 0.8449 - val_loss: 1.0989 - val_acc: 0.6817\n",
      "Epoch 5/20\n",
      "308/308 [==============================] - ETA: 0s - loss: 0.4396 - acc: 0.8440\n",
      "Epoch 00005: val_acc improved from 0.68166 to 0.69860, saving model to ./drive/My Drive/food_11_weights/vgg19-regularized-05-0.70.hdf5\n",
      "308/308 [==============================] - 302s 981ms/step - loss: 0.4396 - acc: 0.8440 - val_loss: 1.0872 - val_acc: 0.6986\n",
      "Epoch 6/20\n",
      "308/308 [==============================] - ETA: 0s - loss: 0.4497 - acc: 0.8439\n",
      "Epoch 00006: val_acc improved from 0.69860 to 0.71057, saving model to ./drive/My Drive/food_11_weights/vgg19-regularized-06-0.71.hdf5\n",
      "308/308 [==============================] - 302s 980ms/step - loss: 0.4497 - acc: 0.8439 - val_loss: 0.9862 - val_acc: 0.7106\n",
      "Epoch 7/20\n",
      "308/308 [==============================] - ETA: 0s - loss: 0.4219 - acc: 0.8540\n",
      "Epoch 00007: val_acc did not improve from 0.71057\n",
      "308/308 [==============================] - 301s 978ms/step - loss: 0.4219 - acc: 0.8540 - val_loss: 1.1305 - val_acc: 0.6825\n",
      "Epoch 8/20\n",
      "308/308 [==============================] - ETA: 0s - loss: 0.4261 - acc: 0.8505\n",
      "Epoch 00008: val_acc did not improve from 0.71057\n",
      "308/308 [==============================] - 301s 977ms/step - loss: 0.4261 - acc: 0.8505 - val_loss: 1.0378 - val_acc: 0.6971\n",
      "Epoch 9/20\n",
      "308/308 [==============================] - ETA: 0s - loss: 0.4154 - acc: 0.8549\n",
      "Epoch 00009: val_acc did not improve from 0.71057\n",
      "308/308 [==============================] - 301s 977ms/step - loss: 0.4154 - acc: 0.8549 - val_loss: 1.0596 - val_acc: 0.7036\n"
     ]
    },
    {
     "data": {
      "text/plain": [
       "<tensorflow.python.keras.callbacks.History at 0x7f2b65bd9828>"
      ]
     },
     "execution_count": 60,
     "metadata": {
      "tags": []
     },
     "output_type": "execute_result"
    }
   ],
   "source": [
    "model.fit_generator(\n",
    "    train_generator,\n",
    "    steps_per_epoch=train_generator.samples // BATCH_SIZE,\n",
    "    validation_data=validation_generator,\n",
    "    validation_steps=validation_generator.samples // BATCH_SIZE,\n",
    "    callbacks=[checkpoint, csv_logger, training_checkpoint, early_stopping],\n",
    "    epochs=20\n",
    ")"
   ]
  },
  {
   "cell_type": "markdown",
   "metadata": {
    "colab_type": "text",
    "id": "IrJd4vShTZb_"
   },
   "source": [
    "### Results\n",
    "\n",
    "Training accuracy: 0.8549<br>\n",
    "Training loss: 0.4154 <br>\n",
    "\n",
    "Validation accuracy: 0.7036<br>\n",
    "Validation loss: 1.0596<br>\n",
    "\n",
    "Avoidable bias error: 0.1551 => 15.51%<br>\n",
    "Variance error: 0.1513 => 15.13%<br>\n",
    "\n",
    "### Conclusion:\n",
    "\n",
    "Here avoidable bias is higher than variance error, but training further won't help as the model won't be generalized instead lets focus on reducing variance."
   ]
  },
  {
   "cell_type": "markdown",
   "metadata": {},
   "source": [
    "### Kernel regularization"
   ]
  },
  {
   "cell_type": "code",
   "execution_count": 0,
   "metadata": {
    "colab": {},
    "colab_type": "code",
    "id": "NwyrsB8HOVyO"
   },
   "outputs": [],
   "source": [
    "## Adding weight regularization to dense_1 and dense_3 layers.\n",
    "weight_regularization_layers = [model.layers[-2], model.layers[-6]]\n",
    "model = add_regularization(model, weight_regularization_layers, regularizer=tf.keras.regularizers.l2(l=0.003))"
   ]
  },
  {
   "cell_type": "code",
   "execution_count": 0,
   "metadata": {
    "colab": {},
    "colab_type": "code",
    "id": "3OUvaQzRPHU7"
   },
   "outputs": [],
   "source": [
    "model.compile(\n",
    "    optimizer=tf.keras.optimizers.Adam(learning_rate=0.001),\n",
    "    loss='categorical_crossentropy',\n",
    "    metrics=['acc']\n",
    ")"
   ]
  },
  {
   "cell_type": "code",
   "execution_count": 0,
   "metadata": {
    "colab": {
     "base_uri": "https://localhost:8080/",
     "height": 547
    },
    "colab_type": "code",
    "id": "8_Zh4WkaO8Qd",
    "outputId": "95f8e1c8-0ed3-47c2-a3ab-40bfa5d6e2db",
    "scrolled": true
   },
   "outputs": [
    {
     "name": "stdout",
     "output_type": "stream",
     "text": [
      "Epoch 1/20\n",
      "308/308 [==============================] - ETA: 0s - loss: 6.2717 - acc: 0.8498\n",
      "Epoch 00001: val_acc did not improve from 0.71057\n",
      "308/308 [==============================] - 302s 980ms/step - loss: 6.2717 - acc: 0.8498 - val_loss: 2.7301 - val_acc: 0.7103\n",
      "Epoch 2/20\n",
      "308/308 [==============================] - ETA: 0s - loss: 1.6931 - acc: 0.8155\n",
      "Epoch 00002: val_acc did not improve from 0.71057\n",
      "308/308 [==============================] - 301s 977ms/step - loss: 1.6931 - acc: 0.8155 - val_loss: 1.7497 - val_acc: 0.6779\n",
      "Epoch 3/20\n",
      "308/308 [==============================] - ETA: 0s - loss: 1.2010 - acc: 0.7920\n",
      "Epoch 00003: val_acc did not improve from 0.71057\n",
      "308/308 [==============================] - 301s 978ms/step - loss: 1.2010 - acc: 0.7920 - val_loss: 1.3954 - val_acc: 0.7071\n",
      "Epoch 4/20\n",
      "308/308 [==============================] - ETA: 0s - loss: 1.0524 - acc: 0.7915\n",
      "Epoch 00004: val_acc improved from 0.71057 to 0.71320, saving model to ./drive/My Drive/food_11_weights/vgg19-regularized-04-0.71.hdf5\n",
      "308/308 [==============================] - 302s 982ms/step - loss: 1.0524 - acc: 0.7915 - val_loss: 1.3057 - val_acc: 0.7132\n",
      "Epoch 5/20\n",
      "308/308 [==============================] - ETA: 0s - loss: 0.9737 - acc: 0.7862\n",
      "Epoch 00005: val_acc did not improve from 0.71320\n",
      "308/308 [==============================] - 305s 989ms/step - loss: 0.9737 - acc: 0.7862 - val_loss: 1.2839 - val_acc: 0.6901\n",
      "Epoch 6/20\n",
      "308/308 [==============================] - ETA: 0s - loss: 0.9624 - acc: 0.7775\n",
      "Epoch 00006: val_acc did not improve from 0.71320\n",
      "308/308 [==============================] - 307s 997ms/step - loss: 0.9624 - acc: 0.7775 - val_loss: 1.3355 - val_acc: 0.6571\n",
      "Epoch 7/20\n",
      "308/308 [==============================] - ETA: 0s - loss: 0.9226 - acc: 0.7831\n",
      "Epoch 00007: val_acc did not improve from 0.71320\n",
      "308/308 [==============================] - 309s 1s/step - loss: 0.9226 - acc: 0.7831 - val_loss: 1.3146 - val_acc: 0.6726\n"
     ]
    },
    {
     "data": {
      "text/plain": [
       "<tensorflow.python.keras.callbacks.History at 0x7f2b65aee0f0>"
      ]
     },
     "execution_count": 66,
     "metadata": {
      "tags": []
     },
     "output_type": "execute_result"
    }
   ],
   "source": [
    "model.fit_generator(\n",
    "    train_generator,\n",
    "    steps_per_epoch=train_generator.samples // BATCH_SIZE,\n",
    "    validation_data=validation_generator,\n",
    "    validation_steps=validation_generator.samples // BATCH_SIZE,\n",
    "    callbacks=[checkpoint, csv_logger, training_checkpoint, early_stopping],\n",
    "    epochs=20\n",
    ")"
   ]
  },
  {
   "cell_type": "markdown",
   "metadata": {
    "colab_type": "text",
    "id": "WpUtTp_kUp4s"
   },
   "source": [
    "### Results\n",
    "\n",
    "Training accuracy: 0.7915<br>\n",
    "Training loss: 1.0524 <br>\n",
    "\n",
    "Validation accuracy: 0.7132<br>\n",
    "Validation loss: 1.3057<br>\n",
    "\n",
    "Avoidable bias error: 0.2085 => 20.85%<br>\n",
    "Variance error: 0.0782 => 7.82%<br>\n",
    "\n",
    "### Conclusion:\n",
    "\n",
    "Lets try to reduce the bias by further training network by unfreezing 2 convolutional layers."
   ]
  },
  {
   "cell_type": "markdown",
   "metadata": {},
   "source": [
    "## Unfreeze more layers"
   ]
  },
  {
   "cell_type": "code",
   "execution_count": 0,
   "metadata": {
    "colab": {},
    "colab_type": "code",
    "id": "bSfXNboqVdqg"
   },
   "outputs": [],
   "source": [
    "model = tf.keras.models.load_model('./models/vgg19-regularized-04-0.71.hdf5')"
   ]
  },
  {
   "cell_type": "code",
   "execution_count": 34,
   "metadata": {
    "colab": {
     "base_uri": "https://localhost:8080/",
     "height": 1000
    },
    "colab_type": "code",
    "id": "YfAvSUQtXZ-W",
    "outputId": "1efd771b-691d-4977-d73f-0f2d48a87573",
    "scrolled": true
   },
   "outputs": [
    {
     "name": "stdout",
     "output_type": "stream",
     "text": [
      "Model: \"model\"\n",
      "_________________________________________________________________\n",
      "Layer (type)                 Output Shape              Param #   \n",
      "=================================================================\n",
      "input_2 (InputLayer)         [(None, 300, 300, 3)]     0         \n",
      "_________________________________________________________________\n",
      "block1_conv1 (Conv2D)        (None, 300, 300, 64)      1792      \n",
      "_________________________________________________________________\n",
      "block1_conv2 (Conv2D)        (None, 300, 300, 64)      36928     \n",
      "_________________________________________________________________\n",
      "block1_pool (MaxPooling2D)   (None, 150, 150, 64)      0         \n",
      "_________________________________________________________________\n",
      "block2_conv1 (Conv2D)        (None, 150, 150, 128)     73856     \n",
      "_________________________________________________________________\n",
      "block2_conv2 (Conv2D)        (None, 150, 150, 128)     147584    \n",
      "_________________________________________________________________\n",
      "block2_pool (MaxPooling2D)   (None, 75, 75, 128)       0         \n",
      "_________________________________________________________________\n",
      "block3_conv1 (Conv2D)        (None, 75, 75, 256)       295168    \n",
      "_________________________________________________________________\n",
      "block3_conv2 (Conv2D)        (None, 75, 75, 256)       590080    \n",
      "_________________________________________________________________\n",
      "block3_conv3 (Conv2D)        (None, 75, 75, 256)       590080    \n",
      "_________________________________________________________________\n",
      "block3_conv4 (Conv2D)        (None, 75, 75, 256)       590080    \n",
      "_________________________________________________________________\n",
      "block3_pool (MaxPooling2D)   (None, 37, 37, 256)       0         \n",
      "_________________________________________________________________\n",
      "block4_conv1 (Conv2D)        (None, 37, 37, 512)       1180160   \n",
      "_________________________________________________________________\n",
      "block4_conv2 (Conv2D)        (None, 37, 37, 512)       2359808   \n",
      "_________________________________________________________________\n",
      "block4_conv3 (Conv2D)        (None, 37, 37, 512)       2359808   \n",
      "_________________________________________________________________\n",
      "block4_conv4 (Conv2D)        (None, 37, 37, 512)       2359808   \n",
      "_________________________________________________________________\n",
      "block4_pool (MaxPooling2D)   (None, 18, 18, 512)       0         \n",
      "_________________________________________________________________\n",
      "block5_conv1 (Conv2D)        (None, 18, 18, 512)       2359808   \n",
      "_________________________________________________________________\n",
      "block5_conv2 (Conv2D)        (None, 18, 18, 512)       2359808   \n",
      "_________________________________________________________________\n",
      "block5_conv3 (Conv2D)        (None, 18, 18, 512)       2359808   \n",
      "_________________________________________________________________\n",
      "block5_conv4 (Conv2D)        (None, 18, 18, 512)       2359808   \n",
      "_________________________________________________________________\n",
      "block5_pool (MaxPooling2D)   (None, 9, 9, 512)         0         \n",
      "_________________________________________________________________\n",
      "global_average_pooling2d (Gl (None, 512)               0         \n",
      "_________________________________________________________________\n",
      "dense (Dense)                (None, 1024)              525312    \n",
      "_________________________________________________________________\n",
      "batch_normalization (BatchNo (None, 1024)              4096      \n",
      "_________________________________________________________________\n",
      "dense_1 (Dense)              (None, 512)               524800    \n",
      "_________________________________________________________________\n",
      "batch_normalization_1 (Batch (None, 512)               2048      \n",
      "_________________________________________________________________\n",
      "dense_2 (Dense)              (None, 256)               131328    \n",
      "_________________________________________________________________\n",
      "batch_normalization_2 (Batch (None, 256)               1024      \n",
      "_________________________________________________________________\n",
      "dense_3 (Dense)              (None, 128)               32896     \n",
      "_________________________________________________________________\n",
      "dense_4 (Dense)              (None, 11)                1419      \n",
      "=================================================================\n",
      "Total params: 21,247,307\n",
      "Trainable params: 1,219,339\n",
      "Non-trainable params: 20,027,968\n",
      "_________________________________________________________________\n"
     ]
    }
   ],
   "source": [
    "# Let's add a dropout layer \n",
    "model.summary()"
   ]
  },
  {
   "cell_type": "code",
   "execution_count": 0,
   "metadata": {
    "colab": {},
    "colab_type": "code",
    "id": "62L2rnFkY3nU"
   },
   "outputs": [],
   "source": [
    "## Let's unfreeze the last 2 layers of base model. \n",
    "vgg19 = ModelTrain(model, TARGET_DIM, BATCH_SIZE)"
   ]
  },
  {
   "cell_type": "code",
   "execution_count": 0,
   "metadata": {
    "colab": {},
    "colab_type": "code",
    "id": "bEUdV427ZMm1"
   },
   "outputs": [],
   "source": [
    "vgg19.freeze_layers(11)"
   ]
  },
  {
   "cell_type": "code",
   "execution_count": 0,
   "metadata": {
    "colab": {},
    "colab_type": "code",
    "id": "0qkySupsZOgV"
   },
   "outputs": [],
   "source": [
    "vgg19.model.compile(\n",
    "    optimizer=tf.keras.optimizers.Adam(learning_rate=0.001),\n",
    "    loss='categorical_crossentropy',\n",
    "    metrics=['acc']\n",
    ")"
   ]
  },
  {
   "cell_type": "code",
   "execution_count": 38,
   "metadata": {
    "colab": {
     "base_uri": "https://localhost:8080/",
     "height": 1000
    },
    "colab_type": "code",
    "id": "2cBD8qNqZTKE",
    "outputId": "8c63f684-00b1-45ea-f655-abb480710329",
    "scrolled": true
   },
   "outputs": [
    {
     "name": "stdout",
     "output_type": "stream",
     "text": [
      "Epoch 1/20\n",
      "308/308 [==============================] - ETA: 0s - loss: 1.4505 - acc: 0.6280\n",
      "Epoch 00001: val_acc improved from -inf to 0.53826, saving model to ./drive/My Drive/food_11_weights/vgg19-regularized-01-0.54.hdf5\n",
      "308/308 [==============================] - 422s 1s/step - loss: 1.4505 - acc: 0.6280 - val_loss: 1.8585 - val_acc: 0.5383\n",
      "Epoch 2/20\n",
      "308/308 [==============================] - ETA: 0s - loss: 1.1319 - acc: 0.7026\n",
      "Epoch 00002: val_acc did not improve from 0.53826\n",
      "308/308 [==============================] - 419s 1s/step - loss: 1.1319 - acc: 0.7026 - val_loss: 1.8168 - val_acc: 0.5172\n",
      "Epoch 3/20\n",
      "308/308 [==============================] - ETA: 0s - loss: 1.0248 - acc: 0.7296\n",
      "Epoch 00003: val_acc improved from 0.53826 to 0.63347, saving model to ./drive/My Drive/food_11_weights/vgg19-regularized-03-0.63.hdf5\n",
      "308/308 [==============================] - 418s 1s/step - loss: 1.0248 - acc: 0.7296 - val_loss: 1.3097 - val_acc: 0.6335\n",
      "Epoch 4/20\n",
      "308/308 [==============================] - ETA: 0s - loss: 0.9400 - acc: 0.7445\n",
      "Epoch 00004: val_acc improved from 0.63347 to 0.65391, saving model to ./drive/My Drive/food_11_weights/vgg19-regularized-04-0.65.hdf5\n",
      "308/308 [==============================] - 423s 1s/step - loss: 0.9400 - acc: 0.7445 - val_loss: 1.2247 - val_acc: 0.6539\n",
      "Epoch 5/20\n",
      "308/308 [==============================] - ETA: 0s - loss: 0.8806 - acc: 0.7661\n",
      "Epoch 00005: val_acc improved from 0.65391 to 0.70970, saving model to ./drive/My Drive/food_11_weights/vgg19-regularized-05-0.71.hdf5\n",
      "308/308 [==============================] - 424s 1s/step - loss: 0.8806 - acc: 0.7661 - val_loss: 1.0897 - val_acc: 0.7097\n",
      "Epoch 6/20\n",
      "308/308 [==============================] - ETA: 0s - loss: 0.8670 - acc: 0.7644\n",
      "Epoch 00006: val_acc did not improve from 0.70970\n",
      "308/308 [==============================] - 420s 1s/step - loss: 0.8670 - acc: 0.7644 - val_loss: 1.1414 - val_acc: 0.6919\n",
      "Epoch 7/20\n",
      "308/308 [==============================] - ETA: 0s - loss: 0.8341 - acc: 0.7785\n",
      "Epoch 00007: val_acc improved from 0.70970 to 0.72780, saving model to ./drive/My Drive/food_11_weights/vgg19-regularized-07-0.73.hdf5\n",
      "308/308 [==============================] - 420s 1s/step - loss: 0.8341 - acc: 0.7785 - val_loss: 0.9928 - val_acc: 0.7278\n",
      "Epoch 8/20\n",
      "308/308 [==============================] - ETA: 0s - loss: 0.8007 - acc: 0.7897\n",
      "Epoch 00008: val_acc did not improve from 0.72780\n",
      "308/308 [==============================] - 422s 1s/step - loss: 0.8007 - acc: 0.7897 - val_loss: 1.0439 - val_acc: 0.7112\n",
      "Epoch 9/20\n",
      "308/308 [==============================] - ETA: 0s - loss: 0.7696 - acc: 0.7974\n",
      "Epoch 00009: val_acc did not improve from 0.72780\n",
      "308/308 [==============================] - 423s 1s/step - loss: 0.7696 - acc: 0.7974 - val_loss: 1.0956 - val_acc: 0.7001\n",
      "Epoch 10/20\n",
      "308/308 [==============================] - ETA: 0s - loss: 0.7675 - acc: 0.7999\n",
      "Epoch 00010: val_acc did not improve from 0.72780\n",
      "308/308 [==============================] - 424s 1s/step - loss: 0.7675 - acc: 0.7999 - val_loss: 1.3273 - val_acc: 0.6373\n",
      "Epoch 11/20\n",
      "308/308 [==============================] - ETA: 0s - loss: 0.7510 - acc: 0.8015\n",
      "Epoch 00011: val_acc improved from 0.72780 to 0.75613, saving model to ./drive/My Drive/food_11_weights/vgg19-regularized-11-0.76.hdf5\n",
      "308/308 [==============================] - 424s 1s/step - loss: 0.7510 - acc: 0.8015 - val_loss: 0.9051 - val_acc: 0.7561\n",
      "Epoch 12/20\n",
      "308/308 [==============================] - ETA: 0s - loss: 0.6983 - acc: 0.8225\n",
      "Epoch 00012: val_acc did not improve from 0.75613\n",
      "308/308 [==============================] - 421s 1s/step - loss: 0.6983 - acc: 0.8225 - val_loss: 0.9607 - val_acc: 0.7360\n",
      "Epoch 13/20\n",
      "308/308 [==============================] - ETA: 0s - loss: 0.7019 - acc: 0.8183\n",
      "Epoch 00013: val_acc did not improve from 0.75613\n",
      "308/308 [==============================] - 421s 1s/step - loss: 0.7019 - acc: 0.8183 - val_loss: 1.0650 - val_acc: 0.7185\n",
      "Epoch 14/20\n",
      "308/308 [==============================] - ETA: 0s - loss: 0.6935 - acc: 0.8158\n",
      "Epoch 00014: val_acc did not improve from 0.75613\n",
      "308/308 [==============================] - 421s 1s/step - loss: 0.6935 - acc: 0.8158 - val_loss: 0.9458 - val_acc: 0.7468\n",
      "Epoch 15/20\n",
      "308/308 [==============================] - ETA: 0s - loss: 0.6657 - acc: 0.8260\n",
      "Epoch 00015: val_acc improved from 0.75613 to 0.77629, saving model to ./drive/My Drive/food_11_weights/vgg19-regularized-15-0.78.hdf5\n",
      "308/308 [==============================] - 420s 1s/step - loss: 0.6657 - acc: 0.8260 - val_loss: 0.8758 - val_acc: 0.7763\n",
      "Epoch 16/20\n",
      "308/308 [==============================] - ETA: 0s - loss: 0.6567 - acc: 0.8356\n",
      "Epoch 00016: val_acc did not improve from 0.77629\n",
      "308/308 [==============================] - 421s 1s/step - loss: 0.6567 - acc: 0.8356 - val_loss: 1.0242 - val_acc: 0.7290\n",
      "Epoch 17/20\n",
      "308/308 [==============================] - ETA: 0s - loss: 0.6121 - acc: 0.8463\n",
      "Epoch 00017: val_acc did not improve from 0.77629\n",
      "308/308 [==============================] - 418s 1s/step - loss: 0.6121 - acc: 0.8463 - val_loss: 1.0029 - val_acc: 0.7214\n",
      "Epoch 18/20\n",
      "308/308 [==============================] - ETA: 0s - loss: 0.6053 - acc: 0.8458\n",
      "Epoch 00018: val_acc improved from 0.77629 to 0.77745, saving model to ./drive/My Drive/food_11_weights/vgg19-regularized-18-0.78.hdf5\n",
      "308/308 [==============================] - 421s 1s/step - loss: 0.6053 - acc: 0.8458 - val_loss: 0.8480 - val_acc: 0.7775\n",
      "Epoch 19/20\n",
      "308/308 [==============================] - ETA: 0s - loss: 0.5926 - acc: 0.8495\n",
      "Epoch 00019: val_acc did not improve from 0.77745\n",
      "308/308 [==============================] - 421s 1s/step - loss: 0.5926 - acc: 0.8495 - val_loss: 0.9369 - val_acc: 0.7412\n",
      "Epoch 20/20\n",
      "308/308 [==============================] - ETA: 0s - loss: 0.5729 - acc: 0.8583\n",
      "Epoch 00020: val_acc did not improve from 0.77745\n",
      "308/308 [==============================] - 418s 1s/step - loss: 0.5729 - acc: 0.8583 - val_loss: 0.9320 - val_acc: 0.7488\n",
      "CPU times: user 2h 35min 44s, sys: 4min 38s, total: 2h 40min 22s\n",
      "Wall time: 2h 20min 52s\n"
     ]
    },
    {
     "data": {
      "text/plain": [
       "<tensorflow.python.keras.callbacks.History at 0x7fd76b49ada0>"
      ]
     },
     "execution_count": 38,
     "metadata": {
      "tags": []
     },
     "output_type": "execute_result"
    }
   ],
   "source": [
    "%%time\n",
    "vgg19.model.fit_generator(\n",
    "    train_generator,\n",
    "    steps_per_epoch=train_generator.samples // BATCH_SIZE,\n",
    "    validation_data=validation_generator,\n",
    "    validation_steps=validation_generator.samples // BATCH_SIZE,\n",
    "    callbacks=[checkpoint, csv_logger, training_checkpoint],\n",
    "    epochs=20\n",
    ")"
   ]
  },
  {
   "cell_type": "markdown",
   "metadata": {},
   "source": [
    "### Results\n",
    "\n",
    "Training accuracy: 0.8458<br>\n",
    "Training loss: 0.6053 <br>\n",
    "\n",
    "Validation accuracy: 0.7775<br>\n",
    "Validation loss: 0.8480<br>\n",
    "\n",
    "Avoidable bias error: 0.1542 => 15.42%<br>\n",
    "Variance error: 0.0717 => 7.17%<br>\n",
    "\n",
    "### Conclusion:\n",
    "It appears that validation accuracy is not improving above 77% because of class imbalance problem, so though bias error is higher than variance error, reducing the bias error further will only overfit the model. So let's try to reduce variance error instead."
   ]
  },
  {
   "cell_type": "markdown",
   "metadata": {},
   "source": [
    "## Adding dropout regularization"
   ]
  },
  {
   "cell_type": "code",
   "execution_count": 0,
   "metadata": {
    "colab": {},
    "colab_type": "code",
    "id": "9i2feLJYZxdy"
   },
   "outputs": [],
   "source": [
    "model = tf.keras.models.load_model('./models/vgg19-regularized-18-0.78.hdf5')"
   ]
  },
  {
   "cell_type": "code",
   "execution_count": 0,
   "metadata": {
    "colab": {},
    "colab_type": "code",
    "id": "jtnlCgl26uKn"
   },
   "outputs": [],
   "source": [
    "preds = model.layers[-8].output\n",
    "preds = tf.keras.layers.Dropout(rate=0.4)(preds)\n",
    "preds = model.layers[-7](preds)\n",
    "preds = model.layers[-6](preds)\n",
    "preds = model.layers[-5](preds)\n",
    "preds = model.layers[-4](preds)\n",
    "preds = tf.keras.layers.Dropout(rate=0.3)(preds)\n",
    "preds = model.layers[-3](preds)\n",
    "preds = model.layers[-2](preds)\n",
    "preds = model.layers[-1](preds)"
   ]
  },
  {
   "cell_type": "code",
   "execution_count": 0,
   "metadata": {
    "colab": {},
    "colab_type": "code",
    "id": "iLAg3V9662mQ"
   },
   "outputs": [],
   "source": [
    "model = tf.keras.models.Model(model.input, preds)"
   ]
  },
  {
   "cell_type": "code",
   "execution_count": 0,
   "metadata": {
    "colab": {},
    "colab_type": "code",
    "id": "vAeTKnfb7Ma8"
   },
   "outputs": [],
   "source": [
    "vgg19 = ModelTrain(model, TARGET_DIM, BATCH_SIZE)"
   ]
  },
  {
   "cell_type": "code",
   "execution_count": 0,
   "metadata": {
    "colab": {},
    "colab_type": "code",
    "id": "6MGCPQtk7mTg"
   },
   "outputs": [],
   "source": [
    "vgg19.freeze_layers(13)"
   ]
  },
  {
   "cell_type": "code",
   "execution_count": 0,
   "metadata": {
    "colab": {},
    "colab_type": "code",
    "id": "2iQ_NS_m7oMc"
   },
   "outputs": [],
   "source": [
    "vgg19.model.compile(\n",
    "    optimizer=tf.keras.optimizers.Adam(),\n",
    "    loss = 'categorical_crossentropy',\n",
    "    metrics = ['acc']\n",
    ")"
   ]
  },
  {
   "cell_type": "code",
   "execution_count": 55,
   "metadata": {
    "colab": {
     "base_uri": "https://localhost:8080/",
     "height": 794
    },
    "colab_type": "code",
    "id": "AgnY-mH07zlh",
    "outputId": "d3aaba28-2f18-4686-e2e1-a01ef27f7f07",
    "scrolled": true
   },
   "outputs": [
    {
     "name": "stdout",
     "output_type": "stream",
     "text": [
      "Epoch 1/10\n",
      "308/308 [==============================] - ETA: 0s - loss: 0.7455 - acc: 0.8133\n",
      "Epoch 00001: val_acc did not improve from 0.77745\n",
      "308/308 [==============================] - 421s 1s/step - loss: 0.7455 - acc: 0.8133 - val_loss: 1.0078 - val_acc: 0.7518\n",
      "Epoch 2/10\n",
      "308/308 [==============================] - ETA: 0s - loss: 0.7155 - acc: 0.8357\n",
      "Epoch 00002: val_acc did not improve from 0.77745\n",
      "308/308 [==============================] - 420s 1s/step - loss: 0.7155 - acc: 0.8357 - val_loss: 1.0499 - val_acc: 0.7331\n",
      "Epoch 3/10\n",
      "308/308 [==============================] - ETA: 0s - loss: 0.7049 - acc: 0.8354\n",
      "Epoch 00003: val_acc did not improve from 0.77745\n",
      "308/308 [==============================] - 418s 1s/step - loss: 0.7049 - acc: 0.8354 - val_loss: 0.9993 - val_acc: 0.7482\n",
      "Epoch 4/10\n",
      "308/308 [==============================] - ETA: 0s - loss: 0.6944 - acc: 0.8446\n",
      "Epoch 00004: val_acc did not improve from 0.77745\n",
      "308/308 [==============================] - 423s 1s/step - loss: 0.6944 - acc: 0.8446 - val_loss: 1.0002 - val_acc: 0.7485\n",
      "Epoch 5/10\n",
      "308/308 [==============================] - ETA: 0s - loss: 0.6815 - acc: 0.8482\n",
      "Epoch 00005: val_acc did not improve from 0.77745\n",
      "308/308 [==============================] - 425s 1s/step - loss: 0.6815 - acc: 0.8482 - val_loss: 1.0481 - val_acc: 0.7266\n",
      "Epoch 6/10\n",
      "308/308 [==============================] - ETA: 0s - loss: 0.6556 - acc: 0.8532\n",
      "Epoch 00006: val_acc did not improve from 0.77745\n",
      "308/308 [==============================] - 423s 1s/step - loss: 0.6556 - acc: 0.8532 - val_loss: 1.0371 - val_acc: 0.7480\n",
      "Epoch 7/10\n",
      "308/308 [==============================] - ETA: 0s - loss: 0.6477 - acc: 0.8505\n",
      "Epoch 00007: val_acc did not improve from 0.77745\n",
      "308/308 [==============================] - 424s 1s/step - loss: 0.6477 - acc: 0.8505 - val_loss: 0.9970 - val_acc: 0.7538\n",
      "Epoch 8/10\n",
      "308/308 [==============================] - ETA: 0s - loss: 0.6477 - acc: 0.8542\n",
      "Epoch 00008: val_acc improved from 0.77745 to 0.78037, saving model to ./drive/My Drive/food_11_weights/vgg19-regularized-08-0.78.hdf5\n",
      "308/308 [==============================] - 419s 1s/step - loss: 0.6477 - acc: 0.8542 - val_loss: 0.9073 - val_acc: 0.7804\n",
      "Epoch 9/10\n",
      "308/308 [==============================] - ETA: 0s - loss: 0.6273 - acc: 0.8595\n",
      "Epoch 00009: val_acc did not improve from 0.78037\n",
      "308/308 [==============================] - 419s 1s/step - loss: 0.6273 - acc: 0.8595 - val_loss: 0.9708 - val_acc: 0.7652\n",
      "Epoch 10/10\n",
      "308/308 [==============================] - ETA: 0s - loss: 0.6155 - acc: 0.8612\n",
      "Epoch 00010: val_acc did not improve from 0.78037\n",
      "308/308 [==============================] - 423s 1s/step - loss: 0.6155 - acc: 0.8612 - val_loss: 0.9129 - val_acc: 0.7772\n",
      "CPU times: user 1h 18min 13s, sys: 2min 4s, total: 1h 20min 18s\n",
      "Wall time: 1h 10min 32s\n"
     ]
    },
    {
     "data": {
      "text/plain": [
       "<tensorflow.python.keras.callbacks.History at 0x7fd76794a5f8>"
      ]
     },
     "execution_count": 55,
     "metadata": {
      "tags": []
     },
     "output_type": "execute_result"
    }
   ],
   "source": [
    "%%time\n",
    "vgg19.model.fit_generator(\n",
    "    train_generator,\n",
    "    steps_per_epoch=train_generator.samples // BATCH_SIZE,\n",
    "    validation_data=validation_generator,\n",
    "    validation_steps=validation_generator.samples // BATCH_SIZE,\n",
    "    callbacks=[checkpoint, csv_logger, training_checkpoint],\n",
    "    epochs=10\n",
    ")"
   ]
  },
  {
   "cell_type": "markdown",
   "metadata": {},
   "source": [
    "### Results:\n",
    "\n",
    "Training accuracy: 0.8542<br>\n",
    "Training loss: 0.6477 <br>\n",
    "\n",
    "Validation accuracy: 0.7804<br>\n",
    "Validation loss: 0.9073<br>\n",
    "\n",
    "Avoidable bias error: 0.1458 => 14.58%<br>\n",
    "Variance error: 0.0628 => 6.28%<br>\n",
    "\n",
    "### Conclusion:\n",
    "Bias and variance error are reduced by adding dropout layers."
   ]
  },
  {
   "cell_type": "code",
   "execution_count": null,
   "metadata": {},
   "outputs": [],
   "source": []
  }
 ],
 "metadata": {
  "accelerator": "GPU",
  "colab": {
   "collapsed_sections": [],
   "name": "Model training.ipynb",
   "provenance": []
  },
  "kernelspec": {
   "display_name": "Python 3",
   "language": "python",
   "name": "python3"
  },
  "language_info": {
   "codemirror_mode": {
    "name": "ipython",
    "version": 3
   },
   "file_extension": ".py",
   "mimetype": "text/x-python",
   "name": "python",
   "nbconvert_exporter": "python",
   "pygments_lexer": "ipython3",
   "version": "3.7.6"
  }
 },
 "nbformat": 4,
 "nbformat_minor": 1
}

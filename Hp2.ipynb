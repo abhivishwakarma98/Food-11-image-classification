{
 "cells": [
  {
   "cell_type": "code",
   "execution_count": 1,
   "metadata": {},
   "outputs": [],
   "source": [
    "%load_ext tensorboard\n",
    "import tensorflow as tf\n",
    "from tensorboard.plugins.hparams import api as hp\n",
    "from utils import get_data_generators"
   ]
  },
  {
   "cell_type": "code",
   "execution_count": 2,
   "metadata": {},
   "outputs": [],
   "source": [
    "TARGET_DIM = 300\n",
    "BATCH_SIZE = 128"
   ]
  },
  {
   "cell_type": "code",
   "execution_count": 3,
   "metadata": {},
   "outputs": [],
   "source": [
    "model = tf.keras.applications.inception_v3.InceptionV3(\n",
    "    input_shape=(TARGET_DIM, TARGET_DIM, 3),\n",
    "    include_top=False\n",
    ")"
   ]
  },
  {
   "cell_type": "code",
   "execution_count": 6,
   "metadata": {},
   "outputs": [],
   "source": [
    "HP_OPTIMIZER = hp.HParam(\n",
    "    'optimizer', \n",
    "    hp.Discrete([\n",
    "        'adam', 'sgd'\n",
    "    ])\n",
    ")\n",
    "\n",
    "HP_NUM_UNITS_1 = hp.HParam('num_units_1', hp.Discrete([128, 256, 512]))\n",
    "HP_NUM_UNITS_2 = hp.HParam('num_units_2', hp.Discrete([64, 128, 256]))\n",
    "\n",
    "HP_DROPOUT_1 = hp.HParam('dropout_1', hp.Discrete([0.3, 0.4, 0.5]))\n",
    "HP_DROPOUT_2 = hp.HParam('dropout_2', hp.Discrete([0.2, 0.3, 0.4]))\n",
    "\n",
    "HP_LEARNING_RATE = hp.HParam('learning_rate', hp.Discrete([0.001, 0.003, 0.005]))\n",
    "\n",
    "METRIC_ACCURACY = 'accuracy'\n",
    "\n",
    "with tf.summary.create_file_writer('logs/hparam_tuning').as_default():\n",
    "    hp.hparams_config(\n",
    "        hparams=[HP_OPTIMIZER, HP_LEARNING_RATE, HP_NUM_UNITS_1, HP_NUM_UNITS_2, HP_DROPOUT_1, HP_DROPOUT_2],\n",
    "        metrics=[hp.Metric(METRIC_ACCURACY, display_name='Accuracy')],\n",
    "    )"
   ]
  },
  {
   "cell_type": "code",
   "execution_count": 7,
   "metadata": {},
   "outputs": [
    {
     "name": "stdout",
     "output_type": "stream",
     "text": [
      "Found 9866 images belonging to 11 classes.\n",
      "Found 3430 images belonging to 11 classes.\n"
     ]
    }
   ],
   "source": [
    "datagen = tf.keras.preprocessing.image.ImageDataGenerator(\n",
    "    preprocessing_function=tf.keras.applications.vgg19.preprocess_input,\n",
    "    rescale=1.0/255.0,\n",
    "    horizontal_flip=True, \n",
    "    zoom_range=0.2,\n",
    "    shear_range=0.2,\n",
    "    width_shift_range=0.2,\n",
    "    height_shift_range=0.2,\n",
    "    rotation_range=30\n",
    ")\n",
    "\n",
    "train_generator, validation_generator = get_data_generators(datagen, target_dim=TARGET_DIM, batch_size=BATCH_SIZE)"
   ]
  },
  {
   "cell_type": "code",
   "execution_count": 10,
   "metadata": {},
   "outputs": [],
   "source": [
    "def run(run_dir, hparams):\n",
    "    with tf.summary.create_file_writer(run_dir).as_default():\n",
    "        hp.hparams(hparams)\n",
    "        \n",
    "        opt = None\n",
    "        global model\n",
    "        \n",
    "        preds = model.output \n",
    "        preds = tf.keras.layers.GlobalAveragePooling2D()(preds)\n",
    "        preds = tf.keras.layers.Dense(1024, activation=tf.nn.relu)(preds)\n",
    "        preds = tf.keras.layers.Dropout(hparams[HP_DROPOUT_1])(preds)\n",
    "        preds = tf.keras.layers.BatchNormalization()(preds)\n",
    "        preds = tf.keras.layers.Dense(512, activation=tf.nn.relu, kernel_regularizer = 'l2')(preds)\n",
    "        preds = tf.keras.layers.BatchNormalization()(preds)\n",
    "        preds = tf.keras.layers.Dense(hparams[HP_NUM_UNITS_1], activation=tf.nn.relu)(preds)\n",
    "        preds = tf.keras.layers.Dropout(hparams[HP_DROPOUT_2])(preds)\n",
    "        preds = tf.keras.layers.BatchNormalization()(preds)\n",
    "        preds = tf.keras.layers.Dense(hparams[HP_NUM_UNITS_2], activation=tf.nn.relu, kernel_regularizer ='l2')(preds)\n",
    "        preds = tf.keras.layers.Dense(11, activation=tf.nn.softmax)(preds)\n",
    "        \n",
    "        model = tf.keras.models.Model(model.input, preds)\n",
    "        \n",
    "        for layer in model.layers[:-11]:\n",
    "            layer.trainable = False\n",
    "        for layer in model.layers[-11:]:\n",
    "            layer.trainable = True\n",
    "        \n",
    "        if hparams[HP_OPTIMIZER] == 'adam':\n",
    "            opt = tf.keras.optimizers.Adam(learning_rate=hparams[HP_LEARNING_RATE])\n",
    "        \n",
    "        if hparams[HP_OPTIMIZER] == 'sgd':\n",
    "            opt = tf.keras.optimizers.SGD(learning_rate = hparams[HP_LEARNING_RATE])\n",
    "        \n",
    "        model.compile(\n",
    "            optimizer=opt,\n",
    "            loss='categorical_crossentropy',\n",
    "            metrics=['acc']\n",
    "        )\n",
    "        \n",
    "        model.fit_generator(\n",
    "            train_generator,\n",
    "            steps_per_epoch=train_generator.samples // BATCH_SIZE,\n",
    "            epochs=1\n",
    "        )\n",
    "\n",
    "        _, accuracy = model.evaluate(validation_generator, steps=validation_generator.samples // BATCH_SIZE, batch_size=BATCH_SIZE)\n",
    "        \n",
    "        tf.summary.scalar(METRIC_ACCURACY, accuracy, step=1)"
   ]
  },
  {
   "cell_type": "code",
   "execution_count": null,
   "metadata": {},
   "outputs": [
    {
     "name": "stdout",
     "output_type": "stream",
     "text": [
      "--- Starting trial: run-0\n",
      "{'optimizer': 'adam', 'learning_rate': 0.001, 'num_units_1': 128, 'num_units_2': 64, 'dropout_1': 0.3, 'dropout_2': 0.2}\n",
      "WARNING:tensorflow:From <ipython-input-10-1e0086ba3c45>:43: Model.fit_generator (from tensorflow.python.keras.engine.training) is deprecated and will be removed in a future version.\n",
      "Instructions for updating:\n",
      "Please use Model.fit, which supports generators.\n",
      "17/77 [=====>........................] - ETA: 10:12 - loss: 9.1480 - acc: 0.3440"
     ]
    }
   ],
   "source": [
    "session_num = 0\n",
    "for optimizer in HP_OPTIMIZER.domain.values:\n",
    "    \n",
    "    for rate in HP_LEARNING_RATE.domain.values:\n",
    "        \n",
    "        for num_units_1 in HP_NUM_UNITS_1.domain.values:\n",
    "            \n",
    "            for num_units_2 in HP_NUM_UNITS_2.domain.values:\n",
    "                \n",
    "                for dropout_1 in HP_DROPOUT_1.domain.values:\n",
    "                    \n",
    "                    for dropout_2 in HP_DROPOUT_2.domain.values:\n",
    "                        \n",
    "                        hparams = {\n",
    "                            HP_OPTIMIZER: optimizer,\n",
    "                            HP_LEARNING_RATE: rate,\n",
    "                            HP_NUM_UNITS_1: num_units_1,\n",
    "                            HP_NUM_UNITS_2: num_units_2,\n",
    "                            HP_DROPOUT_1: dropout_1,\n",
    "                            HP_DROPOUT_2: dropout_2\n",
    "                        }\n",
    "                        \n",
    "                        run_name = \"run-%d\" % session_num\n",
    "                        print('--- Starting trial: %s' % run_name)\n",
    "                        print({h.name: hparams[h] for h in hparams})\n",
    "                        run('logs/hparam_tuning/' + run_name, hparams)\n",
    "                        session_num += 1"
   ]
  },
  {
   "cell_type": "code",
   "execution_count": null,
   "metadata": {},
   "outputs": [],
   "source": []
  }
 ],
 "metadata": {
  "kernelspec": {
   "display_name": "Python 3",
   "language": "python",
   "name": "python3"
  },
  "language_info": {
   "codemirror_mode": {
    "name": "ipython",
    "version": 3
   },
   "file_extension": ".py",
   "mimetype": "text/x-python",
   "name": "python",
   "nbconvert_exporter": "python",
   "pygments_lexer": "ipython3",
   "version": "3.7.6"
  }
 },
 "nbformat": 4,
 "nbformat_minor": 4
}

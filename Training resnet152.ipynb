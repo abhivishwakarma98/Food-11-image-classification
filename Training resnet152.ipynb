{
 "cells": [
  {
   "cell_type": "code",
   "execution_count": 8,
   "metadata": {
    "colab": {
     "base_uri": "https://localhost:8080/",
     "height": 72
    },
    "colab_type": "code",
    "id": "HD-jaO82-htG",
    "outputId": "c7b43322-fcb2-4511-bf3f-3e9a4df56e13"
   },
   "outputs": [
    {
     "name": "stderr",
     "output_type": "stream",
     "text": [
      "/usr/local/lib/python3.6/dist-packages/statsmodels/tools/_testing.py:19: FutureWarning: pandas.util.testing is deprecated. Use the functions in the public API at pandas.testing instead.\n",
      "  import pandas.util.testing as tm\n"
     ]
    }
   ],
   "source": [
    "# Importing neccessary packages\n",
    "import numpy as np\n",
    "import tensorflow as tf\n",
    "import matplotlib.pyplot as plt\n",
    "import os\n",
    "from utils import get_data_generators"
   ]
  },
  {
   "cell_type": "code",
   "execution_count": 0,
   "metadata": {
    "colab": {},
    "colab_type": "code",
    "id": "GyrxQvSP-zOj"
   },
   "outputs": [],
   "source": [
    "NUM_CLASSES = 11"
   ]
  },
  {
   "cell_type": "code",
   "execution_count": 0,
   "metadata": {
    "colab": {},
    "colab_type": "code",
    "id": "3Ue5lgyG3CE9"
   },
   "outputs": [],
   "source": [
    "classes_list = [\n",
    "    'Bread',\n",
    "    'Dairyproduct', \n",
    "    'Dessert', \n",
    "    'Egg', \n",
    "    'Friedfood', \n",
    "    'Meat', \n",
    "    'NoodlesPasta', \n",
    "    'Rice', \n",
    "    'Seafood', \n",
    "    'Soup', \n",
    "    'VegetableFruit'\n",
    "]"
   ]
  },
  {
   "cell_type": "code",
   "execution_count": 13,
   "metadata": {
    "colab": {
     "base_uri": "https://localhost:8080/",
     "height": 210
    },
    "colab_type": "code",
    "id": "DGziO4i-3sWo",
    "outputId": "941c32a4-8b58-4ba7-beaf-f4357a345176"
   },
   "outputs": [
    {
     "data": {
      "text/plain": [
       "['Bread',\n",
       " 'Dairyproduct',\n",
       " 'Dessert',\n",
       " 'Egg',\n",
       " 'Friedfood',\n",
       " 'Meat',\n",
       " 'NoodlesPasta',\n",
       " 'Rice',\n",
       " 'Seafood',\n",
       " 'Soup',\n",
       " 'VegetableFruit']"
      ]
     },
     "execution_count": 13,
     "metadata": {
      "tags": []
     },
     "output_type": "execute_result"
    }
   ],
   "source": [
    "classes_list"
   ]
  },
  {
   "cell_type": "code",
   "execution_count": 14,
   "metadata": {
    "colab": {
     "base_uri": "https://localhost:8080/",
     "height": 34
    },
    "colab_type": "code",
    "id": "T6mzye1K8ZMT",
    "outputId": "886305e3-3b90-4847-fa28-68752e90ca05"
   },
   "outputs": [
    {
     "data": {
      "text/plain": [
       "'Bread'"
      ]
     },
     "execution_count": 14,
     "metadata": {
      "tags": []
     },
     "output_type": "execute_result"
    }
   ],
   "source": [
    "classes_list[0]"
   ]
  },
  {
   "cell_type": "code",
   "execution_count": 0,
   "metadata": {
    "colab": {},
    "colab_type": "code",
    "id": "BXphf7RzAC5l"
   },
   "outputs": [],
   "source": [
    "# Data augmentation for regularization and adding some extra training samples\n",
    "\n",
    "datagen = tf.keras.preprocessing.image.ImageDataGenerator(\n",
    "    preprocessing_function=tf.keras.applications.resnet.preprocess_input,\n",
    "    rescale=1.0/255.0,\n",
    "    horizontal_flip=True, \n",
    "    zoom_range=0.2,\n",
    "    shear_range=0.2\n",
    ")"
   ]
  },
  {
   "cell_type": "code",
   "execution_count": 0,
   "metadata": {
    "colab": {},
    "colab_type": "code",
    "id": "J-QWGC16AQ_-"
   },
   "outputs": [],
   "source": [
    "TARGET_DIM = 300\n",
    "BATCH_SIZE = 32"
   ]
  },
  {
   "cell_type": "code",
   "execution_count": 29,
   "metadata": {
    "colab": {
     "base_uri": "https://localhost:8080/",
     "height": 52
    },
    "colab_type": "code",
    "id": "Nhp1Xa4GAUmV",
    "outputId": "c7c73853-2f6e-4992-cb07-4ca3be606a68"
   },
   "outputs": [
    {
     "name": "stdout",
     "output_type": "stream",
     "text": [
      "Found 9866 images belonging to 11 classes.\n",
      "Found 3430 images belonging to 11 classes.\n"
     ]
    }
   ],
   "source": [
    "train_generator, validation_generator = get_data_generators(datagen, target_dim = TARGET_DIM)"
   ]
  },
  {
   "cell_type": "code",
   "execution_count": 30,
   "metadata": {
    "colab": {
     "base_uri": "https://localhost:8080/",
     "height": 210
    },
    "colab_type": "code",
    "id": "j59nu_WX_VzD",
    "outputId": "cc01bff4-1b74-45c2-bb53-c3c629946a43"
   },
   "outputs": [
    {
     "data": {
      "text/plain": [
       "{'Bread': 0,\n",
       " 'Dairyproduct': 1,\n",
       " 'Dessert': 2,\n",
       " 'Egg': 3,\n",
       " 'Friedfood': 4,\n",
       " 'Meat': 5,\n",
       " 'NoodlesPasta': 6,\n",
       " 'Rice': 7,\n",
       " 'Seafood': 8,\n",
       " 'Soup': 9,\n",
       " 'VegetableFruit': 10}"
      ]
     },
     "execution_count": 30,
     "metadata": {
      "tags": []
     },
     "output_type": "execute_result"
    }
   ],
   "source": [
    "train_generator.class_indices"
   ]
  },
  {
   "cell_type": "code",
   "execution_count": 31,
   "metadata": {
    "colab": {
     "base_uri": "https://localhost:8080/",
     "height": 210
    },
    "colab_type": "code",
    "id": "YcoMf3EJ_ZVa",
    "outputId": "56ec1cc9-deb5-4138-927c-f357f14874b2"
   },
   "outputs": [
    {
     "data": {
      "text/plain": [
       "{'Bread': 0,\n",
       " 'Dairyproduct': 1,\n",
       " 'Dessert': 2,\n",
       " 'Egg': 3,\n",
       " 'Friedfood': 4,\n",
       " 'Meat': 5,\n",
       " 'NoodlesPasta': 6,\n",
       " 'Rice': 7,\n",
       " 'Seafood': 8,\n",
       " 'Soup': 9,\n",
       " 'VegetableFruit': 10}"
      ]
     },
     "execution_count": 31,
     "metadata": {
      "tags": []
     },
     "output_type": "execute_result"
    }
   ],
   "source": [
    "validation_generator.class_indices"
   ]
  },
  {
   "cell_type": "code",
   "execution_count": 0,
   "metadata": {
    "colab": {},
    "colab_type": "code",
    "id": "Nyajl22tAXC-"
   },
   "outputs": [],
   "source": [
    "# Lets try the Resnet152 architecture\n",
    "\n",
    "base_model = tf.keras.applications.resnet.ResNet152(\n",
    "    include_top=False, \n",
    "    weights='imagenet', \n",
    "    input_shape=(TARGET_DIM, TARGET_DIM, 3)\n",
    ")"
   ]
  },
  {
   "cell_type": "code",
   "execution_count": 0,
   "metadata": {
    "colab": {},
    "colab_type": "code",
    "id": "p3Tbj29fAZ9G"
   },
   "outputs": [],
   "source": [
    "base_model.summary()"
   ]
  },
  {
   "cell_type": "code",
   "execution_count": 0,
   "metadata": {
    "colab": {
     "base_uri": "https://localhost:8080/",
     "height": 34
    },
    "colab_type": "code",
    "id": "QISfc7r2AdC8",
    "outputId": "65d89f26-071b-450a-82b6-6dd60d50d911"
   },
   "outputs": [
    {
     "name": "stdout",
     "output_type": "stream",
     "text": [
      "Layers in Resnet152: 515\n"
     ]
    }
   ],
   "source": [
    "print('Layers in Resnet152: ' + str(len(base_model.layers)))"
   ]
  },
  {
   "cell_type": "code",
   "execution_count": 0,
   "metadata": {
    "colab": {},
    "colab_type": "code",
    "id": "-txynW7AAglt"
   },
   "outputs": [],
   "source": [
    "preds = base_model.output\n",
    "preds = tf.keras.layers.GlobalAveragePooling2D()(preds)\n",
    "preds = tf.keras.layers.Dense(512, activation=tf.nn.relu)(preds)\n",
    "preds = tf.keras.layers.BatchNormalization()(preds)\n",
    "preds = tf.keras.layers.Dense(256, activation=tf.nn.relu)(preds)\n",
    "preds = tf.keras.layers.BatchNormalization()(preds)\n",
    "preds = tf.keras.layers.Dense(128, activation=tf.nn.relu)(preds)\n",
    "preds = tf.keras.layers.Dense(11, activation=tf.nn.softmax)(preds)"
   ]
  },
  {
   "cell_type": "code",
   "execution_count": 0,
   "metadata": {
    "colab": {},
    "colab_type": "code",
    "id": "Z93r3vXPAl6-"
   },
   "outputs": [],
   "source": [
    "model = tf.keras.models.Model(base_model.input, preds)"
   ]
  },
  {
   "cell_type": "code",
   "execution_count": 0,
   "metadata": {
    "colab": {},
    "colab_type": "code",
    "id": "2xP0h_l4AnmY"
   },
   "outputs": [],
   "source": [
    "model.summary()"
   ]
  },
  {
   "cell_type": "code",
   "execution_count": 0,
   "metadata": {
    "colab": {
     "base_uri": "https://localhost:8080/",
     "height": 34
    },
    "colab_type": "code",
    "id": "plibI0OlPF3I",
    "outputId": "e0a84a68-b5ce-4b8f-ff1e-afec307edcb9"
   },
   "outputs": [
    {
     "data": {
      "text/plain": [
       "'global_average_pooling2d_1'"
      ]
     },
     "execution_count": 35,
     "metadata": {
      "tags": []
     },
     "output_type": "execute_result"
    }
   ],
   "source": [
    "model.layers[-7].name"
   ]
  },
  {
   "cell_type": "code",
   "execution_count": 0,
   "metadata": {
    "colab": {},
    "colab_type": "code",
    "id": "JeG3d0KCApSN"
   },
   "outputs": [],
   "source": [
    "model.compile(\n",
    "    optimizer=tf.keras.optimizers.Adam(learning_rate=0.001),\n",
    "    loss='categorical_crossentropy',\n",
    "    metrics=['acc']\n",
    ")"
   ]
  },
  {
   "cell_type": "code",
   "execution_count": 0,
   "metadata": {
    "colab": {},
    "colab_type": "code",
    "id": "pqgLC47yAz4M"
   },
   "outputs": [],
   "source": [
    "# Create directory in drive for storing model\n",
    "!mkdir drive/My\\ Drive/food_11_weights"
   ]
  },
  {
   "cell_type": "code",
   "execution_count": 0,
   "metadata": {
    "colab": {},
    "colab_type": "code",
    "id": "l5qVM0phAsK0"
   },
   "outputs": [],
   "source": [
    "# Lets define checkpoint for model saving\n",
    "filepath=\"./drive/My Drive/food_11_weights/resnet152-2-{epoch:02d}-{val_acc:.2f}.hdf5\"\n",
    "checkpoint = tf.keras.callbacks.ModelCheckpoint(filepath, monitor='val_acc', verbose=1, save_best_only=True, mode='max')"
   ]
  },
  {
   "cell_type": "code",
   "execution_count": 0,
   "metadata": {
    "colab": {},
    "colab_type": "code",
    "id": "QnET3wBCBG-S"
   },
   "outputs": [],
   "source": [
    "# Freeze mobilenet layers and train only newly added layers\n",
    "\n",
    "for layers in model.layers[:-7]:\n",
    "    layers.trainable = False\n",
    "\n",
    "for layers in model.layers[-7:]:\n",
    "    layers.trainable = True"
   ]
  },
  {
   "cell_type": "code",
   "execution_count": 0,
   "metadata": {
    "colab": {},
    "colab_type": "code",
    "id": "tvlhQTlaBNsX"
   },
   "outputs": [],
   "source": [
    "#Let's train the model 20 epochs as it will take a lot of time\n",
    "\n",
    "model.fit_generator(\n",
    "    train_generator,\n",
    "    steps_per_epoch=train_generator.samples // BATCH_SIZE,\n",
    "    validation_data=validation_generator,\n",
    "    validation_steps=validation_generator.samples // BATCH_SIZE,\n",
    "    callbacks=[checkpoint],\n",
    "    epochs=20\n",
    ")"
   ]
  },
  {
   "cell_type": "markdown",
   "metadata": {
    "colab_type": "text",
    "id": "z_XqLbRSDqGP"
   },
   "source": [
    "### Results\n",
    "\n",
    "Training accuracy: 0.5326<br>\n",
    "Training loss: 1.3332 <br>\n",
    "\n",
    "Validation accuracy: 0.52307<br>\n",
    "Validation loss: 1.4663<br>\n",
    "\n",
    "Avoidable bias: 0.4674<br>\n",
    "Variance: 0.00953<br>\n",
    "\n",
    "Avoidable bias is higher than variance, so model needs to fit on training data."
   ]
  },
  {
   "cell_type": "code",
   "execution_count": 0,
   "metadata": {
    "colab": {},
    "colab_type": "code",
    "id": "xwIr0sCKagKl"
   },
   "outputs": [],
   "source": [
    "# Load previous best model\n",
    "model = tf.keras.models.load_model('./drive/My Drive/food_11_weights/resnet152-20-0.52.hdf5')"
   ]
  },
  {
   "cell_type": "code",
   "execution_count": 0,
   "metadata": {
    "colab": {},
    "colab_type": "code",
    "id": "6B5q4Rxstjeg"
   },
   "outputs": [],
   "source": [
    "# Train the model further for 30 epochs\n",
    "model.fit_generator(\n",
    "    train_generator,\n",
    "    steps_per_epoch=train_generator.samples // BATCH_SIZE,\n",
    "    validation_data=validation_generator,\n",
    "    validation_steps=validation_generator.samples // BATCH_SIZE,\n",
    "    callbacks=[checkpoint],\n",
    "    epochs=30\n",
    ")"
   ]
  },
  {
   "cell_type": "code",
   "execution_count": 0,
   "metadata": {
    "colab": {},
    "colab_type": "code",
    "id": "vydOg_X2ug9R"
   },
   "outputs": [],
   "source": [
    "def plot_model_results(num_epochs, history, key):\n",
    "\n",
    "    plt.plot(range(num_epochs), history[key])\n",
    "    plt.plot(range(num_epochs), history['val_' + key])\n",
    "    plt.xlabel('Epochs')\n",
    "    plt.ylabel(key)\n",
    "    plt.show()\n"
   ]
  },
  {
   "cell_type": "code",
   "execution_count": 0,
   "metadata": {
    "colab": {
     "base_uri": "https://localhost:8080/",
     "height": 279
    },
    "colab_type": "code",
    "id": "Xne_WZrQa744",
    "outputId": "f87b2c2d-e508-49a3-8d8f-341a69430c34"
   },
   "outputs": [
    {
     "data": {
      "image/png": "[encoded data removed]",
      "text/plain": [
       "<Figure size 432x288 with 1 Axes>"
      ]
     },
     "metadata": {
      "needs_background": "light",
      "tags": []
     },
     "output_type": "display_data"
    }
   ],
   "source": [
    "plot_model_results(30, model.history.history, 'acc')"
   ]
  },
  {
   "cell_type": "code",
   "execution_count": 0,
   "metadata": {
    "colab": {
     "base_uri": "https://localhost:8080/",
     "height": 279
    },
    "colab_type": "code",
    "id": "AXSNJK2PcAgt",
    "outputId": "28c2aff0-3caa-419b-db91-fb5a31b2c750"
   },
   "outputs": [
    {
     "data": {
      "image/png": "[encoded data removed]",
      "text/plain": [
       "<Figure size 432x288 with 1 Axes>"
      ]
     },
     "metadata": {
      "needs_background": "light",
      "tags": []
     },
     "output_type": "display_data"
    }
   ],
   "source": [
    "plot_model_results(30, model.history.history, 'loss')"
   ]
  },
  {
   "cell_type": "markdown",
   "metadata": {
    "colab_type": "text",
    "id": "Rb3lE7jXE97I"
   },
   "source": [
    "### Results:\n",
    "\n",
    "Training accuracy: 0.7056<br>\n",
    "Training loss: 0.8521<br>\n",
    "\n",
    "Validation accuracy: 0.64734<br>\n",
    "Validation loss: 1.1362<br>\n",
    "\n",
    "Avoidable bias: 0.2944 <br>\n",
    "Variance: 0.05826<br>\n",
    "\n",
    "Avoidable bias is higher than variance, so model needs to fit on training data."
   ]
  },
  {
   "cell_type": "code",
   "execution_count": 0,
   "metadata": {
    "colab": {},
    "colab_type": "code",
    "id": "cFKFE2nUfeBp"
   },
   "outputs": [],
   "source": [
    "# Load the previous best model\n",
    "model = tf.keras.models.load_model('./drive/My Drive/food_11_weights/resnet152-2-01-0.65.hdf5')"
   ]
  },
  {
   "cell_type": "code",
   "execution_count": 0,
   "metadata": {
    "colab": {},
    "colab_type": "code",
    "id": "kLyT3tzJ0xb3"
   },
   "outputs": [],
   "source": [
    "## Adding two extra layers for fitting to the training data\n",
    "preds = model.layers[-6].output\n",
    "preds = tf.keras.layers.Dense(512, activation=tf.nn.relu)(preds)\n",
    "preds = model.layers[-5](preds)\n",
    "preds = model.layers[-4](preds)\n",
    "preds = model.layers[-3](preds)\n",
    "preds = model.layers[-2](preds)\n",
    "preds = tf.keras.layers.Dense(128, activation=tf.nn.relu)(preds)\n",
    "preds = model.layers[-1](preds)\n",
    "model = tf.keras.models.Model(model.input, preds)"
   ]
  },
  {
   "cell_type": "code",
   "execution_count": 0,
   "metadata": {
    "colab": {},
    "colab_type": "code",
    "id": "hazqD_VO2viK"
   },
   "outputs": [],
   "source": [
    "for layers in model.layers[:-9]:\n",
    "    layers.trainable = False\n",
    "\n",
    "for layers in model.layers[-9:]:\n",
    "    layers.trainable = True\n",
    "\n",
    "model.compile(\n",
    "    optimizer=tf.keras.optimizers.Adam(learning_rate=0.001),\n",
    "    loss='categorical_crossentropy',\n",
    "    metrics=['acc']\n",
    ")"
   ]
  },
  {
   "cell_type": "code",
   "execution_count": 0,
   "metadata": {
    "colab": {},
    "colab_type": "code",
    "id": "DxNLZyn02dzU"
   },
   "outputs": [],
   "source": [
    "model.fit_generator(\n",
    "    train_generator,\n",
    "    steps_per_epoch=train_generator.samples // BATCH_SIZE,\n",
    "    validation_data=validation_generator,\n",
    "    validation_steps=validation_generator.samples // BATCH_SIZE,\n",
    "    callbacks=[checkpoint],\n",
    "    epochs=10\n",
    ")"
   ]
  },
  {
   "cell_type": "markdown",
   "metadata": {
    "colab_type": "text",
    "id": "th3HxHvAF6Yw"
   },
   "source": [
    "### Results:\n",
    "\n",
    "Training accuracy: 0.7655<br>\n",
    "Training loss: 0.6918 <br>\n",
    "\n",
    "Validation accuracy: 0.57710<br>\n",
    "Validation loss: 1.4075<br>\n",
    "\n",
    "Avoidable bias: 0.2345 <br>\n",
    "Variance: 0.1884 <br>\n",
    "\n",
    "By adding two extra dense layers, the model is fitting to the training data so avoidable bias is decreasing but variance is increasing.<br></br>\n",
    "\n",
    "Here avoidable bias is still higher than variance, so model needs to further train on training data."
   ]
  },
  {
   "cell_type": "code",
   "execution_count": 0,
   "metadata": {
    "colab": {},
    "colab_type": "code",
    "id": "Xp22CdDD2niy"
   },
   "outputs": [],
   "source": []
  }
 ],
 "metadata": {
  "accelerator": "GPU",
  "colab": {
   "collapsed_sections": [],
   "name": "Model training.ipynb",
   "provenance": []
  },
  "kernelspec": {
   "display_name": "Python 3",
   "language": "python",
   "name": "python3"
  },
  "language_info": {
   "codemirror_mode": {
    "name": "ipython",
    "version": 3
   },
   "file_extension": ".py",
   "mimetype": "text/x-python",
   "name": "python",
   "nbconvert_exporter": "python",
   "pygments_lexer": "ipython3",
   "version": "3.7.6"
  }
 },
 "nbformat": 4,
 "nbformat_minor": 1
}

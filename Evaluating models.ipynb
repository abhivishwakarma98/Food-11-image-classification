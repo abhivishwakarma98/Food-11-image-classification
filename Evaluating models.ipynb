{
 "cells": [
  {
   "cell_type": "code",
   "execution_count": 1,
   "metadata": {},
   "outputs": [],
   "source": [
    "import os\n",
    "import tensorflow as tf\n",
    "import numpy as np"
   ]
  },
  {
   "cell_type": "code",
   "execution_count": 2,
   "metadata": {},
   "outputs": [],
   "source": [
    "NUM_CLASSES = 11"
   ]
  },
  {
   "cell_type": "code",
   "execution_count": 3,
   "metadata": {},
   "outputs": [],
   "source": [
    "datagen = tf.keras.preprocessing.image.ImageDataGenerator(\n",
    "    preprocessing_function=tf.keras.applications.vgg19.preprocess_input,\n",
    "    rescale=1.0/255.0\n",
    ")"
   ]
  },
  {
   "cell_type": "code",
   "execution_count": 4,
   "metadata": {},
   "outputs": [],
   "source": [
    "def evaluate_model(model_path, target_dim, batch_size):\n",
    "    \n",
    "    test_generator = datagen.flow_from_directory(\n",
    "        directory='./evaluation/', \n",
    "        target_size=(target_dim, target_dim),\n",
    "        batch_size=batch_size,\n",
    "        shuffle=False\n",
    "    )\n",
    "    \n",
    "    model = tf.keras.models.load_model(model_path)\n",
    "    return model.evaluate_generator(test_generator, steps=test_generator.samples // batch_size)"
   ]
  },
  {
   "cell_type": "code",
   "execution_count": 5,
   "metadata": {},
   "outputs": [],
   "source": [
    "models_path = os.listdir('./models/')"
   ]
  },
  {
   "cell_type": "code",
   "execution_count": 6,
   "metadata": {},
   "outputs": [
    {
     "data": {
      "text/plain": [
       "['.ipynb_checkpoints',\n",
       " 'inceptionV3-06-0.89.hdf5',\n",
       " 'inceptionV3-regularized-03-0.82.hdf5',\n",
       " 'inceptionV3-regularized-04-0.83.hdf5',\n",
       " 'mobilenet-05-0.91.hdf5',\n",
       " 'mobilenet-regularized-03-0.78.hdf5',\n",
       " 'mobilenet-regularized-05-0.80.hdf5',\n",
       " 'vgg19-34-0.90.hdf5',\n",
       " 'vgg19-regularized-08-0.78.hdf5',\n",
       " 'vgg19-regularized-18-0.78.hdf5']"
      ]
     },
     "execution_count": 6,
     "metadata": {},
     "output_type": "execute_result"
    }
   ],
   "source": [
    "models_path"
   ]
  },
  {
   "cell_type": "code",
   "execution_count": 7,
   "metadata": {},
   "outputs": [],
   "source": [
    "evaluations = []"
   ]
  },
  {
   "cell_type": "code",
   "execution_count": 10,
   "metadata": {},
   "outputs": [
    {
     "name": "stdout",
     "output_type": "stream",
     "text": [
      "Found 3347 images belonging to 11 classes.\n",
      "Model: inceptionV3-06-0.89.hdf5\n",
      "[0.6018862128257751, 0.8109976053237915]\n",
      "Found 3347 images belonging to 11 classes.\n",
      "Model: inceptionV3-regularized-03-0.82.hdf5\n",
      "[0.8373874425888062, 0.854567289352417]\n",
      "Found 3347 images belonging to 11 classes.\n",
      "Model: inceptionV3-regularized-04-0.83.hdf5\n",
      "[0.783935546875, 0.8530648946762085]\n"
     ]
    }
   ],
   "source": [
    "## Inception V3 \n",
    "for path in models_path[1:4]:\n",
    "    evaluation = evaluate_model(\"./models/\" + path, 300, 128)\n",
    "    print(\"Model: \" + path)\n",
    "    print(evaluation)\n",
    "    evaluations.append(evaluation)"
   ]
  },
  {
   "cell_type": "markdown",
   "metadata": {},
   "source": [
    "### Result\n",
    "\n",
    "inceptionV3-regularized-04-0.83.hdf5 model yielded accuracy of 85% with 0.783 loss."
   ]
  },
  {
   "cell_type": "code",
   "execution_count": 20,
   "metadata": {},
   "outputs": [
    {
     "name": "stdout",
     "output_type": "stream",
     "text": [
      "Found 3347 images belonging to 11 classes.\n",
      "Model: mobilenet-05-0.91.hdf5\n",
      "[0.6709072589874268, 0.8013821840286255]\n",
      "Found 3347 images belonging to 11 classes.\n",
      "Model: mobilenet-regularized-03-0.78.hdf5\n",
      "[1.20906400680542, 0.8323317170143127]\n",
      "Found 3347 images belonging to 11 classes.\n",
      "Model: mobilenet-regularized-05-0.80.hdf5\n",
      "[0.8465911149978638, 0.83203125]\n"
     ]
    }
   ],
   "source": [
    "for path in models_path[4:7]:\n",
    "    evaluation = evaluate_model(\"./models/\" + path, 224, 128)\n",
    "    print(\"Model: \" + path)\n",
    "    print(evaluation)\n",
    "    evaluations.append(evaluation)"
   ]
  },
  {
   "cell_type": "markdown",
   "metadata": {},
   "source": [
    "### Result\n",
    "\n",
    "mobilenet-regularized-05-0.80.hdf5 yielded accuracy of 83% with 0.846 loss."
   ]
  },
  {
   "cell_type": "code",
   "execution_count": 9,
   "metadata": {
    "scrolled": false
   },
   "outputs": [
    {
     "name": "stdout",
     "output_type": "stream",
     "text": [
      "Found 3347 images belonging to 11 classes.\n",
      "WARNING:tensorflow:From <ipython-input-4-66af8332d482>:11: Model.evaluate_generator (from tensorflow.python.keras.engine.training) is deprecated and will be removed in a future version.\n",
      "Instructions for updating:\n",
      "Please use Model.evaluate, which supports generators.\n",
      "Model: vgg19-34-0.90.hdf5\n",
      "[0.8947008848190308, 0.7806490659713745]\n",
      "Found 3347 images belonging to 11 classes.\n",
      "Model: vgg19-regularized-08-0.78.hdf5\n",
      "[0.731843888759613, 0.8377403616905212]\n",
      "Found 3347 images belonging to 11 classes.\n",
      "Model: vgg19-regularized-18-0.78.hdf5\n",
      "[0.7413175106048584, 0.807692289352417]\n"
     ]
    }
   ],
   "source": [
    "for path in models_path[7:]:\n",
    "    evaluation = evaluate_model(\"./models/\" + path, 300, 32)\n",
    "    print(\"Model: \" + path)\n",
    "    print(evaluation)\n",
    "    evaluations.append(evaluation)"
   ]
  },
  {
   "cell_type": "markdown",
   "metadata": {},
   "source": [
    "### Result\n",
    "\n",
    "vgg19-regularized-08-0.78.hdf5 model yielded 83.7% of accuracy with 0.731 loss."
   ]
  },
  {
   "cell_type": "markdown",
   "metadata": {},
   "source": [
    "## Conclusion\n",
    "\n",
    "From mobilenet, vgg19, inceptionV3 models, inceptionV3 is doing well on test data."
   ]
  },
  {
   "cell_type": "code",
   "execution_count": null,
   "metadata": {},
   "outputs": [],
   "source": []
  }
 ],
 "metadata": {
  "kernelspec": {
   "display_name": "Python 3",
   "language": "python",
   "name": "python3"
  },
  "language_info": {
   "codemirror_mode": {
    "name": "ipython",
    "version": 3
   },
   "file_extension": ".py",
   "mimetype": "text/x-python",
   "name": "python",
   "nbconvert_exporter": "python",
   "pygments_lexer": "ipython3",
   "version": "3.7.6"
  }
 },
 "nbformat": 4,
 "nbformat_minor": 4
}

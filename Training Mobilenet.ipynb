{
 "cells": [
  {
   "cell_type": "code",
   "execution_count": 7,
   "metadata": {
    "colab": {
     "base_uri": "https://localhost:8080/",
     "height": 72
    },
    "colab_type": "code",
    "id": "HD-jaO82-htG",
    "outputId": "6da8c262-d356-4cba-8766-5f77a1399f59"
   },
   "outputs": [
    {
     "name": "stderr",
     "output_type": "stream",
     "text": [
      "/usr/local/lib/python3.6/dist-packages/statsmodels/tools/_testing.py:19: FutureWarning: pandas.util.testing is deprecated. Use the functions in the public API at pandas.testing instead.\n",
      "  import pandas.util.testing as tm\n"
     ]
    }
   ],
   "source": [
    "# Importing neccessary packages\n",
    "import numpy as np\n",
    "import tensorflow as tf\n",
    "import os\n",
    "from utils import get_data_generators"
   ]
  },
  {
   "cell_type": "code",
   "execution_count": 0,
   "metadata": {
    "colab": {},
    "colab_type": "code",
    "id": "GyrxQvSP-zOj"
   },
   "outputs": [],
   "source": [
    "NUM_CLASSES = 11"
   ]
  },
  {
   "cell_type": "code",
   "execution_count": 10,
   "metadata": {
    "colab": {
     "base_uri": "https://localhost:8080/",
     "height": 34
    },
    "colab_type": "code",
    "id": "Dsnnnkq9-8G_",
    "outputId": "16a0d626-9767-4225-b156-56f01eb1bafb"
   },
   "outputs": [
    {
     "data": {
      "text/plain": [
       "'158.jpg'"
      ]
     },
     "execution_count": 10,
     "metadata": {
      "tags": []
     },
     "output_type": "execute_result"
    }
   ],
   "source": [
    "os.listdir('./training/')[0].split('_')[1]"
   ]
  },
  {
   "cell_type": "code",
   "execution_count": 0,
   "metadata": {
    "colab": {},
    "colab_type": "code",
    "id": "BXphf7RzAC5l"
   },
   "outputs": [],
   "source": [
    "# Data augmentation for regularization and adding some extra training samples\n",
    "\n",
    "datagen = tf.keras.preprocessing.image.ImageDataGenerator(\n",
    "    preprocessing_function=tf.keras.applications.mobilenet.preprocess_input,\n",
    "    rescale=1.0/255.0,\n",
    "    horizontal_flip=True, \n",
    "    width_shift_range=0.2,\n",
    "    height_shift_range=0.2,\n",
    "    zoom_range=0.2,\n",
    "    shear_range=0.2,\n",
    "    rotation_range=30\n",
    ")"
   ]
  },
  {
   "cell_type": "code",
   "execution_count": 0,
   "metadata": {
    "colab": {},
    "colab_type": "code",
    "id": "J-QWGC16AQ_-"
   },
   "outputs": [],
   "source": [
    "TARGET_DIM = 224\n",
    "BATCH_SIZE = 32"
   ]
  },
  {
   "cell_type": "code",
   "execution_count": 25,
   "metadata": {
    "colab": {
     "base_uri": "https://localhost:8080/",
     "height": 52
    },
    "colab_type": "code",
    "id": "Nhp1Xa4GAUmV",
    "outputId": "b4c1e5bf-e44e-4027-a466-285be3f4dbef"
   },
   "outputs": [
    {
     "name": "stdout",
     "output_type": "stream",
     "text": [
      "Found 9866 images belonging to 11 classes.\n",
      "Found 3430 images belonging to 11 classes.\n"
     ]
    }
   ],
   "source": [
    "train_generator, validation_generator = get_data_generators(datagen, TARGET_DIM, BATCH_SIZE)"
   ]
  },
  {
   "cell_type": "code",
   "execution_count": 26,
   "metadata": {
    "colab": {
     "base_uri": "https://localhost:8080/",
     "height": 72
    },
    "colab_type": "code",
    "id": "Nyajl22tAXC-",
    "outputId": "36d7ed58-d60b-4052-fd22-d111587eb8dd"
   },
   "outputs": [
    {
     "name": "stdout",
     "output_type": "stream",
     "text": [
      "Downloading data from https://storage.googleapis.com/tensorflow/keras-applications/mobilenet/mobilenet_1_0_224_tf_no_top.h5\n",
      "17227776/17225924 [==============================] - 0s 0us/step\n"
     ]
    }
   ],
   "source": [
    "# Lets try the Xception architecture\n",
    "\n",
    "base_model = tf.keras.applications.mobilenet.MobileNet(\n",
    "    include_top=False, \n",
    "    weights='imagenet', \n",
    "    input_shape=(TARGET_DIM, TARGET_DIM, 3)\n",
    ")"
   ]
  },
  {
   "cell_type": "code",
   "execution_count": 27,
   "metadata": {
    "colab": {
     "base_uri": "https://localhost:8080/",
     "height": 1000
    },
    "colab_type": "code",
    "id": "p3Tbj29fAZ9G",
    "outputId": "d1e9aed9-9eb1-4609-b1d7-e4136a1fe3bb"
   },
   "outputs": [
    {
     "name": "stdout",
     "output_type": "stream",
     "text": [
      "Model: \"mobilenet_1.00_224\"\n",
      "_________________________________________________________________\n",
      "Layer (type)                 Output Shape              Param #   \n",
      "=================================================================\n",
      "input_1 (InputLayer)         [(None, 224, 224, 3)]     0         \n",
      "_________________________________________________________________\n",
      "conv1_pad (ZeroPadding2D)    (None, 225, 225, 3)       0         \n",
      "_________________________________________________________________\n",
      "conv1 (Conv2D)               (None, 112, 112, 32)      864       \n",
      "_________________________________________________________________\n",
      "conv1_bn (BatchNormalization (None, 112, 112, 32)      128       \n",
      "_________________________________________________________________\n",
      "conv1_relu (ReLU)            (None, 112, 112, 32)      0         \n",
      "_________________________________________________________________\n",
      "conv_dw_1 (DepthwiseConv2D)  (None, 112, 112, 32)      288       \n",
      "_________________________________________________________________\n",
      "conv_dw_1_bn (BatchNormaliza (None, 112, 112, 32)      128       \n",
      "_________________________________________________________________\n",
      "conv_dw_1_relu (ReLU)        (None, 112, 112, 32)      0         \n",
      "_________________________________________________________________\n",
      "conv_pw_1 (Conv2D)           (None, 112, 112, 64)      2048      \n",
      "_________________________________________________________________\n",
      "conv_pw_1_bn (BatchNormaliza (None, 112, 112, 64)      256       \n",
      "_________________________________________________________________\n",
      "conv_pw_1_relu (ReLU)        (None, 112, 112, 64)      0         \n",
      "_________________________________________________________________\n",
      "conv_pad_2 (ZeroPadding2D)   (None, 113, 113, 64)      0         \n",
      "_________________________________________________________________\n",
      "conv_dw_2 (DepthwiseConv2D)  (None, 56, 56, 64)        576       \n",
      "_________________________________________________________________\n",
      "conv_dw_2_bn (BatchNormaliza (None, 56, 56, 64)        256       \n",
      "_________________________________________________________________\n",
      "conv_dw_2_relu (ReLU)        (None, 56, 56, 64)        0         \n",
      "_________________________________________________________________\n",
      "conv_pw_2 (Conv2D)           (None, 56, 56, 128)       8192      \n",
      "_________________________________________________________________\n",
      "conv_pw_2_bn (BatchNormaliza (None, 56, 56, 128)       512       \n",
      "_________________________________________________________________\n",
      "conv_pw_2_relu (ReLU)        (None, 56, 56, 128)       0         \n",
      "_________________________________________________________________\n",
      "conv_dw_3 (DepthwiseConv2D)  (None, 56, 56, 128)       1152      \n",
      "_________________________________________________________________\n",
      "conv_dw_3_bn (BatchNormaliza (None, 56, 56, 128)       512       \n",
      "_________________________________________________________________\n",
      "conv_dw_3_relu (ReLU)        (None, 56, 56, 128)       0         \n",
      "_________________________________________________________________\n",
      "conv_pw_3 (Conv2D)           (None, 56, 56, 128)       16384     \n",
      "_________________________________________________________________\n",
      "conv_pw_3_bn (BatchNormaliza (None, 56, 56, 128)       512       \n",
      "_________________________________________________________________\n",
      "conv_pw_3_relu (ReLU)        (None, 56, 56, 128)       0         \n",
      "_________________________________________________________________\n",
      "conv_pad_4 (ZeroPadding2D)   (None, 57, 57, 128)       0         \n",
      "_________________________________________________________________\n",
      "conv_dw_4 (DepthwiseConv2D)  (None, 28, 28, 128)       1152      \n",
      "_________________________________________________________________\n",
      "conv_dw_4_bn (BatchNormaliza (None, 28, 28, 128)       512       \n",
      "_________________________________________________________________\n",
      "conv_dw_4_relu (ReLU)        (None, 28, 28, 128)       0         \n",
      "_________________________________________________________________\n",
      "conv_pw_4 (Conv2D)           (None, 28, 28, 256)       32768     \n",
      "_________________________________________________________________\n",
      "conv_pw_4_bn (BatchNormaliza (None, 28, 28, 256)       1024      \n",
      "_________________________________________________________________\n",
      "conv_pw_4_relu (ReLU)        (None, 28, 28, 256)       0         \n",
      "_________________________________________________________________\n",
      "conv_dw_5 (DepthwiseConv2D)  (None, 28, 28, 256)       2304      \n",
      "_________________________________________________________________\n",
      "conv_dw_5_bn (BatchNormaliza (None, 28, 28, 256)       1024      \n",
      "_________________________________________________________________\n",
      "conv_dw_5_relu (ReLU)        (None, 28, 28, 256)       0         \n",
      "_________________________________________________________________\n",
      "conv_pw_5 (Conv2D)           (None, 28, 28, 256)       65536     \n",
      "_________________________________________________________________\n",
      "conv_pw_5_bn (BatchNormaliza (None, 28, 28, 256)       1024      \n",
      "_________________________________________________________________\n",
      "conv_pw_5_relu (ReLU)        (None, 28, 28, 256)       0         \n",
      "_________________________________________________________________\n",
      "conv_pad_6 (ZeroPadding2D)   (None, 29, 29, 256)       0         \n",
      "_________________________________________________________________\n",
      "conv_dw_6 (DepthwiseConv2D)  (None, 14, 14, 256)       2304      \n",
      "_________________________________________________________________\n",
      "conv_dw_6_bn (BatchNormaliza (None, 14, 14, 256)       1024      \n",
      "_________________________________________________________________\n",
      "conv_dw_6_relu (ReLU)        (None, 14, 14, 256)       0         \n",
      "_________________________________________________________________\n",
      "conv_pw_6 (Conv2D)           (None, 14, 14, 512)       131072    \n",
      "_________________________________________________________________\n",
      "conv_pw_6_bn (BatchNormaliza (None, 14, 14, 512)       2048      \n",
      "_________________________________________________________________\n",
      "conv_pw_6_relu (ReLU)        (None, 14, 14, 512)       0         \n",
      "_________________________________________________________________\n",
      "conv_dw_7 (DepthwiseConv2D)  (None, 14, 14, 512)       4608      \n",
      "_________________________________________________________________\n",
      "conv_dw_7_bn (BatchNormaliza (None, 14, 14, 512)       2048      \n",
      "_________________________________________________________________\n",
      "conv_dw_7_relu (ReLU)        (None, 14, 14, 512)       0         \n",
      "_________________________________________________________________\n",
      "conv_pw_7 (Conv2D)           (None, 14, 14, 512)       262144    \n",
      "_________________________________________________________________\n",
      "conv_pw_7_bn (BatchNormaliza (None, 14, 14, 512)       2048      \n",
      "_________________________________________________________________\n",
      "conv_pw_7_relu (ReLU)        (None, 14, 14, 512)       0         \n",
      "_________________________________________________________________\n",
      "conv_dw_8 (DepthwiseConv2D)  (None, 14, 14, 512)       4608      \n",
      "_________________________________________________________________\n",
      "conv_dw_8_bn (BatchNormaliza (None, 14, 14, 512)       2048      \n",
      "_________________________________________________________________\n",
      "conv_dw_8_relu (ReLU)        (None, 14, 14, 512)       0         \n",
      "_________________________________________________________________\n",
      "conv_pw_8 (Conv2D)           (None, 14, 14, 512)       262144    \n",
      "_________________________________________________________________\n",
      "conv_pw_8_bn (BatchNormaliza (None, 14, 14, 512)       2048      \n",
      "_________________________________________________________________\n",
      "conv_pw_8_relu (ReLU)        (None, 14, 14, 512)       0         \n",
      "_________________________________________________________________\n",
      "conv_dw_9 (DepthwiseConv2D)  (None, 14, 14, 512)       4608      \n",
      "_________________________________________________________________\n",
      "conv_dw_9_bn (BatchNormaliza (None, 14, 14, 512)       2048      \n",
      "_________________________________________________________________\n",
      "conv_dw_9_relu (ReLU)        (None, 14, 14, 512)       0         \n",
      "_________________________________________________________________\n",
      "conv_pw_9 (Conv2D)           (None, 14, 14, 512)       262144    \n",
      "_________________________________________________________________\n",
      "conv_pw_9_bn (BatchNormaliza (None, 14, 14, 512)       2048      \n",
      "_________________________________________________________________\n",
      "conv_pw_9_relu (ReLU)        (None, 14, 14, 512)       0         \n",
      "_________________________________________________________________\n",
      "conv_dw_10 (DepthwiseConv2D) (None, 14, 14, 512)       4608      \n",
      "_________________________________________________________________\n",
      "conv_dw_10_bn (BatchNormaliz (None, 14, 14, 512)       2048      \n",
      "_________________________________________________________________\n",
      "conv_dw_10_relu (ReLU)       (None, 14, 14, 512)       0         \n",
      "_________________________________________________________________\n",
      "conv_pw_10 (Conv2D)          (None, 14, 14, 512)       262144    \n",
      "_________________________________________________________________\n",
      "conv_pw_10_bn (BatchNormaliz (None, 14, 14, 512)       2048      \n",
      "_________________________________________________________________\n",
      "conv_pw_10_relu (ReLU)       (None, 14, 14, 512)       0         \n",
      "_________________________________________________________________\n",
      "conv_dw_11 (DepthwiseConv2D) (None, 14, 14, 512)       4608      \n",
      "_________________________________________________________________\n",
      "conv_dw_11_bn (BatchNormaliz (None, 14, 14, 512)       2048      \n",
      "_________________________________________________________________\n",
      "conv_dw_11_relu (ReLU)       (None, 14, 14, 512)       0         \n",
      "_________________________________________________________________\n",
      "conv_pw_11 (Conv2D)          (None, 14, 14, 512)       262144    \n",
      "_________________________________________________________________\n",
      "conv_pw_11_bn (BatchNormaliz (None, 14, 14, 512)       2048      \n",
      "_________________________________________________________________\n",
      "conv_pw_11_relu (ReLU)       (None, 14, 14, 512)       0         \n",
      "_________________________________________________________________\n",
      "conv_pad_12 (ZeroPadding2D)  (None, 15, 15, 512)       0         \n",
      "_________________________________________________________________\n",
      "conv_dw_12 (DepthwiseConv2D) (None, 7, 7, 512)         4608      \n",
      "_________________________________________________________________\n",
      "conv_dw_12_bn (BatchNormaliz (None, 7, 7, 512)         2048      \n",
      "_________________________________________________________________\n",
      "conv_dw_12_relu (ReLU)       (None, 7, 7, 512)         0         \n",
      "_________________________________________________________________\n",
      "conv_pw_12 (Conv2D)          (None, 7, 7, 1024)        524288    \n",
      "_________________________________________________________________\n",
      "conv_pw_12_bn (BatchNormaliz (None, 7, 7, 1024)        4096      \n",
      "_________________________________________________________________\n",
      "conv_pw_12_relu (ReLU)       (None, 7, 7, 1024)        0         \n",
      "_________________________________________________________________\n",
      "conv_dw_13 (DepthwiseConv2D) (None, 7, 7, 1024)        9216      \n",
      "_________________________________________________________________\n",
      "conv_dw_13_bn (BatchNormaliz (None, 7, 7, 1024)        4096      \n",
      "_________________________________________________________________\n",
      "conv_dw_13_relu (ReLU)       (None, 7, 7, 1024)        0         \n",
      "_________________________________________________________________\n",
      "conv_pw_13 (Conv2D)          (None, 7, 7, 1024)        1048576   \n",
      "_________________________________________________________________\n",
      "conv_pw_13_bn (BatchNormaliz (None, 7, 7, 1024)        4096      \n",
      "_________________________________________________________________\n",
      "conv_pw_13_relu (ReLU)       (None, 7, 7, 1024)        0         \n",
      "=================================================================\n",
      "Total params: 3,228,864\n",
      "Trainable params: 3,206,976\n",
      "Non-trainable params: 21,888\n",
      "_________________________________________________________________\n"
     ]
    }
   ],
   "source": [
    "base_model.summary()"
   ]
  },
  {
   "cell_type": "code",
   "execution_count": 28,
   "metadata": {
    "colab": {
     "base_uri": "https://localhost:8080/",
     "height": 34
    },
    "colab_type": "code",
    "id": "QISfc7r2AdC8",
    "outputId": "411b0565-5002-4e2c-a090-42934a6e8192"
   },
   "outputs": [
    {
     "name": "stdout",
     "output_type": "stream",
     "text": [
      "Layers in Mobilenet: 87\n"
     ]
    }
   ],
   "source": [
    "print('Layers in Mobilenet: ' + str(len(base_model.layers)))"
   ]
  },
  {
   "cell_type": "code",
   "execution_count": 0,
   "metadata": {
    "colab": {},
    "colab_type": "code",
    "id": "-txynW7AAglt"
   },
   "outputs": [],
   "source": [
    "preds = base_model.output\n",
    "preds = tf.keras.layers.Flatten()(preds)\n",
    "preds = tf.keras.layers.Dense(512, activation=tf.nn.relu)(preds)\n",
    "preds = tf.keras.layers.BatchNormalization()(preds)\n",
    "preds = tf.keras.layers.Dropout(0.5)(preds)\n",
    "preds = tf.keras.layers.Dense(256, activation=tf.nn.relu)(preds)\n",
    "preds = tf.keras.layers.BatchNormalization()(preds)\n",
    "preds = tf.keras.layers.Dropout(0.4)(preds)\n",
    "preds = tf.keras.layers.Dense(128, activation=tf.nn.relu)(preds)\n",
    "preds = tf.keras.layers.Dense(11, activation=tf.nn.softmax)(preds)"
   ]
  },
  {
   "cell_type": "code",
   "execution_count": 0,
   "metadata": {
    "colab": {},
    "colab_type": "code",
    "id": "Z93r3vXPAl6-"
   },
   "outputs": [],
   "source": [
    "model = tf.keras.models.Model(base_model.input, preds)"
   ]
  },
  {
   "cell_type": "code",
   "execution_count": 31,
   "metadata": {
    "colab": {
     "base_uri": "https://localhost:8080/",
     "height": 1000
    },
    "colab_type": "code",
    "id": "2xP0h_l4AnmY",
    "outputId": "f116b888-37b5-463e-cb51-787ddfec03fe"
   },
   "outputs": [
    {
     "name": "stdout",
     "output_type": "stream",
     "text": [
      "Model: \"model\"\n",
      "_________________________________________________________________\n",
      "Layer (type)                 Output Shape              Param #   \n",
      "=================================================================\n",
      "input_1 (InputLayer)         [(None, 224, 224, 3)]     0         \n",
      "_________________________________________________________________\n",
      "conv1_pad (ZeroPadding2D)    (None, 225, 225, 3)       0         \n",
      "_________________________________________________________________\n",
      "conv1 (Conv2D)               (None, 112, 112, 32)      864       \n",
      "_________________________________________________________________\n",
      "conv1_bn (BatchNormalization (None, 112, 112, 32)      128       \n",
      "_________________________________________________________________\n",
      "conv1_relu (ReLU)            (None, 112, 112, 32)      0         \n",
      "_________________________________________________________________\n",
      "conv_dw_1 (DepthwiseConv2D)  (None, 112, 112, 32)      288       \n",
      "_________________________________________________________________\n",
      "conv_dw_1_bn (BatchNormaliza (None, 112, 112, 32)      128       \n",
      "_________________________________________________________________\n",
      "conv_dw_1_relu (ReLU)        (None, 112, 112, 32)      0         \n",
      "_________________________________________________________________\n",
      "conv_pw_1 (Conv2D)           (None, 112, 112, 64)      2048      \n",
      "_________________________________________________________________\n",
      "conv_pw_1_bn (BatchNormaliza (None, 112, 112, 64)      256       \n",
      "_________________________________________________________________\n",
      "conv_pw_1_relu (ReLU)        (None, 112, 112, 64)      0         \n",
      "_________________________________________________________________\n",
      "conv_pad_2 (ZeroPadding2D)   (None, 113, 113, 64)      0         \n",
      "_________________________________________________________________\n",
      "conv_dw_2 (DepthwiseConv2D)  (None, 56, 56, 64)        576       \n",
      "_________________________________________________________________\n",
      "conv_dw_2_bn (BatchNormaliza (None, 56, 56, 64)        256       \n",
      "_________________________________________________________________\n",
      "conv_dw_2_relu (ReLU)        (None, 56, 56, 64)        0         \n",
      "_________________________________________________________________\n",
      "conv_pw_2 (Conv2D)           (None, 56, 56, 128)       8192      \n",
      "_________________________________________________________________\n",
      "conv_pw_2_bn (BatchNormaliza (None, 56, 56, 128)       512       \n",
      "_________________________________________________________________\n",
      "conv_pw_2_relu (ReLU)        (None, 56, 56, 128)       0         \n",
      "_________________________________________________________________\n",
      "conv_dw_3 (DepthwiseConv2D)  (None, 56, 56, 128)       1152      \n",
      "_________________________________________________________________\n",
      "conv_dw_3_bn (BatchNormaliza (None, 56, 56, 128)       512       \n",
      "_________________________________________________________________\n",
      "conv_dw_3_relu (ReLU)        (None, 56, 56, 128)       0         \n",
      "_________________________________________________________________\n",
      "conv_pw_3 (Conv2D)           (None, 56, 56, 128)       16384     \n",
      "_________________________________________________________________\n",
      "conv_pw_3_bn (BatchNormaliza (None, 56, 56, 128)       512       \n",
      "_________________________________________________________________\n",
      "conv_pw_3_relu (ReLU)        (None, 56, 56, 128)       0         \n",
      "_________________________________________________________________\n",
      "conv_pad_4 (ZeroPadding2D)   (None, 57, 57, 128)       0         \n",
      "_________________________________________________________________\n",
      "conv_dw_4 (DepthwiseConv2D)  (None, 28, 28, 128)       1152      \n",
      "_________________________________________________________________\n",
      "conv_dw_4_bn (BatchNormaliza (None, 28, 28, 128)       512       \n",
      "_________________________________________________________________\n",
      "conv_dw_4_relu (ReLU)        (None, 28, 28, 128)       0         \n",
      "_________________________________________________________________\n",
      "conv_pw_4 (Conv2D)           (None, 28, 28, 256)       32768     \n",
      "_________________________________________________________________\n",
      "conv_pw_4_bn (BatchNormaliza (None, 28, 28, 256)       1024      \n",
      "_________________________________________________________________\n",
      "conv_pw_4_relu (ReLU)        (None, 28, 28, 256)       0         \n",
      "_________________________________________________________________\n",
      "conv_dw_5 (DepthwiseConv2D)  (None, 28, 28, 256)       2304      \n",
      "_________________________________________________________________\n",
      "conv_dw_5_bn (BatchNormaliza (None, 28, 28, 256)       1024      \n",
      "_________________________________________________________________\n",
      "conv_dw_5_relu (ReLU)        (None, 28, 28, 256)       0         \n",
      "_________________________________________________________________\n",
      "conv_pw_5 (Conv2D)           (None, 28, 28, 256)       65536     \n",
      "_________________________________________________________________\n",
      "conv_pw_5_bn (BatchNormaliza (None, 28, 28, 256)       1024      \n",
      "_________________________________________________________________\n",
      "conv_pw_5_relu (ReLU)        (None, 28, 28, 256)       0         \n",
      "_________________________________________________________________\n",
      "conv_pad_6 (ZeroPadding2D)   (None, 29, 29, 256)       0         \n",
      "_________________________________________________________________\n",
      "conv_dw_6 (DepthwiseConv2D)  (None, 14, 14, 256)       2304      \n",
      "_________________________________________________________________\n",
      "conv_dw_6_bn (BatchNormaliza (None, 14, 14, 256)       1024      \n",
      "_________________________________________________________________\n",
      "conv_dw_6_relu (ReLU)        (None, 14, 14, 256)       0         \n",
      "_________________________________________________________________\n",
      "conv_pw_6 (Conv2D)           (None, 14, 14, 512)       131072    \n",
      "_________________________________________________________________\n",
      "conv_pw_6_bn (BatchNormaliza (None, 14, 14, 512)       2048      \n",
      "_________________________________________________________________\n",
      "conv_pw_6_relu (ReLU)        (None, 14, 14, 512)       0         \n",
      "_________________________________________________________________\n",
      "conv_dw_7 (DepthwiseConv2D)  (None, 14, 14, 512)       4608      \n",
      "_________________________________________________________________\n",
      "conv_dw_7_bn (BatchNormaliza (None, 14, 14, 512)       2048      \n",
      "_________________________________________________________________\n",
      "conv_dw_7_relu (ReLU)        (None, 14, 14, 512)       0         \n",
      "_________________________________________________________________\n",
      "conv_pw_7 (Conv2D)           (None, 14, 14, 512)       262144    \n",
      "_________________________________________________________________\n",
      "conv_pw_7_bn (BatchNormaliza (None, 14, 14, 512)       2048      \n",
      "_________________________________________________________________\n",
      "conv_pw_7_relu (ReLU)        (None, 14, 14, 512)       0         \n",
      "_________________________________________________________________\n",
      "conv_dw_8 (DepthwiseConv2D)  (None, 14, 14, 512)       4608      \n",
      "_________________________________________________________________\n",
      "conv_dw_8_bn (BatchNormaliza (None, 14, 14, 512)       2048      \n",
      "_________________________________________________________________\n",
      "conv_dw_8_relu (ReLU)        (None, 14, 14, 512)       0         \n",
      "_________________________________________________________________\n",
      "conv_pw_8 (Conv2D)           (None, 14, 14, 512)       262144    \n",
      "_________________________________________________________________\n",
      "conv_pw_8_bn (BatchNormaliza (None, 14, 14, 512)       2048      \n",
      "_________________________________________________________________\n",
      "conv_pw_8_relu (ReLU)        (None, 14, 14, 512)       0         \n",
      "_________________________________________________________________\n",
      "conv_dw_9 (DepthwiseConv2D)  (None, 14, 14, 512)       4608      \n",
      "_________________________________________________________________\n",
      "conv_dw_9_bn (BatchNormaliza (None, 14, 14, 512)       2048      \n",
      "_________________________________________________________________\n",
      "conv_dw_9_relu (ReLU)        (None, 14, 14, 512)       0         \n",
      "_________________________________________________________________\n",
      "conv_pw_9 (Conv2D)           (None, 14, 14, 512)       262144    \n",
      "_________________________________________________________________\n",
      "conv_pw_9_bn (BatchNormaliza (None, 14, 14, 512)       2048      \n",
      "_________________________________________________________________\n",
      "conv_pw_9_relu (ReLU)        (None, 14, 14, 512)       0         \n",
      "_________________________________________________________________\n",
      "conv_dw_10 (DepthwiseConv2D) (None, 14, 14, 512)       4608      \n",
      "_________________________________________________________________\n",
      "conv_dw_10_bn (BatchNormaliz (None, 14, 14, 512)       2048      \n",
      "_________________________________________________________________\n",
      "conv_dw_10_relu (ReLU)       (None, 14, 14, 512)       0         \n",
      "_________________________________________________________________\n",
      "conv_pw_10 (Conv2D)          (None, 14, 14, 512)       262144    \n",
      "_________________________________________________________________\n",
      "conv_pw_10_bn (BatchNormaliz (None, 14, 14, 512)       2048      \n",
      "_________________________________________________________________\n",
      "conv_pw_10_relu (ReLU)       (None, 14, 14, 512)       0         \n",
      "_________________________________________________________________\n",
      "conv_dw_11 (DepthwiseConv2D) (None, 14, 14, 512)       4608      \n",
      "_________________________________________________________________\n",
      "conv_dw_11_bn (BatchNormaliz (None, 14, 14, 512)       2048      \n",
      "_________________________________________________________________\n",
      "conv_dw_11_relu (ReLU)       (None, 14, 14, 512)       0         \n",
      "_________________________________________________________________\n",
      "conv_pw_11 (Conv2D)          (None, 14, 14, 512)       262144    \n",
      "_________________________________________________________________\n",
      "conv_pw_11_bn (BatchNormaliz (None, 14, 14, 512)       2048      \n",
      "_________________________________________________________________\n",
      "conv_pw_11_relu (ReLU)       (None, 14, 14, 512)       0         \n",
      "_________________________________________________________________\n",
      "conv_pad_12 (ZeroPadding2D)  (None, 15, 15, 512)       0         \n",
      "_________________________________________________________________\n",
      "conv_dw_12 (DepthwiseConv2D) (None, 7, 7, 512)         4608      \n",
      "_________________________________________________________________\n",
      "conv_dw_12_bn (BatchNormaliz (None, 7, 7, 512)         2048      \n",
      "_________________________________________________________________\n",
      "conv_dw_12_relu (ReLU)       (None, 7, 7, 512)         0         \n",
      "_________________________________________________________________\n",
      "conv_pw_12 (Conv2D)          (None, 7, 7, 1024)        524288    \n",
      "_________________________________________________________________\n",
      "conv_pw_12_bn (BatchNormaliz (None, 7, 7, 1024)        4096      \n",
      "_________________________________________________________________\n",
      "conv_pw_12_relu (ReLU)       (None, 7, 7, 1024)        0         \n",
      "_________________________________________________________________\n",
      "conv_dw_13 (DepthwiseConv2D) (None, 7, 7, 1024)        9216      \n",
      "_________________________________________________________________\n",
      "conv_dw_13_bn (BatchNormaliz (None, 7, 7, 1024)        4096      \n",
      "_________________________________________________________________\n",
      "conv_dw_13_relu (ReLU)       (None, 7, 7, 1024)        0         \n",
      "_________________________________________________________________\n",
      "conv_pw_13 (Conv2D)          (None, 7, 7, 1024)        1048576   \n",
      "_________________________________________________________________\n",
      "conv_pw_13_bn (BatchNormaliz (None, 7, 7, 1024)        4096      \n",
      "_________________________________________________________________\n",
      "conv_pw_13_relu (ReLU)       (None, 7, 7, 1024)        0         \n",
      "_________________________________________________________________\n",
      "flatten (Flatten)            (None, 50176)             0         \n",
      "_________________________________________________________________\n",
      "dense (Dense)                (None, 512)               25690624  \n",
      "_________________________________________________________________\n",
      "batch_normalization (BatchNo (None, 512)               2048      \n",
      "_________________________________________________________________\n",
      "dropout (Dropout)            (None, 512)               0         \n",
      "_________________________________________________________________\n",
      "dense_1 (Dense)              (None, 256)               131328    \n",
      "_________________________________________________________________\n",
      "batch_normalization_1 (Batch (None, 256)               1024      \n",
      "_________________________________________________________________\n",
      "dropout_1 (Dropout)          (None, 256)               0         \n",
      "_________________________________________________________________\n",
      "dense_2 (Dense)              (None, 128)               32896     \n",
      "_________________________________________________________________\n",
      "dense_3 (Dense)              (None, 11)                1419      \n",
      "=================================================================\n",
      "Total params: 29,088,203\n",
      "Trainable params: 29,064,779\n",
      "Non-trainable params: 23,424\n",
      "_________________________________________________________________\n"
     ]
    }
   ],
   "source": [
    "model.summary()"
   ]
  },
  {
   "cell_type": "code",
   "execution_count": 32,
   "metadata": {
    "colab": {
     "base_uri": "https://localhost:8080/",
     "height": 34
    },
    "colab_type": "code",
    "id": "plibI0OlPF3I",
    "outputId": "63f5b46e-362d-4712-c994-7c2701ecfea5"
   },
   "outputs": [
    {
     "data": {
      "text/plain": [
       "'conv_dw_13'"
      ]
     },
     "execution_count": 32,
     "metadata": {
      "tags": []
     },
     "output_type": "execute_result"
    }
   ],
   "source": [
    "model.layers[-15].name"
   ]
  },
  {
   "cell_type": "code",
   "execution_count": 0,
   "metadata": {
    "colab": {},
    "colab_type": "code",
    "id": "JeG3d0KCApSN"
   },
   "outputs": [],
   "source": [
    "model.compile(\n",
    "    optimizer=tf.keras.optimizers.RMSprop(learning_rate=0.005, momentum=0.09),\n",
    "    loss='categorical_crossentropy',\n",
    "    metrics=['acc']\n",
    ")"
   ]
  },
  {
   "cell_type": "code",
   "execution_count": 0,
   "metadata": {
    "colab": {},
    "colab_type": "code",
    "id": "pqgLC47yAz4M"
   },
   "outputs": [],
   "source": [
    "# Create directory in drive for storing model\n",
    "!mkdir drive/My\\ Drive/food_11_weights"
   ]
  },
  {
   "cell_type": "code",
   "execution_count": 0,
   "metadata": {
    "colab": {},
    "colab_type": "code",
    "id": "l5qVM0phAsK0"
   },
   "outputs": [],
   "source": [
    "# Lets define checkpoint for model saving\n",
    "filepath=\"./drive/My Drive/food_11_weights/mobilenet-{epoch:02d}-{val_acc:.2f}.hdf5\"\n",
    "checkpoint = tf.keras.callbacks.ModelCheckpoint(filepath, monitor='val_acc', verbose=1, save_best_only=True, mode='max')"
   ]
  },
  {
   "cell_type": "code",
   "execution_count": 0,
   "metadata": {
    "colab": {},
    "colab_type": "code",
    "id": "QnET3wBCBG-S"
   },
   "outputs": [],
   "source": [
    "# Freeze mobilenet layers and train only newly added layers\n",
    "\n",
    "for layers in model.layers[:-15]:\n",
    "    layers.trainable = False\n",
    "\n",
    "for layers in model.layers[-15:]:\n",
    "    layers.trainable = True"
   ]
  },
  {
   "cell_type": "code",
   "execution_count": 0,
   "metadata": {
    "colab": {},
    "colab_type": "code",
    "id": "ZqVBDZEdBJH-"
   },
   "outputs": [],
   "source": [
    "# Lets stop training when model acheives desired accuracy\n",
    "\n",
    "class ModelCallback(tf.keras.callbacks.Callback):\n",
    "    \n",
    "    def on_epoch_end(self, epoch, logs):\n",
    "        # Check if validation accuracy is above 90% then stop training\n",
    "        if logs['acc'] >= 0.95:\n",
    "            print('Model reached its target')\n",
    "            self.model.stop_training = True\n",
    "            \n",
    "model_callback = ModelCallback()"
   ]
  },
  {
   "cell_type": "code",
   "execution_count": 37,
   "metadata": {
    "colab": {
     "base_uri": "https://localhost:8080/",
     "height": 1000
    },
    "colab_type": "code",
    "id": "tvlhQTlaBNsX",
    "outputId": "ad64ac49-0f34-41fa-d6cf-9871ddc77d6f"
   },
   "outputs": [
    {
     "name": "stdout",
     "output_type": "stream",
     "text": [
      "WARNING:tensorflow:From <ipython-input-37-8bf360dea4d0>:9: Model.fit_generator (from tensorflow.python.keras.engine.training) is deprecated and will be removed in a future version.\n",
      "Instructions for updating:\n",
      "Please use Model.fit, which supports generators.\n",
      "Epoch 1/50\n",
      "308/308 [==============================] - ETA: 0s - loss: 2.4602 - acc: 0.1678\n",
      "Epoch 00001: val_acc improved from -inf to 0.04264, saving model to ./drive/My Drive/food_11_weights/mobilenet-01-0.04.hdf5\n",
      "308/308 [==============================] - 218s 709ms/step - loss: 2.4602 - acc: 0.1678 - val_loss: 2.5526 - val_acc: 0.0426\n",
      "Epoch 2/50\n",
      "308/308 [==============================] - ETA: 0s - loss: 2.0988 - acc: 0.2580\n",
      "Epoch 00002: val_acc improved from 0.04264 to 0.22050, saving model to ./drive/My Drive/food_11_weights/mobilenet-02-0.22.hdf5\n",
      "308/308 [==============================] - 218s 708ms/step - loss: 2.0988 - acc: 0.2580 - val_loss: 3.3642 - val_acc: 0.2205\n",
      "Epoch 3/50\n",
      "308/308 [==============================] - ETA: 0s - loss: 1.9596 - acc: 0.3063\n",
      "Epoch 00003: val_acc did not improve from 0.22050\n",
      "308/308 [==============================] - 218s 707ms/step - loss: 1.9596 - acc: 0.3063 - val_loss: 3.2618 - val_acc: 0.2004\n",
      "Epoch 4/50\n",
      "308/308 [==============================] - ETA: 0s - loss: 1.8313 - acc: 0.3499\n",
      "Epoch 00004: val_acc improved from 0.22050 to 0.37617, saving model to ./drive/My Drive/food_11_weights/mobilenet-04-0.38.hdf5\n",
      "308/308 [==============================] - 218s 709ms/step - loss: 1.8313 - acc: 0.3499 - val_loss: 1.8025 - val_acc: 0.3762\n",
      "Epoch 5/50\n",
      "308/308 [==============================] - ETA: 0s - loss: 1.7326 - acc: 0.3920\n",
      "Epoch 00005: val_acc did not improve from 0.37617\n",
      "308/308 [==============================] - 218s 706ms/step - loss: 1.7326 - acc: 0.3920 - val_loss: 2.4067 - val_acc: 0.2757\n",
      "Epoch 6/50\n",
      "308/308 [==============================] - ETA: 0s - loss: 1.6390 - acc: 0.4389\n",
      "Epoch 00006: val_acc did not improve from 0.37617\n",
      "308/308 [==============================] - 216s 701ms/step - loss: 1.6390 - acc: 0.4389 - val_loss: 3.0943 - val_acc: 0.2430\n",
      "Epoch 7/50\n",
      "308/308 [==============================] - ETA: 0s - loss: 1.5643 - acc: 0.4689\n",
      "Epoch 00007: val_acc did not improve from 0.37617\n",
      "308/308 [==============================] - 215s 698ms/step - loss: 1.5643 - acc: 0.4689 - val_loss: 2.1469 - val_acc: 0.3411\n",
      "Epoch 8/50\n",
      "308/308 [==============================] - ETA: 0s - loss: 1.4851 - acc: 0.4985\n",
      "Epoch 00008: val_acc did not improve from 0.37617\n",
      "308/308 [==============================] - 215s 699ms/step - loss: 1.4851 - acc: 0.4985 - val_loss: 2.2848 - val_acc: 0.3709\n",
      "Epoch 9/50\n",
      "308/308 [==============================] - ETA: 0s - loss: 1.4170 - acc: 0.5212\n",
      "Epoch 00009: val_acc improved from 0.37617 to 0.49796, saving model to ./drive/My Drive/food_11_weights/mobilenet-09-0.50.hdf5\n",
      "308/308 [==============================] - 217s 705ms/step - loss: 1.4170 - acc: 0.5212 - val_loss: 1.4749 - val_acc: 0.4980\n",
      "Epoch 10/50\n",
      "308/308 [==============================] - ETA: 0s - loss: 1.3528 - acc: 0.5467\n",
      "Epoch 00010: val_acc did not improve from 0.49796\n",
      "308/308 [==============================] - 216s 703ms/step - loss: 1.3528 - acc: 0.5467 - val_loss: 1.6844 - val_acc: 0.4512\n",
      "Epoch 11/50\n",
      "308/308 [==============================] - ETA: 0s - loss: 1.3108 - acc: 0.5517\n",
      "Epoch 00011: val_acc improved from 0.49796 to 0.49971, saving model to ./drive/My Drive/food_11_weights/mobilenet-11-0.50.hdf5\n",
      "308/308 [==============================] - 216s 700ms/step - loss: 1.3108 - acc: 0.5517 - val_loss: 1.5295 - val_acc: 0.4997\n",
      "Epoch 12/50\n",
      "308/308 [==============================] - ETA: 0s - loss: 1.2900 - acc: 0.5674\n",
      "Epoch 00012: val_acc improved from 0.49971 to 0.52687, saving model to ./drive/My Drive/food_11_weights/mobilenet-12-0.53.hdf5\n",
      "308/308 [==============================] - 215s 699ms/step - loss: 1.2900 - acc: 0.5674 - val_loss: 1.4319 - val_acc: 0.5269\n",
      "Epoch 13/50\n",
      "308/308 [==============================] - ETA: 0s - loss: 1.2426 - acc: 0.5838\n",
      "Epoch 00013: val_acc did not improve from 0.52687\n",
      "308/308 [==============================] - 214s 695ms/step - loss: 1.2426 - acc: 0.5838 - val_loss: 1.8492 - val_acc: 0.4515\n",
      "Epoch 14/50\n",
      "308/308 [==============================] - ETA: 0s - loss: 1.2036 - acc: 0.6041\n",
      "Epoch 00014: val_acc did not improve from 0.52687\n",
      "308/308 [==============================] - 216s 700ms/step - loss: 1.2036 - acc: 0.6041 - val_loss: 1.7185 - val_acc: 0.4796\n",
      "Epoch 15/50\n",
      "308/308 [==============================] - ETA: 0s - loss: 1.1581 - acc: 0.6194\n",
      "Epoch 00015: val_acc improved from 0.52687 to 0.53563, saving model to ./drive/My Drive/food_11_weights/mobilenet-15-0.54.hdf5\n",
      "308/308 [==============================] - 218s 709ms/step - loss: 1.1581 - acc: 0.6194 - val_loss: 1.4550 - val_acc: 0.5356\n",
      "Epoch 16/50\n",
      "308/308 [==============================] - ETA: 0s - loss: 1.1117 - acc: 0.6272\n",
      "Epoch 00016: val_acc did not improve from 0.53563\n",
      "308/308 [==============================] - 217s 704ms/step - loss: 1.1117 - acc: 0.6272 - val_loss: 1.6678 - val_acc: 0.4968\n",
      "Epoch 17/50\n",
      "308/308 [==============================] - ETA: 0s - loss: 1.0847 - acc: 0.6408\n",
      "Epoch 00017: val_acc did not improve from 0.53563\n",
      "308/308 [==============================] - 218s 707ms/step - loss: 1.0847 - acc: 0.6408 - val_loss: 2.6354 - val_acc: 0.3943\n",
      "Epoch 18/50\n",
      "308/308 [==============================] - ETA: 0s - loss: 1.0515 - acc: 0.6559\n",
      "Epoch 00018: val_acc did not improve from 0.53563\n",
      "308/308 [==============================] - 214s 695ms/step - loss: 1.0515 - acc: 0.6559 - val_loss: 2.3769 - val_acc: 0.3759\n",
      "Epoch 19/50\n",
      "308/308 [==============================] - ETA: 0s - loss: 1.0004 - acc: 0.6722\n",
      "Epoch 00019: val_acc improved from 0.53563 to 0.55403, saving model to ./drive/My Drive/food_11_weights/mobilenet-19-0.55.hdf5\n",
      "308/308 [==============================] - 215s 699ms/step - loss: 1.0004 - acc: 0.6722 - val_loss: 1.4780 - val_acc: 0.5540\n",
      "Epoch 20/50\n",
      "308/308 [==============================] - ETA: 0s - loss: 0.9929 - acc: 0.6853\n",
      "Epoch 00020: val_acc improved from 0.55403 to 0.61711, saving model to ./drive/My Drive/food_11_weights/mobilenet-20-0.62.hdf5\n",
      "308/308 [==============================] - 220s 713ms/step - loss: 0.9929 - acc: 0.6853 - val_loss: 1.1955 - val_acc: 0.6171\n",
      "Epoch 21/50\n",
      "308/308 [==============================] - ETA: 0s - loss: 0.9959 - acc: 0.6854\n",
      "Epoch 00021: val_acc did not improve from 0.61711\n",
      "308/308 [==============================] - 216s 700ms/step - loss: 0.9959 - acc: 0.6854 - val_loss: 1.7222 - val_acc: 0.4839\n",
      "Epoch 22/50\n",
      "308/308 [==============================] - ETA: 0s - loss: 0.9717 - acc: 0.6907\n",
      "Epoch 00022: val_acc did not improve from 0.61711\n",
      "308/308 [==============================] - 213s 693ms/step - loss: 0.9717 - acc: 0.6907 - val_loss: 1.5530 - val_acc: 0.5391\n",
      "Epoch 23/50\n",
      "308/308 [==============================] - ETA: 0s - loss: 0.9529 - acc: 0.6989\n",
      "Epoch 00023: val_acc did not improve from 0.61711\n",
      "308/308 [==============================] - 216s 700ms/step - loss: 0.9529 - acc: 0.6989 - val_loss: 1.3256 - val_acc: 0.6016\n",
      "Epoch 24/50\n",
      "308/308 [==============================] - ETA: 0s - loss: 0.9188 - acc: 0.7072\n",
      "Epoch 00024: val_acc did not improve from 0.61711\n",
      "308/308 [==============================] - 216s 701ms/step - loss: 0.9188 - acc: 0.7072 - val_loss: 1.4766 - val_acc: 0.5643\n",
      "Epoch 25/50\n",
      "308/308 [==============================] - ETA: 0s - loss: 0.9039 - acc: 0.7137\n",
      "Epoch 00025: val_acc did not improve from 0.61711\n",
      "308/308 [==============================] - 215s 697ms/step - loss: 0.9039 - acc: 0.7137 - val_loss: 1.4421 - val_acc: 0.5876\n",
      "Epoch 26/50\n",
      "308/308 [==============================] - ETA: 0s - loss: 0.8880 - acc: 0.7237\n",
      "Epoch 00026: val_acc did not improve from 0.61711\n",
      "308/308 [==============================] - 214s 696ms/step - loss: 0.8880 - acc: 0.7237 - val_loss: 2.4826 - val_acc: 0.4366\n",
      "Epoch 27/50\n",
      "308/308 [==============================] - ETA: 0s - loss: 0.8636 - acc: 0.7306\n",
      "Epoch 00027: val_acc did not improve from 0.61711\n",
      "308/308 [==============================] - 214s 695ms/step - loss: 0.8636 - acc: 0.7306 - val_loss: 2.4110 - val_acc: 0.4921\n",
      "Epoch 28/50\n",
      "308/308 [==============================] - ETA: 0s - loss: 0.8681 - acc: 0.7291\n",
      "Epoch 00028: val_acc did not improve from 0.61711\n",
      "308/308 [==============================] - 215s 698ms/step - loss: 0.8681 - acc: 0.7291 - val_loss: 1.6417 - val_acc: 0.5523\n",
      "Epoch 29/50\n",
      "308/308 [==============================] - ETA: 0s - loss: 0.8303 - acc: 0.7372\n",
      "Epoch 00029: val_acc did not improve from 0.61711\n",
      "308/308 [==============================] - 214s 694ms/step - loss: 0.8303 - acc: 0.7372 - val_loss: 2.1553 - val_acc: 0.4489\n",
      "Epoch 30/50\n",
      "308/308 [==============================] - ETA: 0s - loss: 0.8361 - acc: 0.7395\n",
      "Epoch 00030: val_acc did not improve from 0.61711\n",
      "308/308 [==============================] - 214s 694ms/step - loss: 0.8361 - acc: 0.7395 - val_loss: 1.5006 - val_acc: 0.5999\n",
      "Epoch 31/50\n",
      "308/308 [==============================] - ETA: 0s - loss: 0.8208 - acc: 0.7468\n",
      "Epoch 00031: val_acc did not improve from 0.61711\n",
      "308/308 [==============================] - 213s 692ms/step - loss: 0.8208 - acc: 0.7468 - val_loss: 1.3225 - val_acc: 0.5938\n",
      "Epoch 32/50\n",
      "308/308 [==============================] - ETA: 0s - loss: 0.7983 - acc: 0.7507\n",
      "Epoch 00032: val_acc improved from 0.61711 to 0.63785, saving model to ./drive/My Drive/food_11_weights/mobilenet-32-0.64.hdf5\n",
      "308/308 [==============================] - 215s 698ms/step - loss: 0.7983 - acc: 0.7507 - val_loss: 1.2756 - val_acc: 0.6379\n",
      "Epoch 33/50\n",
      "308/308 [==============================] - ETA: 0s - loss: 0.7895 - acc: 0.7541\n",
      "Epoch 00033: val_acc improved from 0.63785 to 0.68429, saving model to ./drive/My Drive/food_11_weights/mobilenet-33-0.68.hdf5\n",
      "308/308 [==============================] - 215s 698ms/step - loss: 0.7895 - acc: 0.7541 - val_loss: 0.9902 - val_acc: 0.6843\n",
      "Epoch 34/50\n",
      "308/308 [==============================] - ETA: 0s - loss: 0.7598 - acc: 0.7579\n",
      "Epoch 00034: val_acc did not improve from 0.68429\n",
      "308/308 [==============================] - 213s 693ms/step - loss: 0.7598 - acc: 0.7579 - val_loss: 2.1411 - val_acc: 0.4682\n",
      "Epoch 35/50\n",
      "308/308 [==============================] - ETA: 0s - loss: 0.7743 - acc: 0.7632\n",
      "Epoch 00035: val_acc did not improve from 0.68429\n",
      "308/308 [==============================] - 213s 691ms/step - loss: 0.7743 - acc: 0.7632 - val_loss: 1.1488 - val_acc: 0.6700\n",
      "Epoch 36/50\n",
      "308/308 [==============================] - ETA: 0s - loss: 0.7603 - acc: 0.7658\n",
      "Epoch 00036: val_acc did not improve from 0.68429\n",
      "308/308 [==============================] - 214s 696ms/step - loss: 0.7603 - acc: 0.7658 - val_loss: 1.4152 - val_acc: 0.6200\n",
      "Epoch 37/50\n",
      "308/308 [==============================] - ETA: 0s - loss: 0.7470 - acc: 0.7728\n",
      "Epoch 00037: val_acc did not improve from 0.68429\n",
      "308/308 [==============================] - 216s 701ms/step - loss: 0.7470 - acc: 0.7728 - val_loss: 1.1506 - val_acc: 0.6638\n",
      "Epoch 38/50\n",
      "308/308 [==============================] - ETA: 0s - loss: 0.7421 - acc: 0.7713\n",
      "Epoch 00038: val_acc did not improve from 0.68429\n",
      "308/308 [==============================] - 217s 705ms/step - loss: 0.7421 - acc: 0.7713 - val_loss: 1.6752 - val_acc: 0.6046\n",
      "Epoch 39/50\n",
      "308/308 [==============================] - ETA: 0s - loss: 0.7153 - acc: 0.7818\n",
      "Epoch 00039: val_acc did not improve from 0.68429\n",
      "308/308 [==============================] - 218s 706ms/step - loss: 0.7153 - acc: 0.7818 - val_loss: 1.2552 - val_acc: 0.6341\n",
      "Epoch 40/50\n",
      "308/308 [==============================] - ETA: 0s - loss: 0.7164 - acc: 0.7781\n",
      "Epoch 00040: val_acc did not improve from 0.68429\n",
      "308/308 [==============================] - 217s 704ms/step - loss: 0.7164 - acc: 0.7781 - val_loss: 1.3609 - val_acc: 0.5812\n",
      "Epoch 41/50\n",
      "308/308 [==============================] - ETA: 0s - loss: 0.7059 - acc: 0.7791\n",
      "Epoch 00041: val_acc improved from 0.68429 to 0.73919, saving model to ./drive/My Drive/food_11_weights/mobilenet-41-0.74.hdf5\n",
      "308/308 [==============================] - 218s 708ms/step - loss: 0.7059 - acc: 0.7791 - val_loss: 0.9103 - val_acc: 0.7392\n",
      "Epoch 42/50\n",
      "308/308 [==============================] - ETA: 0s - loss: 0.6999 - acc: 0.7899\n",
      "Epoch 00042: val_acc did not improve from 0.73919\n",
      "308/308 [==============================] - 218s 707ms/step - loss: 0.6999 - acc: 0.7899 - val_loss: 1.3313 - val_acc: 0.6101\n",
      "Epoch 43/50\n",
      "308/308 [==============================] - ETA: 0s - loss: 0.6859 - acc: 0.7863\n",
      "Epoch 00043: val_acc did not improve from 0.73919\n",
      "308/308 [==============================] - 216s 701ms/step - loss: 0.6859 - acc: 0.7863 - val_loss: 1.1189 - val_acc: 0.6843\n",
      "Epoch 44/50\n",
      "308/308 [==============================] - ETA: 0s - loss: 0.6757 - acc: 0.7954\n",
      "Epoch 00044: val_acc did not improve from 0.73919\n",
      "308/308 [==============================] - 216s 702ms/step - loss: 0.6757 - acc: 0.7954 - val_loss: 1.0885 - val_acc: 0.6790\n",
      "Epoch 45/50\n",
      "308/308 [==============================] - ETA: 0s - loss: 0.6651 - acc: 0.7954\n",
      "Epoch 00045: val_acc did not improve from 0.73919\n",
      "308/308 [==============================] - 215s 699ms/step - loss: 0.6651 - acc: 0.7954 - val_loss: 1.0910 - val_acc: 0.6922\n",
      "Epoch 46/50\n",
      "308/308 [==============================] - ETA: 0s - loss: 0.6664 - acc: 0.7935\n",
      "Epoch 00046: val_acc did not improve from 0.73919\n",
      "308/308 [==============================] - 216s 701ms/step - loss: 0.6664 - acc: 0.7935 - val_loss: 1.1553 - val_acc: 0.6749\n",
      "Epoch 47/50\n",
      "308/308 [==============================] - ETA: 0s - loss: 0.6694 - acc: 0.7995\n",
      "Epoch 00047: val_acc did not improve from 0.73919\n",
      "308/308 [==============================] - 215s 697ms/step - loss: 0.6694 - acc: 0.7995 - val_loss: 0.9788 - val_acc: 0.7100\n",
      "Epoch 48/50\n",
      "308/308 [==============================] - ETA: 0s - loss: 0.6430 - acc: 0.8011\n",
      "Epoch 00048: val_acc did not improve from 0.73919\n",
      "308/308 [==============================] - 216s 701ms/step - loss: 0.6430 - acc: 0.8011 - val_loss: 1.6338 - val_acc: 0.6221\n",
      "Epoch 49/50\n",
      "308/308 [==============================] - ETA: 0s - loss: 0.6431 - acc: 0.8058\n",
      "Epoch 00049: val_acc did not improve from 0.73919\n",
      "308/308 [==============================] - 214s 694ms/step - loss: 0.6431 - acc: 0.8058 - val_loss: 3.3815 - val_acc: 0.4241\n",
      "Epoch 50/50\n",
      "308/308 [==============================] - ETA: 0s - loss: 0.6422 - acc: 0.8008\n",
      "Epoch 00050: val_acc did not improve from 0.73919\n",
      "308/308 [==============================] - 214s 695ms/step - loss: 0.6422 - acc: 0.8008 - val_loss: 1.1895 - val_acc: 0.6779\n"
     ]
    },
    {
     "data": {
      "text/plain": [
       "<tensorflow.python.keras.callbacks.History at 0x7fb0906eeef0>"
      ]
     },
     "execution_count": 37,
     "metadata": {
      "tags": []
     },
     "output_type": "execute_result"
    }
   ],
   "source": [
    "#Let's train the model 50 epochs as it will take a lot of time\n",
    "\n",
    "model.fit_generator(\n",
    "    train_generator,\n",
    "    steps_per_epoch=train_generator.samples // BATCH_SIZE,\n",
    "    validation_data=validation_generator,\n",
    "    validation_steps=validation_generator.samples // BATCH_SIZE,\n",
    "    callbacks=[checkpoint, model_callback],\n",
    "    epochs=50\n",
    ")"
   ]
  },
  {
   "cell_type": "code",
   "execution_count": 38,
   "metadata": {
    "colab": {
     "base_uri": "https://localhost:8080/",
     "height": 34
    },
    "colab_type": "code",
    "id": "kJxh0GOSkI9q",
    "outputId": "8a7ebba2-bbc4-48e7-b440-826dc96dcdcc"
   },
   "outputs": [
    {
     "data": {
      "text/plain": [
       "dict_keys(['loss', 'acc', 'val_loss', 'val_acc'])"
      ]
     },
     "execution_count": 38,
     "metadata": {
      "tags": []
     },
     "output_type": "execute_result"
    }
   ],
   "source": [
    "model.history.history.keys()"
   ]
  },
  {
   "cell_type": "code",
   "execution_count": 0,
   "metadata": {
    "colab": {},
    "colab_type": "code",
    "id": "iYey1of0klff"
   },
   "outputs": [],
   "source": [
    "history = model.history.history"
   ]
  },
  {
   "cell_type": "code",
   "execution_count": 40,
   "metadata": {
    "colab": {
     "base_uri": "https://localhost:8080/",
     "height": 296
    },
    "colab_type": "code",
    "id": "UFiiqS0OnYVV",
    "outputId": "c03aa3a6-7df0-4c9c-a52b-448bb16f04fa"
   },
   "outputs": [
    {
     "data": {
      "text/plain": [
       "Text(0, 0.5, 'Accuracy')"
      ]
     },
     "execution_count": 40,
     "metadata": {
      "tags": []
     },
     "output_type": "execute_result"
    },
    {
     "data": {
      "image/png": "[encoded data removed]",
      "text/plain": [
       "<Figure size 432x288 with 1 Axes>"
      ]
     },
     "metadata": {
      "needs_background": "light",
      "tags": []
     },
     "output_type": "display_data"
    }
   ],
   "source": [
    "plt.plot(range(50), history['acc'])\n",
    "plt.plot(range(50), history['val_acc'])\n",
    "plt.xlabel('Epochs')\n",
    "plt.ylabel('Accuracy')"
   ]
  },
  {
   "cell_type": "markdown",
   "metadata": {
    "colab_type": "text",
    "id": "he7CLL_ARJNl"
   },
   "source": [
    "### Observations:\n",
    "\n",
    "The validation accuracy is far from training accuracy so model is starting to overfit on training data."
   ]
  },
  {
   "cell_type": "code",
   "execution_count": 41,
   "metadata": {
    "colab": {
     "base_uri": "https://localhost:8080/",
     "height": 282
    },
    "colab_type": "code",
    "id": "1MURS7pCoHLS",
    "outputId": "b2486aef-6e64-4ebe-98a1-d132c87f0eb4"
   },
   "outputs": [
    {
     "data": {
      "image/png": "[encoded data removed]",
      "text/plain": [
       "<Figure size 432x288 with 1 Axes>"
      ]
     },
     "metadata": {
      "needs_background": "light",
      "tags": []
     },
     "output_type": "display_data"
    }
   ],
   "source": [
    "plt.plot(range(50), history['loss'])\n",
    "plt.plot(range(50), history['val_loss'])\n",
    "plt.xlabel('Epochs')\n",
    "plt.ylabel('Loss')\n",
    "plt.show()"
   ]
  },
  {
   "cell_type": "markdown",
   "metadata": {
    "colab_type": "text",
    "id": "X8yfKv5LRY4p"
   },
   "source": [
    "### Training results:\n",
    "\n",
    "No of epochs: 50<br>\n",
    "Learning rate: 0.005<br>\n",
    "Momentum: 0.09<br>\n",
    "Optimizer: RMSprop<br>\n",
    "\n",
    "### Best model results \n",
    "Training accuracy: 0.8008<br>\n",
    "Validation accuracy: 0.73919<br>\n",
    "Found at epoch: 41<br>"
   ]
  },
  {
   "cell_type": "code",
   "execution_count": 0,
   "metadata": {
    "colab": {},
    "colab_type": "code",
    "id": "u-rI_j90QoAE"
   },
   "outputs": [],
   "source": []
  }
 ],
 "metadata": {
  "accelerator": "GPU",
  "colab": {
   "collapsed_sections": [],
   "name": "Model training.ipynb",
   "provenance": []
  },
  "kernelspec": {
   "display_name": "Python 3",
   "language": "python",
   "name": "python3"
  },
  "language_info": {
   "codemirror_mode": {
    "name": "ipython",
    "version": 3
   },
   "file_extension": ".py",
   "mimetype": "text/x-python",
   "name": "python",
   "nbconvert_exporter": "python",
   "pygments_lexer": "ipython3",
   "version": "3.7.6"
  }
 },
 "nbformat": 4,
 "nbformat_minor": 1
}
